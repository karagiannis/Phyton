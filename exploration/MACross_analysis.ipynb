{
 "cells": [
  {
   "cell_type": "code",
   "execution_count": 1,
   "id": "7eb92de7",
   "metadata": {},
   "outputs": [],
   "source": [
    "import pandas as pd\n",
    "from plotting import CandlePlot\n",
    "pd.set_option(\"display.max_columns\", None)"
   ]
  },
  {
   "cell_type": "code",
   "execution_count": 2,
   "id": "7f0e1611",
   "metadata": {},
   "outputs": [],
   "source": [
    "df_ma_res = pd.read_pickle(\"../data/ma_res.pkl\")\n",
    "df_ma_trades = pd.read_pickle(\"../data/ma_trades.pkl\")"
   ]
  },
  {
   "cell_type": "code",
   "execution_count": 3,
   "id": "8e835922",
   "metadata": {},
   "outputs": [
    {
     "data": {
      "text/html": [
       "<div>\n",
       "<style scoped>\n",
       "    .dataframe tbody tr th:only-of-type {\n",
       "        vertical-align: middle;\n",
       "    }\n",
       "\n",
       "    .dataframe tbody tr th {\n",
       "        vertical-align: top;\n",
       "    }\n",
       "\n",
       "    .dataframe thead th {\n",
       "        text-align: right;\n",
       "    }\n",
       "</style>\n",
       "<table border=\"1\" class=\"dataframe\">\n",
       "  <thead>\n",
       "    <tr style=\"text-align: right;\">\n",
       "      <th></th>\n",
       "      <th>pair</th>\n",
       "      <th>num_trades</th>\n",
       "      <th>total_gain</th>\n",
       "      <th>mean_gain</th>\n",
       "      <th>min_gain</th>\n",
       "      <th>max_gain</th>\n",
       "      <th>ma_l</th>\n",
       "      <th>ma_s</th>\n",
       "      <th>cross</th>\n",
       "      <th>granularity</th>\n",
       "    </tr>\n",
       "  </thead>\n",
       "  <tbody>\n",
       "    <tr>\n",
       "      <th>0</th>\n",
       "      <td>EUR_USD</td>\n",
       "      <td>257</td>\n",
       "      <td>-819</td>\n",
       "      <td>-3</td>\n",
       "      <td>-64</td>\n",
       "      <td>201</td>\n",
       "      <td>MA_20</td>\n",
       "      <td>MA_10</td>\n",
       "      <td>MA_10_MA_20</td>\n",
       "      <td>H1</td>\n",
       "    </tr>\n",
       "    <tr>\n",
       "      <th>1</th>\n",
       "      <td>EUR_USD</td>\n",
       "      <td>126</td>\n",
       "      <td>-154</td>\n",
       "      <td>-1</td>\n",
       "      <td>-59</td>\n",
       "      <td>207</td>\n",
       "      <td>MA_40</td>\n",
       "      <td>MA_10</td>\n",
       "      <td>MA_10_MA_40</td>\n",
       "      <td>H1</td>\n",
       "    </tr>\n",
       "    <tr>\n",
       "      <th>2</th>\n",
       "      <td>EUR_USD</td>\n",
       "      <td>117</td>\n",
       "      <td>-100</td>\n",
       "      <td>0</td>\n",
       "      <td>-81</td>\n",
       "      <td>199</td>\n",
       "      <td>MA_40</td>\n",
       "      <td>MA_20</td>\n",
       "      <td>MA_20_MA_40</td>\n",
       "      <td>H1</td>\n",
       "    </tr>\n",
       "    <tr>\n",
       "      <th>3</th>\n",
       "      <td>EUR_USD</td>\n",
       "      <td>129</td>\n",
       "      <td>-341</td>\n",
       "      <td>-2</td>\n",
       "      <td>-66</td>\n",
       "      <td>208</td>\n",
       "      <td>MA_40</td>\n",
       "      <td>MA_30</td>\n",
       "      <td>MA_30_MA_40</td>\n",
       "      <td>H1</td>\n",
       "    </tr>\n",
       "    <tr>\n",
       "      <th>4</th>\n",
       "      <td>EUR_USD</td>\n",
       "      <td>85</td>\n",
       "      <td>-913</td>\n",
       "      <td>-10</td>\n",
       "      <td>-118</td>\n",
       "      <td>190</td>\n",
       "      <td>MA_80</td>\n",
       "      <td>MA_10</td>\n",
       "      <td>MA_10_MA_80</td>\n",
       "      <td>H1</td>\n",
       "    </tr>\n",
       "  </tbody>\n",
       "</table>\n",
       "</div>"
      ],
      "text/plain": [
       "      pair  num_trades  total_gain  mean_gain  min_gain  max_gain   ma_l  \\\n",
       "0  EUR_USD         257        -819         -3       -64       201  MA_20   \n",
       "1  EUR_USD         126        -154         -1       -59       207  MA_40   \n",
       "2  EUR_USD         117        -100          0       -81       199  MA_40   \n",
       "3  EUR_USD         129        -341         -2       -66       208  MA_40   \n",
       "4  EUR_USD          85        -913        -10      -118       190  MA_80   \n",
       "\n",
       "    ma_s        cross granularity  \n",
       "0  MA_10  MA_10_MA_20          H1  \n",
       "1  MA_10  MA_10_MA_40          H1  \n",
       "2  MA_20  MA_20_MA_40          H1  \n",
       "3  MA_30  MA_30_MA_40          H1  \n",
       "4  MA_10  MA_10_MA_80          H1  "
      ]
     },
     "execution_count": 3,
     "metadata": {},
     "output_type": "execute_result"
    }
   ],
   "source": [
    "df_ma_res.head()"
   ]
  },
  {
   "cell_type": "code",
   "execution_count": 4,
   "id": "03093b03",
   "metadata": {},
   "outputs": [
    {
     "data": {
      "text/html": [
       "<div>\n",
       "<style scoped>\n",
       "    .dataframe tbody tr th:only-of-type {\n",
       "        vertical-align: middle;\n",
       "    }\n",
       "\n",
       "    .dataframe tbody tr th {\n",
       "        vertical-align: top;\n",
       "    }\n",
       "\n",
       "    .dataframe thead th {\n",
       "        text-align: right;\n",
       "    }\n",
       "</style>\n",
       "<table border=\"1\" class=\"dataframe\">\n",
       "  <thead>\n",
       "    <tr style=\"text-align: right;\">\n",
       "      <th></th>\n",
       "      <th>time</th>\n",
       "      <th>volume</th>\n",
       "      <th>mid_o</th>\n",
       "      <th>mid_h</th>\n",
       "      <th>mid_l</th>\n",
       "      <th>mid_c</th>\n",
       "      <th>bid_o</th>\n",
       "      <th>bid_h</th>\n",
       "      <th>bid_l</th>\n",
       "      <th>bid_c</th>\n",
       "      <th>ask_o</th>\n",
       "      <th>ask_h</th>\n",
       "      <th>ask_l</th>\n",
       "      <th>ask_c</th>\n",
       "      <th>MA_40</th>\n",
       "      <th>MA_10</th>\n",
       "      <th>MA_80</th>\n",
       "      <th>MA_20</th>\n",
       "      <th>MA_150</th>\n",
       "      <th>MA_120</th>\n",
       "      <th>MA_30</th>\n",
       "      <th>DELTA</th>\n",
       "      <th>DELTA_PREV</th>\n",
       "      <th>TRADE</th>\n",
       "      <th>DIFF</th>\n",
       "      <th>GAIN</th>\n",
       "      <th>granularity</th>\n",
       "      <th>pair</th>\n",
       "      <th>GAIN_C</th>\n",
       "      <th>ma_l</th>\n",
       "      <th>ma_s</th>\n",
       "      <th>cross</th>\n",
       "    </tr>\n",
       "  </thead>\n",
       "  <tbody>\n",
       "    <tr>\n",
       "      <th>0</th>\n",
       "      <td>2021-05-13 08:00:00+00:00</td>\n",
       "      <td>9476</td>\n",
       "      <td>1.20864</td>\n",
       "      <td>1.20946</td>\n",
       "      <td>1.20514</td>\n",
       "      <td>1.20624</td>\n",
       "      <td>1.20857</td>\n",
       "      <td>1.20939</td>\n",
       "      <td>1.20507</td>\n",
       "      <td>1.20617</td>\n",
       "      <td>1.20871</td>\n",
       "      <td>1.20953</td>\n",
       "      <td>1.20521</td>\n",
       "      <td>1.20631</td>\n",
       "      <td>1.210702</td>\n",
       "      <td>1.207990</td>\n",
       "      <td>1.213028</td>\n",
       "      <td>1.207819</td>\n",
       "      <td>1.209553</td>\n",
       "      <td>1.211774</td>\n",
       "      <td>1.209442</td>\n",
       "      <td>0.000171</td>\n",
       "      <td>-0.000045</td>\n",
       "      <td>1</td>\n",
       "      <td>0.00192</td>\n",
       "      <td>19.2</td>\n",
       "      <td>H1</td>\n",
       "      <td>EUR_USD</td>\n",
       "      <td>19.2</td>\n",
       "      <td>MA_20</td>\n",
       "      <td>MA_10</td>\n",
       "      <td>MA_10_MA_20</td>\n",
       "    </tr>\n",
       "    <tr>\n",
       "      <th>1</th>\n",
       "      <td>2021-05-13 12:00:00+00:00</td>\n",
       "      <td>10325</td>\n",
       "      <td>1.20799</td>\n",
       "      <td>1.20942</td>\n",
       "      <td>1.20730</td>\n",
       "      <td>1.20816</td>\n",
       "      <td>1.20792</td>\n",
       "      <td>1.20934</td>\n",
       "      <td>1.20723</td>\n",
       "      <td>1.20809</td>\n",
       "      <td>1.20806</td>\n",
       "      <td>1.20949</td>\n",
       "      <td>1.20737</td>\n",
       "      <td>1.20822</td>\n",
       "      <td>1.209923</td>\n",
       "      <td>1.207688</td>\n",
       "      <td>1.212629</td>\n",
       "      <td>1.207720</td>\n",
       "      <td>1.209711</td>\n",
       "      <td>1.211858</td>\n",
       "      <td>1.208793</td>\n",
       "      <td>-0.000032</td>\n",
       "      <td>0.000036</td>\n",
       "      <td>-1</td>\n",
       "      <td>0.00158</td>\n",
       "      <td>-15.8</td>\n",
       "      <td>H1</td>\n",
       "      <td>EUR_USD</td>\n",
       "      <td>3.4</td>\n",
       "      <td>MA_20</td>\n",
       "      <td>MA_10</td>\n",
       "      <td>MA_10_MA_20</td>\n",
       "    </tr>\n",
       "    <tr>\n",
       "      <th>2</th>\n",
       "      <td>2021-05-13 13:00:00+00:00</td>\n",
       "      <td>9480</td>\n",
       "      <td>1.20814</td>\n",
       "      <td>1.20978</td>\n",
       "      <td>1.20775</td>\n",
       "      <td>1.20974</td>\n",
       "      <td>1.20808</td>\n",
       "      <td>1.20971</td>\n",
       "      <td>1.20768</td>\n",
       "      <td>1.20968</td>\n",
       "      <td>1.20820</td>\n",
       "      <td>1.20985</td>\n",
       "      <td>1.20782</td>\n",
       "      <td>1.20980</td>\n",
       "      <td>1.209791</td>\n",
       "      <td>1.207896</td>\n",
       "      <td>1.212561</td>\n",
       "      <td>1.207831</td>\n",
       "      <td>1.209780</td>\n",
       "      <td>1.211887</td>\n",
       "      <td>1.208673</td>\n",
       "      <td>0.000065</td>\n",
       "      <td>-0.000032</td>\n",
       "      <td>1</td>\n",
       "      <td>-0.00177</td>\n",
       "      <td>-17.7</td>\n",
       "      <td>H1</td>\n",
       "      <td>EUR_USD</td>\n",
       "      <td>-14.3</td>\n",
       "      <td>MA_20</td>\n",
       "      <td>MA_10</td>\n",
       "      <td>MA_10_MA_20</td>\n",
       "    </tr>\n",
       "    <tr>\n",
       "      <th>3</th>\n",
       "      <td>2021-05-13 16:00:00+00:00</td>\n",
       "      <td>6327</td>\n",
       "      <td>1.20692</td>\n",
       "      <td>1.20910</td>\n",
       "      <td>1.20674</td>\n",
       "      <td>1.20797</td>\n",
       "      <td>1.20686</td>\n",
       "      <td>1.20903</td>\n",
       "      <td>1.20666</td>\n",
       "      <td>1.20791</td>\n",
       "      <td>1.20699</td>\n",
       "      <td>1.20916</td>\n",
       "      <td>1.20681</td>\n",
       "      <td>1.20803</td>\n",
       "      <td>1.209275</td>\n",
       "      <td>1.207664</td>\n",
       "      <td>1.212240</td>\n",
       "      <td>1.207810</td>\n",
       "      <td>1.209918</td>\n",
       "      <td>1.211941</td>\n",
       "      <td>1.208099</td>\n",
       "      <td>-0.000146</td>\n",
       "      <td>0.000042</td>\n",
       "      <td>-1</td>\n",
       "      <td>-0.00007</td>\n",
       "      <td>0.7</td>\n",
       "      <td>H1</td>\n",
       "      <td>EUR_USD</td>\n",
       "      <td>-13.6</td>\n",
       "      <td>MA_20</td>\n",
       "      <td>MA_10</td>\n",
       "      <td>MA_10_MA_20</td>\n",
       "    </tr>\n",
       "    <tr>\n",
       "      <th>4</th>\n",
       "      <td>2021-05-13 20:00:00+00:00</td>\n",
       "      <td>1319</td>\n",
       "      <td>1.20858</td>\n",
       "      <td>1.20862</td>\n",
       "      <td>1.20784</td>\n",
       "      <td>1.20790</td>\n",
       "      <td>1.20853</td>\n",
       "      <td>1.20855</td>\n",
       "      <td>1.20767</td>\n",
       "      <td>1.20767</td>\n",
       "      <td>1.20864</td>\n",
       "      <td>1.20868</td>\n",
       "      <td>1.20791</td>\n",
       "      <td>1.20812</td>\n",
       "      <td>1.208792</td>\n",
       "      <td>1.207865</td>\n",
       "      <td>1.211791</td>\n",
       "      <td>1.207805</td>\n",
       "      <td>1.210115</td>\n",
       "      <td>1.211994</td>\n",
       "      <td>1.207696</td>\n",
       "      <td>0.000060</td>\n",
       "      <td>-0.000053</td>\n",
       "      <td>1</td>\n",
       "      <td>-0.00022</td>\n",
       "      <td>-2.2</td>\n",
       "      <td>H1</td>\n",
       "      <td>EUR_USD</td>\n",
       "      <td>-15.8</td>\n",
       "      <td>MA_20</td>\n",
       "      <td>MA_10</td>\n",
       "      <td>MA_10_MA_20</td>\n",
       "    </tr>\n",
       "  </tbody>\n",
       "</table>\n",
       "</div>"
      ],
      "text/plain": [
       "                       time  volume    mid_o    mid_h    mid_l    mid_c  \\\n",
       "0 2021-05-13 08:00:00+00:00    9476  1.20864  1.20946  1.20514  1.20624   \n",
       "1 2021-05-13 12:00:00+00:00   10325  1.20799  1.20942  1.20730  1.20816   \n",
       "2 2021-05-13 13:00:00+00:00    9480  1.20814  1.20978  1.20775  1.20974   \n",
       "3 2021-05-13 16:00:00+00:00    6327  1.20692  1.20910  1.20674  1.20797   \n",
       "4 2021-05-13 20:00:00+00:00    1319  1.20858  1.20862  1.20784  1.20790   \n",
       "\n",
       "     bid_o    bid_h    bid_l    bid_c    ask_o    ask_h    ask_l    ask_c  \\\n",
       "0  1.20857  1.20939  1.20507  1.20617  1.20871  1.20953  1.20521  1.20631   \n",
       "1  1.20792  1.20934  1.20723  1.20809  1.20806  1.20949  1.20737  1.20822   \n",
       "2  1.20808  1.20971  1.20768  1.20968  1.20820  1.20985  1.20782  1.20980   \n",
       "3  1.20686  1.20903  1.20666  1.20791  1.20699  1.20916  1.20681  1.20803   \n",
       "4  1.20853  1.20855  1.20767  1.20767  1.20864  1.20868  1.20791  1.20812   \n",
       "\n",
       "      MA_40     MA_10     MA_80     MA_20    MA_150    MA_120     MA_30  \\\n",
       "0  1.210702  1.207990  1.213028  1.207819  1.209553  1.211774  1.209442   \n",
       "1  1.209923  1.207688  1.212629  1.207720  1.209711  1.211858  1.208793   \n",
       "2  1.209791  1.207896  1.212561  1.207831  1.209780  1.211887  1.208673   \n",
       "3  1.209275  1.207664  1.212240  1.207810  1.209918  1.211941  1.208099   \n",
       "4  1.208792  1.207865  1.211791  1.207805  1.210115  1.211994  1.207696   \n",
       "\n",
       "      DELTA  DELTA_PREV  TRADE     DIFF  GAIN granularity     pair  GAIN_C  \\\n",
       "0  0.000171   -0.000045      1  0.00192  19.2          H1  EUR_USD    19.2   \n",
       "1 -0.000032    0.000036     -1  0.00158 -15.8          H1  EUR_USD     3.4   \n",
       "2  0.000065   -0.000032      1 -0.00177 -17.7          H1  EUR_USD   -14.3   \n",
       "3 -0.000146    0.000042     -1 -0.00007   0.7          H1  EUR_USD   -13.6   \n",
       "4  0.000060   -0.000053      1 -0.00022  -2.2          H1  EUR_USD   -15.8   \n",
       "\n",
       "    ma_l   ma_s        cross  \n",
       "0  MA_20  MA_10  MA_10_MA_20  \n",
       "1  MA_20  MA_10  MA_10_MA_20  \n",
       "2  MA_20  MA_10  MA_10_MA_20  \n",
       "3  MA_20  MA_10  MA_10_MA_20  \n",
       "4  MA_20  MA_10  MA_10_MA_20  "
      ]
     },
     "execution_count": 4,
     "metadata": {},
     "output_type": "execute_result"
    }
   ],
   "source": [
    "df_ma_trades.head()"
   ]
  },
  {
   "cell_type": "code",
   "execution_count": 5,
   "id": "3473e706",
   "metadata": {},
   "outputs": [
    {
     "name": "stdout",
     "output_type": "stream",
     "text": [
      "<class 'pandas.core.frame.DataFrame'>\n",
      "RangeIndex: 37073 entries, 0 to 37072\n",
      "Data columns (total 32 columns):\n",
      " #   Column       Non-Null Count  Dtype                  \n",
      "---  ------       --------------  -----                  \n",
      " 0   time         37073 non-null  datetime64[ns, tzutc()]\n",
      " 1   volume       37073 non-null  int64                  \n",
      " 2   mid_o        37073 non-null  float64                \n",
      " 3   mid_h        37073 non-null  float64                \n",
      " 4   mid_l        37073 non-null  float64                \n",
      " 5   mid_c        37073 non-null  float64                \n",
      " 6   bid_o        37073 non-null  float64                \n",
      " 7   bid_h        37073 non-null  float64                \n",
      " 8   bid_l        37073 non-null  float64                \n",
      " 9   bid_c        37073 non-null  float64                \n",
      " 10  ask_o        37073 non-null  float64                \n",
      " 11  ask_h        37073 non-null  float64                \n",
      " 12  ask_l        37073 non-null  float64                \n",
      " 13  ask_c        37073 non-null  float64                \n",
      " 14  MA_40        37073 non-null  float64                \n",
      " 15  MA_10        37073 non-null  float64                \n",
      " 16  MA_80        37073 non-null  float64                \n",
      " 17  MA_20        37073 non-null  float64                \n",
      " 18  MA_150       37073 non-null  float64                \n",
      " 19  MA_120       37073 non-null  float64                \n",
      " 20  MA_30        37073 non-null  float64                \n",
      " 21  DELTA        37073 non-null  float64                \n",
      " 22  DELTA_PREV   37073 non-null  float64                \n",
      " 23  TRADE        37073 non-null  int64                  \n",
      " 24  DIFF         37073 non-null  float64                \n",
      " 25  GAIN         37073 non-null  float64                \n",
      " 26  granularity  37073 non-null  object                 \n",
      " 27  pair         37073 non-null  object                 \n",
      " 28  GAIN_C       37073 non-null  float64                \n",
      " 29  ma_l         37073 non-null  object                 \n",
      " 30  ma_s         37073 non-null  object                 \n",
      " 31  cross        37073 non-null  object                 \n",
      "dtypes: datetime64[ns, tzutc()](1), float64(24), int64(2), object(5)\n",
      "memory usage: 9.1+ MB\n"
     ]
    }
   ],
   "source": [
    "df_ma_trades.info()"
   ]
  },
  {
   "cell_type": "code",
   "execution_count": 6,
   "id": "21f6037f",
   "metadata": {},
   "outputs": [
    {
     "name": "stdout",
     "output_type": "stream",
     "text": [
      "<class 'pandas.core.frame.DataFrame'>\n",
      "RangeIndex: 480 entries, 0 to 479\n",
      "Data columns (total 10 columns):\n",
      " #   Column       Non-Null Count  Dtype \n",
      "---  ------       --------------  ----- \n",
      " 0   pair         480 non-null    object\n",
      " 1   num_trades   480 non-null    int64 \n",
      " 2   total_gain   480 non-null    int64 \n",
      " 3   mean_gain    480 non-null    int64 \n",
      " 4   min_gain     480 non-null    int64 \n",
      " 5   max_gain     480 non-null    int64 \n",
      " 6   ma_l         480 non-null    object\n",
      " 7   ma_s         480 non-null    object\n",
      " 8   cross        480 non-null    object\n",
      " 9   granularity  480 non-null    object\n",
      "dtypes: int64(5), object(5)\n",
      "memory usage: 37.6+ KB\n"
     ]
    }
   ],
   "source": [
    "df_ma_res.info()"
   ]
  },
  {
   "cell_type": "code",
   "execution_count": 7,
   "id": "52a2d8aa",
   "metadata": {},
   "outputs": [
    {
     "data": {
      "text/plain": [
       "array(['H1', 'H4'], dtype=object)"
      ]
     },
     "execution_count": 7,
     "metadata": {},
     "output_type": "execute_result"
    }
   ],
   "source": [
    "df_ma_res.granularity.unique()"
   ]
  },
  {
   "cell_type": "code",
   "execution_count": 8,
   "id": "7d1018c6",
   "metadata": {},
   "outputs": [],
   "source": [
    "df_ma_res_h1 = df_ma_res[df_ma_res.granularity==\"H1\"].copy()\n",
    "df_ma_trades_h1 = df_ma_trades[df_ma_trades.granularity==\"H1\"].copy()"
   ]
  },
  {
   "cell_type": "code",
   "execution_count": 9,
   "id": "b931216d",
   "metadata": {},
   "outputs": [
    {
     "data": {
      "text/plain": [
       "(18303, 32)"
      ]
     },
     "execution_count": 9,
     "metadata": {},
     "output_type": "execute_result"
    }
   ],
   "source": [
    "df_ma_trades_h1.shape"
   ]
  },
  {
   "cell_type": "code",
   "execution_count": 10,
   "id": "00f30dcc",
   "metadata": {},
   "outputs": [
    {
     "data": {
      "text/plain": [
       "Index(['pair', 'num_trades', 'total_gain', 'mean_gain', 'min_gain', 'max_gain',\n",
       "       'ma_l', 'ma_s', 'cross', 'granularity'],\n",
       "      dtype='object')"
      ]
     },
     "execution_count": 10,
     "metadata": {},
     "output_type": "execute_result"
    }
   ],
   "source": [
    "df_ma_res_h1.columns"
   ]
  },
  {
   "cell_type": "code",
   "execution_count": 11,
   "id": "fe565f9c",
   "metadata": {},
   "outputs": [
    {
     "data": {
      "text/html": [
       "<div>\n",
       "<style scoped>\n",
       "    .dataframe tbody tr th:only-of-type {\n",
       "        vertical-align: middle;\n",
       "    }\n",
       "\n",
       "    .dataframe tbody tr th {\n",
       "        vertical-align: top;\n",
       "    }\n",
       "\n",
       "    .dataframe thead th {\n",
       "        text-align: right;\n",
       "    }\n",
       "</style>\n",
       "<table border=\"1\" class=\"dataframe\">\n",
       "  <thead>\n",
       "    <tr style=\"text-align: right;\">\n",
       "      <th></th>\n",
       "      <th>pair</th>\n",
       "      <th>num_trades</th>\n",
       "      <th>total_gain</th>\n",
       "      <th>mean_gain</th>\n",
       "      <th>min_gain</th>\n",
       "      <th>max_gain</th>\n",
       "      <th>ma_l</th>\n",
       "      <th>ma_s</th>\n",
       "      <th>cross</th>\n",
       "      <th>granularity</th>\n",
       "    </tr>\n",
       "  </thead>\n",
       "  <tbody>\n",
       "    <tr>\n",
       "      <th>0</th>\n",
       "      <td>EUR_USD</td>\n",
       "      <td>257</td>\n",
       "      <td>-819</td>\n",
       "      <td>-3</td>\n",
       "      <td>-64</td>\n",
       "      <td>201</td>\n",
       "      <td>MA_20</td>\n",
       "      <td>MA_10</td>\n",
       "      <td>MA_10_MA_20</td>\n",
       "      <td>H1</td>\n",
       "    </tr>\n",
       "    <tr>\n",
       "      <th>1</th>\n",
       "      <td>EUR_USD</td>\n",
       "      <td>126</td>\n",
       "      <td>-154</td>\n",
       "      <td>-1</td>\n",
       "      <td>-59</td>\n",
       "      <td>207</td>\n",
       "      <td>MA_40</td>\n",
       "      <td>MA_10</td>\n",
       "      <td>MA_10_MA_40</td>\n",
       "      <td>H1</td>\n",
       "    </tr>\n",
       "    <tr>\n",
       "      <th>2</th>\n",
       "      <td>EUR_USD</td>\n",
       "      <td>117</td>\n",
       "      <td>-100</td>\n",
       "      <td>0</td>\n",
       "      <td>-81</td>\n",
       "      <td>199</td>\n",
       "      <td>MA_40</td>\n",
       "      <td>MA_20</td>\n",
       "      <td>MA_20_MA_40</td>\n",
       "      <td>H1</td>\n",
       "    </tr>\n",
       "    <tr>\n",
       "      <th>3</th>\n",
       "      <td>EUR_USD</td>\n",
       "      <td>129</td>\n",
       "      <td>-341</td>\n",
       "      <td>-2</td>\n",
       "      <td>-66</td>\n",
       "      <td>208</td>\n",
       "      <td>MA_40</td>\n",
       "      <td>MA_30</td>\n",
       "      <td>MA_30_MA_40</td>\n",
       "      <td>H1</td>\n",
       "    </tr>\n",
       "    <tr>\n",
       "      <th>4</th>\n",
       "      <td>EUR_USD</td>\n",
       "      <td>85</td>\n",
       "      <td>-913</td>\n",
       "      <td>-10</td>\n",
       "      <td>-118</td>\n",
       "      <td>190</td>\n",
       "      <td>MA_80</td>\n",
       "      <td>MA_10</td>\n",
       "      <td>MA_10_MA_80</td>\n",
       "      <td>H1</td>\n",
       "    </tr>\n",
       "    <tr>\n",
       "      <th>...</th>\n",
       "      <td>...</td>\n",
       "      <td>...</td>\n",
       "      <td>...</td>\n",
       "      <td>...</td>\n",
       "      <td>...</td>\n",
       "      <td>...</td>\n",
       "      <td>...</td>\n",
       "      <td>...</td>\n",
       "      <td>...</td>\n",
       "      <td>...</td>\n",
       "    </tr>\n",
       "    <tr>\n",
       "      <th>235</th>\n",
       "      <td>CAD_JPY</td>\n",
       "      <td>40</td>\n",
       "      <td>-592</td>\n",
       "      <td>-14</td>\n",
       "      <td>-189</td>\n",
       "      <td>416</td>\n",
       "      <td>MA_120</td>\n",
       "      <td>MA_40</td>\n",
       "      <td>MA_40_MA_120</td>\n",
       "      <td>H1</td>\n",
       "    </tr>\n",
       "    <tr>\n",
       "      <th>236</th>\n",
       "      <td>CAD_JPY</td>\n",
       "      <td>50</td>\n",
       "      <td>-226</td>\n",
       "      <td>-4</td>\n",
       "      <td>-118</td>\n",
       "      <td>427</td>\n",
       "      <td>MA_150</td>\n",
       "      <td>MA_10</td>\n",
       "      <td>MA_10_MA_150</td>\n",
       "      <td>H1</td>\n",
       "    </tr>\n",
       "    <tr>\n",
       "      <th>237</th>\n",
       "      <td>CAD_JPY</td>\n",
       "      <td>40</td>\n",
       "      <td>-199</td>\n",
       "      <td>-4</td>\n",
       "      <td>-134</td>\n",
       "      <td>437</td>\n",
       "      <td>MA_150</td>\n",
       "      <td>MA_20</td>\n",
       "      <td>MA_20_MA_150</td>\n",
       "      <td>H1</td>\n",
       "    </tr>\n",
       "    <tr>\n",
       "      <th>238</th>\n",
       "      <td>CAD_JPY</td>\n",
       "      <td>34</td>\n",
       "      <td>-418</td>\n",
       "      <td>-12</td>\n",
       "      <td>-195</td>\n",
       "      <td>415</td>\n",
       "      <td>MA_150</td>\n",
       "      <td>MA_30</td>\n",
       "      <td>MA_30_MA_150</td>\n",
       "      <td>H1</td>\n",
       "    </tr>\n",
       "    <tr>\n",
       "      <th>239</th>\n",
       "      <td>CAD_JPY</td>\n",
       "      <td>38</td>\n",
       "      <td>-823</td>\n",
       "      <td>-21</td>\n",
       "      <td>-220</td>\n",
       "      <td>351</td>\n",
       "      <td>MA_150</td>\n",
       "      <td>MA_40</td>\n",
       "      <td>MA_40_MA_150</td>\n",
       "      <td>H1</td>\n",
       "    </tr>\n",
       "  </tbody>\n",
       "</table>\n",
       "<p>240 rows × 10 columns</p>\n",
       "</div>"
      ],
      "text/plain": [
       "        pair  num_trades  total_gain  mean_gain  min_gain  max_gain    ma_l  \\\n",
       "0    EUR_USD         257        -819         -3       -64       201   MA_20   \n",
       "1    EUR_USD         126        -154         -1       -59       207   MA_40   \n",
       "2    EUR_USD         117        -100          0       -81       199   MA_40   \n",
       "3    EUR_USD         129        -341         -2       -66       208   MA_40   \n",
       "4    EUR_USD          85        -913        -10      -118       190   MA_80   \n",
       "..       ...         ...         ...        ...       ...       ...     ...   \n",
       "235  CAD_JPY          40        -592        -14      -189       416  MA_120   \n",
       "236  CAD_JPY          50        -226         -4      -118       427  MA_150   \n",
       "237  CAD_JPY          40        -199         -4      -134       437  MA_150   \n",
       "238  CAD_JPY          34        -418        -12      -195       415  MA_150   \n",
       "239  CAD_JPY          38        -823        -21      -220       351  MA_150   \n",
       "\n",
       "      ma_s         cross granularity  \n",
       "0    MA_10   MA_10_MA_20          H1  \n",
       "1    MA_10   MA_10_MA_40          H1  \n",
       "2    MA_20   MA_20_MA_40          H1  \n",
       "3    MA_30   MA_30_MA_40          H1  \n",
       "4    MA_10   MA_10_MA_80          H1  \n",
       "..     ...           ...         ...  \n",
       "235  MA_40  MA_40_MA_120          H1  \n",
       "236  MA_10  MA_10_MA_150          H1  \n",
       "237  MA_20  MA_20_MA_150          H1  \n",
       "238  MA_30  MA_30_MA_150          H1  \n",
       "239  MA_40  MA_40_MA_150          H1  \n",
       "\n",
       "[240 rows x 10 columns]"
      ]
     },
     "execution_count": 11,
     "metadata": {},
     "output_type": "execute_result"
    }
   ],
   "source": [
    "df_ma_res_h1"
   ]
  },
  {
   "cell_type": "code",
   "execution_count": 12,
   "id": "a6b899fd",
   "metadata": {},
   "outputs": [],
   "source": [
    "df_cross_summary = df_ma_res_h1[['pair', 'num_trades', 'total_gain', 'cross']].copy()"
   ]
  },
  {
   "cell_type": "code",
   "execution_count": 13,
   "id": "b4c94fb8",
   "metadata": {},
   "outputs": [
    {
     "data": {
      "text/html": [
       "<div>\n",
       "<style scoped>\n",
       "    .dataframe tbody tr th:only-of-type {\n",
       "        vertical-align: middle;\n",
       "    }\n",
       "\n",
       "    .dataframe tbody tr th {\n",
       "        vertical-align: top;\n",
       "    }\n",
       "\n",
       "    .dataframe thead th {\n",
       "        text-align: right;\n",
       "    }\n",
       "</style>\n",
       "<table border=\"1\" class=\"dataframe\">\n",
       "  <thead>\n",
       "    <tr style=\"text-align: right;\">\n",
       "      <th></th>\n",
       "      <th>pair</th>\n",
       "      <th>num_trades</th>\n",
       "      <th>total_gain</th>\n",
       "      <th>cross</th>\n",
       "    </tr>\n",
       "  </thead>\n",
       "  <tbody>\n",
       "    <tr>\n",
       "      <th>0</th>\n",
       "      <td>EUR_USD</td>\n",
       "      <td>257</td>\n",
       "      <td>-819</td>\n",
       "      <td>MA_10_MA_20</td>\n",
       "    </tr>\n",
       "    <tr>\n",
       "      <th>1</th>\n",
       "      <td>EUR_USD</td>\n",
       "      <td>126</td>\n",
       "      <td>-154</td>\n",
       "      <td>MA_10_MA_40</td>\n",
       "    </tr>\n",
       "    <tr>\n",
       "      <th>2</th>\n",
       "      <td>EUR_USD</td>\n",
       "      <td>117</td>\n",
       "      <td>-100</td>\n",
       "      <td>MA_20_MA_40</td>\n",
       "    </tr>\n",
       "    <tr>\n",
       "      <th>3</th>\n",
       "      <td>EUR_USD</td>\n",
       "      <td>129</td>\n",
       "      <td>-341</td>\n",
       "      <td>MA_30_MA_40</td>\n",
       "    </tr>\n",
       "    <tr>\n",
       "      <th>4</th>\n",
       "      <td>EUR_USD</td>\n",
       "      <td>85</td>\n",
       "      <td>-913</td>\n",
       "      <td>MA_10_MA_80</td>\n",
       "    </tr>\n",
       "    <tr>\n",
       "      <th>...</th>\n",
       "      <td>...</td>\n",
       "      <td>...</td>\n",
       "      <td>...</td>\n",
       "      <td>...</td>\n",
       "    </tr>\n",
       "    <tr>\n",
       "      <th>235</th>\n",
       "      <td>CAD_JPY</td>\n",
       "      <td>40</td>\n",
       "      <td>-592</td>\n",
       "      <td>MA_40_MA_120</td>\n",
       "    </tr>\n",
       "    <tr>\n",
       "      <th>236</th>\n",
       "      <td>CAD_JPY</td>\n",
       "      <td>50</td>\n",
       "      <td>-226</td>\n",
       "      <td>MA_10_MA_150</td>\n",
       "    </tr>\n",
       "    <tr>\n",
       "      <th>237</th>\n",
       "      <td>CAD_JPY</td>\n",
       "      <td>40</td>\n",
       "      <td>-199</td>\n",
       "      <td>MA_20_MA_150</td>\n",
       "    </tr>\n",
       "    <tr>\n",
       "      <th>238</th>\n",
       "      <td>CAD_JPY</td>\n",
       "      <td>34</td>\n",
       "      <td>-418</td>\n",
       "      <td>MA_30_MA_150</td>\n",
       "    </tr>\n",
       "    <tr>\n",
       "      <th>239</th>\n",
       "      <td>CAD_JPY</td>\n",
       "      <td>38</td>\n",
       "      <td>-823</td>\n",
       "      <td>MA_40_MA_150</td>\n",
       "    </tr>\n",
       "  </tbody>\n",
       "</table>\n",
       "<p>240 rows × 4 columns</p>\n",
       "</div>"
      ],
      "text/plain": [
       "        pair  num_trades  total_gain         cross\n",
       "0    EUR_USD         257        -819   MA_10_MA_20\n",
       "1    EUR_USD         126        -154   MA_10_MA_40\n",
       "2    EUR_USD         117        -100   MA_20_MA_40\n",
       "3    EUR_USD         129        -341   MA_30_MA_40\n",
       "4    EUR_USD          85        -913   MA_10_MA_80\n",
       "..       ...         ...         ...           ...\n",
       "235  CAD_JPY          40        -592  MA_40_MA_120\n",
       "236  CAD_JPY          50        -226  MA_10_MA_150\n",
       "237  CAD_JPY          40        -199  MA_20_MA_150\n",
       "238  CAD_JPY          34        -418  MA_30_MA_150\n",
       "239  CAD_JPY          38        -823  MA_40_MA_150\n",
       "\n",
       "[240 rows x 4 columns]"
      ]
     },
     "execution_count": 13,
     "metadata": {},
     "output_type": "execute_result"
    }
   ],
   "source": [
    "df_cross_summary"
   ]
  },
  {
   "cell_type": "code",
   "execution_count": 14,
   "id": "2893f595",
   "metadata": {},
   "outputs": [
    {
     "name": "stderr",
     "output_type": "stream",
     "text": [
      "/tmp/ipykernel_7575/2871877862.py:1: FutureWarning: The default value of numeric_only in DataFrameGroupBy.sum is deprecated. In a future version, numeric_only will default to False. Either specify numeric_only or select only columns which should be valid for the function.\n",
      "  df_cross_gr = df_cross_summary.groupby(by=\"cross\",as_index=False).sum()\n"
     ]
    }
   ],
   "source": [
    "df_cross_gr = df_cross_summary.groupby(by=\"cross\",as_index=False).sum()\n",
    "df_cross_gr.sort_values(by=\"total_gain\", ascending=False, inplace = True)"
   ]
  },
  {
   "cell_type": "code",
   "execution_count": 15,
   "id": "4137cc86",
   "metadata": {},
   "outputs": [
    {
     "data": {
      "text/html": [
       "<div>\n",
       "<style scoped>\n",
       "    .dataframe tbody tr th:only-of-type {\n",
       "        vertical-align: middle;\n",
       "    }\n",
       "\n",
       "    .dataframe tbody tr th {\n",
       "        vertical-align: top;\n",
       "    }\n",
       "\n",
       "    .dataframe thead th {\n",
       "        text-align: right;\n",
       "    }\n",
       "</style>\n",
       "<table border=\"1\" class=\"dataframe\">\n",
       "  <thead>\n",
       "    <tr style=\"text-align: right;\">\n",
       "      <th></th>\n",
       "      <th>cross</th>\n",
       "      <th>num_trades</th>\n",
       "      <th>total_gain</th>\n",
       "    </tr>\n",
       "  </thead>\n",
       "  <tbody>\n",
       "    <tr>\n",
       "      <th>11</th>\n",
       "      <td>MA_30_MA_40</td>\n",
       "      <td>1871</td>\n",
       "      <td>887</td>\n",
       "    </tr>\n",
       "    <tr>\n",
       "      <th>2</th>\n",
       "      <td>MA_10_MA_20</td>\n",
       "      <td>3338</td>\n",
       "      <td>-81</td>\n",
       "    </tr>\n",
       "    <tr>\n",
       "      <th>7</th>\n",
       "      <td>MA_20_MA_40</td>\n",
       "      <td>1668</td>\n",
       "      <td>-994</td>\n",
       "    </tr>\n",
       "    <tr>\n",
       "      <th>3</th>\n",
       "      <td>MA_10_MA_40</td>\n",
       "      <td>1835</td>\n",
       "      <td>-2729</td>\n",
       "    </tr>\n",
       "    <tr>\n",
       "      <th>12</th>\n",
       "      <td>MA_30_MA_80</td>\n",
       "      <td>870</td>\n",
       "      <td>-2849</td>\n",
       "    </tr>\n",
       "    <tr>\n",
       "      <th>8</th>\n",
       "      <td>MA_20_MA_80</td>\n",
       "      <td>955</td>\n",
       "      <td>-4042</td>\n",
       "    </tr>\n",
       "    <tr>\n",
       "      <th>1</th>\n",
       "      <td>MA_10_MA_150</td>\n",
       "      <td>865</td>\n",
       "      <td>-5262</td>\n",
       "    </tr>\n",
       "    <tr>\n",
       "      <th>4</th>\n",
       "      <td>MA_10_MA_80</td>\n",
       "      <td>1230</td>\n",
       "      <td>-5592</td>\n",
       "    </tr>\n",
       "    <tr>\n",
       "      <th>0</th>\n",
       "      <td>MA_10_MA_120</td>\n",
       "      <td>976</td>\n",
       "      <td>-6474</td>\n",
       "    </tr>\n",
       "    <tr>\n",
       "      <th>6</th>\n",
       "      <td>MA_20_MA_150</td>\n",
       "      <td>679</td>\n",
       "      <td>-6539</td>\n",
       "    </tr>\n",
       "    <tr>\n",
       "      <th>5</th>\n",
       "      <td>MA_20_MA_120</td>\n",
       "      <td>740</td>\n",
       "      <td>-6673</td>\n",
       "    </tr>\n",
       "    <tr>\n",
       "      <th>15</th>\n",
       "      <td>MA_40_MA_80</td>\n",
       "      <td>849</td>\n",
       "      <td>-7058</td>\n",
       "    </tr>\n",
       "    <tr>\n",
       "      <th>10</th>\n",
       "      <td>MA_30_MA_150</td>\n",
       "      <td>590</td>\n",
       "      <td>-7831</td>\n",
       "    </tr>\n",
       "    <tr>\n",
       "      <th>13</th>\n",
       "      <td>MA_40_MA_120</td>\n",
       "      <td>624</td>\n",
       "      <td>-8144</td>\n",
       "    </tr>\n",
       "    <tr>\n",
       "      <th>14</th>\n",
       "      <td>MA_40_MA_150</td>\n",
       "      <td>554</td>\n",
       "      <td>-8394</td>\n",
       "    </tr>\n",
       "    <tr>\n",
       "      <th>9</th>\n",
       "      <td>MA_30_MA_120</td>\n",
       "      <td>659</td>\n",
       "      <td>-9267</td>\n",
       "    </tr>\n",
       "  </tbody>\n",
       "</table>\n",
       "</div>"
      ],
      "text/plain": [
       "           cross  num_trades  total_gain\n",
       "11   MA_30_MA_40        1871         887\n",
       "2    MA_10_MA_20        3338         -81\n",
       "7    MA_20_MA_40        1668        -994\n",
       "3    MA_10_MA_40        1835       -2729\n",
       "12   MA_30_MA_80         870       -2849\n",
       "8    MA_20_MA_80         955       -4042\n",
       "1   MA_10_MA_150         865       -5262\n",
       "4    MA_10_MA_80        1230       -5592\n",
       "0   MA_10_MA_120         976       -6474\n",
       "6   MA_20_MA_150         679       -6539\n",
       "5   MA_20_MA_120         740       -6673\n",
       "15   MA_40_MA_80         849       -7058\n",
       "10  MA_30_MA_150         590       -7831\n",
       "13  MA_40_MA_120         624       -8144\n",
       "14  MA_40_MA_150         554       -8394\n",
       "9   MA_30_MA_120         659       -9267"
      ]
     },
     "execution_count": 15,
     "metadata": {},
     "output_type": "execute_result"
    }
   ],
   "source": [
    "df_cross_gr"
   ]
  },
  {
   "cell_type": "code",
   "execution_count": 16,
   "id": "07e71154",
   "metadata": {},
   "outputs": [],
   "source": [
    "total_pairs = len(df_ma_res_h1.pair.unique())"
   ]
  },
  {
   "cell_type": "code",
   "execution_count": 17,
   "id": "920d9ce9",
   "metadata": {},
   "outputs": [
    {
     "data": {
      "text/plain": [
       "15"
      ]
     },
     "execution_count": 17,
     "metadata": {},
     "output_type": "execute_result"
    }
   ],
   "source": [
    "total_pairs"
   ]
  },
  {
   "cell_type": "code",
   "execution_count": 18,
   "id": "2e64139a",
   "metadata": {},
   "outputs": [
    {
     "data": {
      "text/plain": [
       "0       MA_10_MA_20\n",
       "1       MA_10_MA_40\n",
       "2       MA_20_MA_40\n",
       "3       MA_30_MA_40\n",
       "4       MA_10_MA_80\n",
       "           ...     \n",
       "235    MA_40_MA_120\n",
       "236    MA_10_MA_150\n",
       "237    MA_20_MA_150\n",
       "238    MA_30_MA_150\n",
       "239    MA_40_MA_150\n",
       "Name: cross, Length: 240, dtype: object"
      ]
     },
     "execution_count": 18,
     "metadata": {},
     "output_type": "execute_result"
    }
   ],
   "source": [
    "df_ma_res_h1.cross"
   ]
  },
  {
   "cell_type": "code",
   "execution_count": 29,
   "id": "266f2f5b",
   "metadata": {},
   "outputs": [],
   "source": [
    "temp = df_ma_res_h1[df_ma_res_h1.cross == \"MA_10_MA_20\"]"
   ]
  },
  {
   "cell_type": "code",
   "execution_count": 30,
   "id": "da1a6f16",
   "metadata": {},
   "outputs": [
    {
     "data": {
      "text/html": [
       "<div>\n",
       "<style scoped>\n",
       "    .dataframe tbody tr th:only-of-type {\n",
       "        vertical-align: middle;\n",
       "    }\n",
       "\n",
       "    .dataframe tbody tr th {\n",
       "        vertical-align: top;\n",
       "    }\n",
       "\n",
       "    .dataframe thead th {\n",
       "        text-align: right;\n",
       "    }\n",
       "</style>\n",
       "<table border=\"1\" class=\"dataframe\">\n",
       "  <thead>\n",
       "    <tr style=\"text-align: right;\">\n",
       "      <th></th>\n",
       "      <th>pair</th>\n",
       "      <th>num_trades</th>\n",
       "      <th>total_gain</th>\n",
       "      <th>mean_gain</th>\n",
       "      <th>min_gain</th>\n",
       "      <th>max_gain</th>\n",
       "      <th>ma_l</th>\n",
       "      <th>ma_s</th>\n",
       "      <th>cross</th>\n",
       "      <th>granularity</th>\n",
       "    </tr>\n",
       "  </thead>\n",
       "  <tbody>\n",
       "    <tr>\n",
       "      <th>0</th>\n",
       "      <td>EUR_USD</td>\n",
       "      <td>257</td>\n",
       "      <td>-819</td>\n",
       "      <td>-3</td>\n",
       "      <td>-64</td>\n",
       "      <td>201</td>\n",
       "      <td>MA_20</td>\n",
       "      <td>MA_10</td>\n",
       "      <td>MA_10_MA_20</td>\n",
       "      <td>H1</td>\n",
       "    </tr>\n",
       "    <tr>\n",
       "      <th>16</th>\n",
       "      <td>EUR_GBP</td>\n",
       "      <td>224</td>\n",
       "      <td>85</td>\n",
       "      <td>0</td>\n",
       "      <td>-62</td>\n",
       "      <td>119</td>\n",
       "      <td>MA_20</td>\n",
       "      <td>MA_10</td>\n",
       "      <td>MA_10_MA_20</td>\n",
       "      <td>H1</td>\n",
       "    </tr>\n",
       "    <tr>\n",
       "      <th>32</th>\n",
       "      <td>EUR_JPY</td>\n",
       "      <td>219</td>\n",
       "      <td>603</td>\n",
       "      <td>2</td>\n",
       "      <td>-67</td>\n",
       "      <td>206</td>\n",
       "      <td>MA_20</td>\n",
       "      <td>MA_10</td>\n",
       "      <td>MA_10_MA_20</td>\n",
       "      <td>H1</td>\n",
       "    </tr>\n",
       "    <tr>\n",
       "      <th>48</th>\n",
       "      <td>EUR_AUD</td>\n",
       "      <td>228</td>\n",
       "      <td>-404</td>\n",
       "      <td>-1</td>\n",
       "      <td>-92</td>\n",
       "      <td>237</td>\n",
       "      <td>MA_20</td>\n",
       "      <td>MA_10</td>\n",
       "      <td>MA_10_MA_20</td>\n",
       "      <td>H1</td>\n",
       "    </tr>\n",
       "    <tr>\n",
       "      <th>64</th>\n",
       "      <td>EUR_CAD</td>\n",
       "      <td>228</td>\n",
       "      <td>466</td>\n",
       "      <td>2</td>\n",
       "      <td>-89</td>\n",
       "      <td>218</td>\n",
       "      <td>MA_20</td>\n",
       "      <td>MA_10</td>\n",
       "      <td>MA_10_MA_20</td>\n",
       "      <td>H1</td>\n",
       "    </tr>\n",
       "    <tr>\n",
       "      <th>80</th>\n",
       "      <td>USD_JPY</td>\n",
       "      <td>217</td>\n",
       "      <td>511</td>\n",
       "      <td>2</td>\n",
       "      <td>-67</td>\n",
       "      <td>202</td>\n",
       "      <td>MA_20</td>\n",
       "      <td>MA_10</td>\n",
       "      <td>MA_10_MA_20</td>\n",
       "      <td>H1</td>\n",
       "    </tr>\n",
       "    <tr>\n",
       "      <th>96</th>\n",
       "      <td>USD_CAD</td>\n",
       "      <td>215</td>\n",
       "      <td>142</td>\n",
       "      <td>0</td>\n",
       "      <td>-100</td>\n",
       "      <td>211</td>\n",
       "      <td>MA_20</td>\n",
       "      <td>MA_10</td>\n",
       "      <td>MA_10_MA_20</td>\n",
       "      <td>H1</td>\n",
       "    </tr>\n",
       "    <tr>\n",
       "      <th>112</th>\n",
       "      <td>GBP_USD</td>\n",
       "      <td>221</td>\n",
       "      <td>33</td>\n",
       "      <td>0</td>\n",
       "      <td>-110</td>\n",
       "      <td>185</td>\n",
       "      <td>MA_20</td>\n",
       "      <td>MA_10</td>\n",
       "      <td>MA_10_MA_20</td>\n",
       "      <td>H1</td>\n",
       "    </tr>\n",
       "    <tr>\n",
       "      <th>128</th>\n",
       "      <td>GBP_JPY</td>\n",
       "      <td>211</td>\n",
       "      <td>758</td>\n",
       "      <td>3</td>\n",
       "      <td>-110</td>\n",
       "      <td>312</td>\n",
       "      <td>MA_20</td>\n",
       "      <td>MA_10</td>\n",
       "      <td>MA_10_MA_20</td>\n",
       "      <td>H1</td>\n",
       "    </tr>\n",
       "    <tr>\n",
       "      <th>144</th>\n",
       "      <td>GBP_AUD</td>\n",
       "      <td>246</td>\n",
       "      <td>-1154</td>\n",
       "      <td>-4</td>\n",
       "      <td>-92</td>\n",
       "      <td>374</td>\n",
       "      <td>MA_20</td>\n",
       "      <td>MA_10</td>\n",
       "      <td>MA_10_MA_20</td>\n",
       "      <td>H1</td>\n",
       "    </tr>\n",
       "    <tr>\n",
       "      <th>160</th>\n",
       "      <td>GBP_CAD</td>\n",
       "      <td>236</td>\n",
       "      <td>-815</td>\n",
       "      <td>-3</td>\n",
       "      <td>-90</td>\n",
       "      <td>289</td>\n",
       "      <td>MA_20</td>\n",
       "      <td>MA_10</td>\n",
       "      <td>MA_10_MA_20</td>\n",
       "      <td>H1</td>\n",
       "    </tr>\n",
       "    <tr>\n",
       "      <th>176</th>\n",
       "      <td>AUD_USD</td>\n",
       "      <td>200</td>\n",
       "      <td>-33</td>\n",
       "      <td>0</td>\n",
       "      <td>-80</td>\n",
       "      <td>138</td>\n",
       "      <td>MA_20</td>\n",
       "      <td>MA_10</td>\n",
       "      <td>MA_10_MA_20</td>\n",
       "      <td>H1</td>\n",
       "    </tr>\n",
       "    <tr>\n",
       "      <th>192</th>\n",
       "      <td>AUD_JPY</td>\n",
       "      <td>194</td>\n",
       "      <td>832</td>\n",
       "      <td>4</td>\n",
       "      <td>-73</td>\n",
       "      <td>204</td>\n",
       "      <td>MA_20</td>\n",
       "      <td>MA_10</td>\n",
       "      <td>MA_10_MA_20</td>\n",
       "      <td>H1</td>\n",
       "    </tr>\n",
       "    <tr>\n",
       "      <th>208</th>\n",
       "      <td>AUD_CAD</td>\n",
       "      <td>238</td>\n",
       "      <td>-1073</td>\n",
       "      <td>-4</td>\n",
       "      <td>-60</td>\n",
       "      <td>114</td>\n",
       "      <td>MA_20</td>\n",
       "      <td>MA_10</td>\n",
       "      <td>MA_10_MA_20</td>\n",
       "      <td>H1</td>\n",
       "    </tr>\n",
       "    <tr>\n",
       "      <th>224</th>\n",
       "      <td>CAD_JPY</td>\n",
       "      <td>204</td>\n",
       "      <td>787</td>\n",
       "      <td>3</td>\n",
       "      <td>-86</td>\n",
       "      <td>219</td>\n",
       "      <td>MA_20</td>\n",
       "      <td>MA_10</td>\n",
       "      <td>MA_10_MA_20</td>\n",
       "      <td>H1</td>\n",
       "    </tr>\n",
       "  </tbody>\n",
       "</table>\n",
       "</div>"
      ],
      "text/plain": [
       "        pair  num_trades  total_gain  mean_gain  min_gain  max_gain   ma_l  \\\n",
       "0    EUR_USD         257        -819         -3       -64       201  MA_20   \n",
       "16   EUR_GBP         224          85          0       -62       119  MA_20   \n",
       "32   EUR_JPY         219         603          2       -67       206  MA_20   \n",
       "48   EUR_AUD         228        -404         -1       -92       237  MA_20   \n",
       "64   EUR_CAD         228         466          2       -89       218  MA_20   \n",
       "80   USD_JPY         217         511          2       -67       202  MA_20   \n",
       "96   USD_CAD         215         142          0      -100       211  MA_20   \n",
       "112  GBP_USD         221          33          0      -110       185  MA_20   \n",
       "128  GBP_JPY         211         758          3      -110       312  MA_20   \n",
       "144  GBP_AUD         246       -1154         -4       -92       374  MA_20   \n",
       "160  GBP_CAD         236        -815         -3       -90       289  MA_20   \n",
       "176  AUD_USD         200         -33          0       -80       138  MA_20   \n",
       "192  AUD_JPY         194         832          4       -73       204  MA_20   \n",
       "208  AUD_CAD         238       -1073         -4       -60       114  MA_20   \n",
       "224  CAD_JPY         204         787          3       -86       219  MA_20   \n",
       "\n",
       "      ma_s        cross granularity  \n",
       "0    MA_10  MA_10_MA_20          H1  \n",
       "16   MA_10  MA_10_MA_20          H1  \n",
       "32   MA_10  MA_10_MA_20          H1  \n",
       "48   MA_10  MA_10_MA_20          H1  \n",
       "64   MA_10  MA_10_MA_20          H1  \n",
       "80   MA_10  MA_10_MA_20          H1  \n",
       "96   MA_10  MA_10_MA_20          H1  \n",
       "112  MA_10  MA_10_MA_20          H1  \n",
       "128  MA_10  MA_10_MA_20          H1  \n",
       "144  MA_10  MA_10_MA_20          H1  \n",
       "160  MA_10  MA_10_MA_20          H1  \n",
       "176  MA_10  MA_10_MA_20          H1  \n",
       "192  MA_10  MA_10_MA_20          H1  \n",
       "208  MA_10  MA_10_MA_20          H1  \n",
       "224  MA_10  MA_10_MA_20          H1  "
      ]
     },
     "execution_count": 30,
     "metadata": {},
     "output_type": "execute_result"
    }
   ],
   "source": [
    "temp"
   ]
  },
  {
   "cell_type": "code",
   "execution_count": 32,
   "id": "52c60b6e",
   "metadata": {},
   "outputs": [
    {
     "data": {
      "text/plain": [
       "9"
      ]
     },
     "execution_count": 32,
     "metadata": {},
     "output_type": "execute_result"
    }
   ],
   "source": [
    "temp[temp.total_gain > 0].shape[0]"
   ]
  },
  {
   "cell_type": "code",
   "execution_count": 33,
   "id": "e40da81c",
   "metadata": {},
   "outputs": [
    {
     "name": "stdout",
     "output_type": "stream",
     "text": [
      "MA_10_MA_20 pg:9 perc gain:60%\n",
      "MA_10_MA_40 pg:5 perc gain:33%\n",
      "MA_20_MA_40 pg:7 perc gain:47%\n",
      "MA_30_MA_40 pg:9 perc gain:60%\n",
      "MA_10_MA_80 pg:5 perc gain:33%\n",
      "MA_20_MA_80 pg:5 perc gain:33%\n",
      "MA_30_MA_80 pg:5 perc gain:33%\n",
      "MA_40_MA_80 pg:4 perc gain:27%\n",
      "MA_10_MA_120 pg:3 perc gain:20%\n",
      "MA_20_MA_120 pg:3 perc gain:20%\n",
      "MA_30_MA_120 pg:1 perc gain:7%\n",
      "MA_40_MA_120 pg:2 perc gain:13%\n",
      "MA_10_MA_150 pg:3 perc gain:20%\n",
      "MA_20_MA_150 pg:1 perc gain:7%\n",
      "MA_30_MA_150 pg:1 perc gain:7%\n",
      "MA_40_MA_150 pg:0 perc gain:0%\n"
     ]
    }
   ],
   "source": [
    "for c in df_ma_res_h1.cross.unique():\n",
    "    temp = df_ma_res_h1[df_ma_res_h1.cross == c]\n",
    "    pg =  temp[temp.total_gain > 0].shape[0]\n",
    "    print(f\"{c} pg:{pg} perc gain:{(pg/total_pairs)*100:.0f}%\")\n"
   ]
  },
  {
   "cell_type": "code",
   "execution_count": 40,
   "id": "1bd70efd",
   "metadata": {},
   "outputs": [],
   "source": [
    "cross = \"MA_10_MA_20\"\n",
    "df_MA_10_MA_20 = df_ma_res_h1[df_ma_res_h1.cross == cross].copy()\n",
    "df_MA_10_MA_20.sort_values(by=\"total_gain\", ascending=False, inplace=True)"
   ]
  },
  {
   "cell_type": "code",
   "execution_count": 41,
   "id": "a1b98176",
   "metadata": {},
   "outputs": [
    {
     "data": {
      "text/html": [
       "<div>\n",
       "<style scoped>\n",
       "    .dataframe tbody tr th:only-of-type {\n",
       "        vertical-align: middle;\n",
       "    }\n",
       "\n",
       "    .dataframe tbody tr th {\n",
       "        vertical-align: top;\n",
       "    }\n",
       "\n",
       "    .dataframe thead th {\n",
       "        text-align: right;\n",
       "    }\n",
       "</style>\n",
       "<table border=\"1\" class=\"dataframe\">\n",
       "  <thead>\n",
       "    <tr style=\"text-align: right;\">\n",
       "      <th></th>\n",
       "      <th>pair</th>\n",
       "      <th>num_trades</th>\n",
       "      <th>total_gain</th>\n",
       "      <th>mean_gain</th>\n",
       "      <th>min_gain</th>\n",
       "      <th>max_gain</th>\n",
       "      <th>ma_l</th>\n",
       "      <th>ma_s</th>\n",
       "      <th>cross</th>\n",
       "      <th>granularity</th>\n",
       "    </tr>\n",
       "  </thead>\n",
       "  <tbody>\n",
       "    <tr>\n",
       "      <th>192</th>\n",
       "      <td>AUD_JPY</td>\n",
       "      <td>194</td>\n",
       "      <td>832</td>\n",
       "      <td>4</td>\n",
       "      <td>-73</td>\n",
       "      <td>204</td>\n",
       "      <td>MA_20</td>\n",
       "      <td>MA_10</td>\n",
       "      <td>MA_10_MA_20</td>\n",
       "      <td>H1</td>\n",
       "    </tr>\n",
       "    <tr>\n",
       "      <th>224</th>\n",
       "      <td>CAD_JPY</td>\n",
       "      <td>204</td>\n",
       "      <td>787</td>\n",
       "      <td>3</td>\n",
       "      <td>-86</td>\n",
       "      <td>219</td>\n",
       "      <td>MA_20</td>\n",
       "      <td>MA_10</td>\n",
       "      <td>MA_10_MA_20</td>\n",
       "      <td>H1</td>\n",
       "    </tr>\n",
       "    <tr>\n",
       "      <th>128</th>\n",
       "      <td>GBP_JPY</td>\n",
       "      <td>211</td>\n",
       "      <td>758</td>\n",
       "      <td>3</td>\n",
       "      <td>-110</td>\n",
       "      <td>312</td>\n",
       "      <td>MA_20</td>\n",
       "      <td>MA_10</td>\n",
       "      <td>MA_10_MA_20</td>\n",
       "      <td>H1</td>\n",
       "    </tr>\n",
       "    <tr>\n",
       "      <th>32</th>\n",
       "      <td>EUR_JPY</td>\n",
       "      <td>219</td>\n",
       "      <td>603</td>\n",
       "      <td>2</td>\n",
       "      <td>-67</td>\n",
       "      <td>206</td>\n",
       "      <td>MA_20</td>\n",
       "      <td>MA_10</td>\n",
       "      <td>MA_10_MA_20</td>\n",
       "      <td>H1</td>\n",
       "    </tr>\n",
       "    <tr>\n",
       "      <th>80</th>\n",
       "      <td>USD_JPY</td>\n",
       "      <td>217</td>\n",
       "      <td>511</td>\n",
       "      <td>2</td>\n",
       "      <td>-67</td>\n",
       "      <td>202</td>\n",
       "      <td>MA_20</td>\n",
       "      <td>MA_10</td>\n",
       "      <td>MA_10_MA_20</td>\n",
       "      <td>H1</td>\n",
       "    </tr>\n",
       "    <tr>\n",
       "      <th>64</th>\n",
       "      <td>EUR_CAD</td>\n",
       "      <td>228</td>\n",
       "      <td>466</td>\n",
       "      <td>2</td>\n",
       "      <td>-89</td>\n",
       "      <td>218</td>\n",
       "      <td>MA_20</td>\n",
       "      <td>MA_10</td>\n",
       "      <td>MA_10_MA_20</td>\n",
       "      <td>H1</td>\n",
       "    </tr>\n",
       "    <tr>\n",
       "      <th>96</th>\n",
       "      <td>USD_CAD</td>\n",
       "      <td>215</td>\n",
       "      <td>142</td>\n",
       "      <td>0</td>\n",
       "      <td>-100</td>\n",
       "      <td>211</td>\n",
       "      <td>MA_20</td>\n",
       "      <td>MA_10</td>\n",
       "      <td>MA_10_MA_20</td>\n",
       "      <td>H1</td>\n",
       "    </tr>\n",
       "    <tr>\n",
       "      <th>16</th>\n",
       "      <td>EUR_GBP</td>\n",
       "      <td>224</td>\n",
       "      <td>85</td>\n",
       "      <td>0</td>\n",
       "      <td>-62</td>\n",
       "      <td>119</td>\n",
       "      <td>MA_20</td>\n",
       "      <td>MA_10</td>\n",
       "      <td>MA_10_MA_20</td>\n",
       "      <td>H1</td>\n",
       "    </tr>\n",
       "    <tr>\n",
       "      <th>112</th>\n",
       "      <td>GBP_USD</td>\n",
       "      <td>221</td>\n",
       "      <td>33</td>\n",
       "      <td>0</td>\n",
       "      <td>-110</td>\n",
       "      <td>185</td>\n",
       "      <td>MA_20</td>\n",
       "      <td>MA_10</td>\n",
       "      <td>MA_10_MA_20</td>\n",
       "      <td>H1</td>\n",
       "    </tr>\n",
       "    <tr>\n",
       "      <th>176</th>\n",
       "      <td>AUD_USD</td>\n",
       "      <td>200</td>\n",
       "      <td>-33</td>\n",
       "      <td>0</td>\n",
       "      <td>-80</td>\n",
       "      <td>138</td>\n",
       "      <td>MA_20</td>\n",
       "      <td>MA_10</td>\n",
       "      <td>MA_10_MA_20</td>\n",
       "      <td>H1</td>\n",
       "    </tr>\n",
       "    <tr>\n",
       "      <th>48</th>\n",
       "      <td>EUR_AUD</td>\n",
       "      <td>228</td>\n",
       "      <td>-404</td>\n",
       "      <td>-1</td>\n",
       "      <td>-92</td>\n",
       "      <td>237</td>\n",
       "      <td>MA_20</td>\n",
       "      <td>MA_10</td>\n",
       "      <td>MA_10_MA_20</td>\n",
       "      <td>H1</td>\n",
       "    </tr>\n",
       "    <tr>\n",
       "      <th>160</th>\n",
       "      <td>GBP_CAD</td>\n",
       "      <td>236</td>\n",
       "      <td>-815</td>\n",
       "      <td>-3</td>\n",
       "      <td>-90</td>\n",
       "      <td>289</td>\n",
       "      <td>MA_20</td>\n",
       "      <td>MA_10</td>\n",
       "      <td>MA_10_MA_20</td>\n",
       "      <td>H1</td>\n",
       "    </tr>\n",
       "    <tr>\n",
       "      <th>0</th>\n",
       "      <td>EUR_USD</td>\n",
       "      <td>257</td>\n",
       "      <td>-819</td>\n",
       "      <td>-3</td>\n",
       "      <td>-64</td>\n",
       "      <td>201</td>\n",
       "      <td>MA_20</td>\n",
       "      <td>MA_10</td>\n",
       "      <td>MA_10_MA_20</td>\n",
       "      <td>H1</td>\n",
       "    </tr>\n",
       "    <tr>\n",
       "      <th>208</th>\n",
       "      <td>AUD_CAD</td>\n",
       "      <td>238</td>\n",
       "      <td>-1073</td>\n",
       "      <td>-4</td>\n",
       "      <td>-60</td>\n",
       "      <td>114</td>\n",
       "      <td>MA_20</td>\n",
       "      <td>MA_10</td>\n",
       "      <td>MA_10_MA_20</td>\n",
       "      <td>H1</td>\n",
       "    </tr>\n",
       "    <tr>\n",
       "      <th>144</th>\n",
       "      <td>GBP_AUD</td>\n",
       "      <td>246</td>\n",
       "      <td>-1154</td>\n",
       "      <td>-4</td>\n",
       "      <td>-92</td>\n",
       "      <td>374</td>\n",
       "      <td>MA_20</td>\n",
       "      <td>MA_10</td>\n",
       "      <td>MA_10_MA_20</td>\n",
       "      <td>H1</td>\n",
       "    </tr>\n",
       "  </tbody>\n",
       "</table>\n",
       "</div>"
      ],
      "text/plain": [
       "        pair  num_trades  total_gain  mean_gain  min_gain  max_gain   ma_l  \\\n",
       "192  AUD_JPY         194         832          4       -73       204  MA_20   \n",
       "224  CAD_JPY         204         787          3       -86       219  MA_20   \n",
       "128  GBP_JPY         211         758          3      -110       312  MA_20   \n",
       "32   EUR_JPY         219         603          2       -67       206  MA_20   \n",
       "80   USD_JPY         217         511          2       -67       202  MA_20   \n",
       "64   EUR_CAD         228         466          2       -89       218  MA_20   \n",
       "96   USD_CAD         215         142          0      -100       211  MA_20   \n",
       "16   EUR_GBP         224          85          0       -62       119  MA_20   \n",
       "112  GBP_USD         221          33          0      -110       185  MA_20   \n",
       "176  AUD_USD         200         -33          0       -80       138  MA_20   \n",
       "48   EUR_AUD         228        -404         -1       -92       237  MA_20   \n",
       "160  GBP_CAD         236        -815         -3       -90       289  MA_20   \n",
       "0    EUR_USD         257        -819         -3       -64       201  MA_20   \n",
       "208  AUD_CAD         238       -1073         -4       -60       114  MA_20   \n",
       "144  GBP_AUD         246       -1154         -4       -92       374  MA_20   \n",
       "\n",
       "      ma_s        cross granularity  \n",
       "192  MA_10  MA_10_MA_20          H1  \n",
       "224  MA_10  MA_10_MA_20          H1  \n",
       "128  MA_10  MA_10_MA_20          H1  \n",
       "32   MA_10  MA_10_MA_20          H1  \n",
       "80   MA_10  MA_10_MA_20          H1  \n",
       "64   MA_10  MA_10_MA_20          H1  \n",
       "96   MA_10  MA_10_MA_20          H1  \n",
       "16   MA_10  MA_10_MA_20          H1  \n",
       "112  MA_10  MA_10_MA_20          H1  \n",
       "176  MA_10  MA_10_MA_20          H1  \n",
       "48   MA_10  MA_10_MA_20          H1  \n",
       "160  MA_10  MA_10_MA_20          H1  \n",
       "0    MA_10  MA_10_MA_20          H1  \n",
       "208  MA_10  MA_10_MA_20          H1  \n",
       "144  MA_10  MA_10_MA_20          H1  "
      ]
     },
     "execution_count": 41,
     "metadata": {},
     "output_type": "execute_result"
    }
   ],
   "source": [
    "df_MA_10_MA_20"
   ]
  },
  {
   "cell_type": "code",
   "execution_count": 42,
   "id": "17c599ff",
   "metadata": {},
   "outputs": [],
   "source": [
    "df_gains = df_ma_trades_h1[(df_ma_trades_h1.cross==cross)&\n",
    "                                (df_ma_trades_h1.pair==\"CAD_JPY\")].copy()\n"
   ]
  },
  {
   "cell_type": "code",
   "execution_count": 44,
   "id": "7db97a0f",
   "metadata": {},
   "outputs": [
    {
     "data": {
      "text/html": [
       "<div>\n",
       "<style scoped>\n",
       "    .dataframe tbody tr th:only-of-type {\n",
       "        vertical-align: middle;\n",
       "    }\n",
       "\n",
       "    .dataframe tbody tr th {\n",
       "        vertical-align: top;\n",
       "    }\n",
       "\n",
       "    .dataframe thead th {\n",
       "        text-align: right;\n",
       "    }\n",
       "</style>\n",
       "<table border=\"1\" class=\"dataframe\">\n",
       "  <thead>\n",
       "    <tr style=\"text-align: right;\">\n",
       "      <th></th>\n",
       "      <th>time</th>\n",
       "      <th>volume</th>\n",
       "      <th>mid_o</th>\n",
       "      <th>mid_h</th>\n",
       "      <th>mid_l</th>\n",
       "      <th>mid_c</th>\n",
       "      <th>bid_o</th>\n",
       "      <th>bid_h</th>\n",
       "      <th>bid_l</th>\n",
       "      <th>bid_c</th>\n",
       "      <th>ask_o</th>\n",
       "      <th>ask_h</th>\n",
       "      <th>ask_l</th>\n",
       "      <th>ask_c</th>\n",
       "      <th>MA_40</th>\n",
       "      <th>MA_10</th>\n",
       "      <th>MA_80</th>\n",
       "      <th>MA_20</th>\n",
       "      <th>MA_150</th>\n",
       "      <th>MA_120</th>\n",
       "      <th>MA_30</th>\n",
       "      <th>DELTA</th>\n",
       "      <th>DELTA_PREV</th>\n",
       "      <th>TRADE</th>\n",
       "      <th>DIFF</th>\n",
       "      <th>GAIN</th>\n",
       "      <th>granularity</th>\n",
       "      <th>pair</th>\n",
       "      <th>GAIN_C</th>\n",
       "      <th>ma_l</th>\n",
       "      <th>ma_s</th>\n",
       "      <th>cross</th>\n",
       "    </tr>\n",
       "  </thead>\n",
       "  <tbody>\n",
       "    <tr>\n",
       "      <th>17152</th>\n",
       "      <td>2021-05-13 08:00:00+00:00</td>\n",
       "      <td>6069</td>\n",
       "      <td>90.294</td>\n",
       "      <td>90.297</td>\n",
       "      <td>90.118</td>\n",
       "      <td>90.253</td>\n",
       "      <td>90.287</td>\n",
       "      <td>90.288</td>\n",
       "      <td>90.108</td>\n",
       "      <td>90.245</td>\n",
       "      <td>90.300</td>\n",
       "      <td>90.306</td>\n",
       "      <td>90.127</td>\n",
       "      <td>90.261</td>\n",
       "      <td>90.162300</td>\n",
       "      <td>90.4276</td>\n",
       "      <td>90.024963</td>\n",
       "      <td>90.43990</td>\n",
       "      <td>89.698813</td>\n",
       "      <td>89.861900</td>\n",
       "      <td>90.271733</td>\n",
       "      <td>-0.01230</td>\n",
       "      <td>0.00220</td>\n",
       "      <td>-1</td>\n",
       "      <td>-0.181</td>\n",
       "      <td>18.1</td>\n",
       "      <td>H1</td>\n",
       "      <td>CAD_JPY</td>\n",
       "      <td>18.1</td>\n",
       "      <td>MA_20</td>\n",
       "      <td>MA_10</td>\n",
       "      <td>MA_10_MA_20</td>\n",
       "    </tr>\n",
       "    <tr>\n",
       "      <th>17153</th>\n",
       "      <td>2021-05-14 09:00:00+00:00</td>\n",
       "      <td>2134</td>\n",
       "      <td>90.034</td>\n",
       "      <td>90.128</td>\n",
       "      <td>90.013</td>\n",
       "      <td>90.072</td>\n",
       "      <td>90.024</td>\n",
       "      <td>90.120</td>\n",
       "      <td>90.005</td>\n",
       "      <td>90.065</td>\n",
       "      <td>90.044</td>\n",
       "      <td>90.137</td>\n",
       "      <td>90.020</td>\n",
       "      <td>90.080</td>\n",
       "      <td>90.211025</td>\n",
       "      <td>90.0327</td>\n",
       "      <td>90.084312</td>\n",
       "      <td>90.02525</td>\n",
       "      <td>89.875153</td>\n",
       "      <td>89.969917</td>\n",
       "      <td>90.131600</td>\n",
       "      <td>0.00745</td>\n",
       "      <td>-0.01545</td>\n",
       "      <td>1</td>\n",
       "      <td>0.058</td>\n",
       "      <td>5.8</td>\n",
       "      <td>H1</td>\n",
       "      <td>CAD_JPY</td>\n",
       "      <td>23.9</td>\n",
       "      <td>MA_20</td>\n",
       "      <td>MA_10</td>\n",
       "      <td>MA_10_MA_20</td>\n",
       "    </tr>\n",
       "    <tr>\n",
       "      <th>17154</th>\n",
       "      <td>2021-05-17 03:00:00+00:00</td>\n",
       "      <td>2005</td>\n",
       "      <td>90.190</td>\n",
       "      <td>90.190</td>\n",
       "      <td>90.100</td>\n",
       "      <td>90.130</td>\n",
       "      <td>90.182</td>\n",
       "      <td>90.182</td>\n",
       "      <td>90.092</td>\n",
       "      <td>90.122</td>\n",
       "      <td>90.198</td>\n",
       "      <td>90.198</td>\n",
       "      <td>90.109</td>\n",
       "      <td>90.137</td>\n",
       "      <td>90.148175</td>\n",
       "      <td>90.2397</td>\n",
       "      <td>90.171800</td>\n",
       "      <td>90.24215</td>\n",
       "      <td>89.982460</td>\n",
       "      <td>90.078658</td>\n",
       "      <td>90.166500</td>\n",
       "      <td>-0.00245</td>\n",
       "      <td>0.01650</td>\n",
       "      <td>-1</td>\n",
       "      <td>0.252</td>\n",
       "      <td>-25.2</td>\n",
       "      <td>H1</td>\n",
       "      <td>CAD_JPY</td>\n",
       "      <td>-1.3</td>\n",
       "      <td>MA_20</td>\n",
       "      <td>MA_10</td>\n",
       "      <td>MA_10_MA_20</td>\n",
       "    </tr>\n",
       "  </tbody>\n",
       "</table>\n",
       "</div>"
      ],
      "text/plain": [
       "                           time  volume   mid_o   mid_h   mid_l   mid_c  \\\n",
       "17152 2021-05-13 08:00:00+00:00    6069  90.294  90.297  90.118  90.253   \n",
       "17153 2021-05-14 09:00:00+00:00    2134  90.034  90.128  90.013  90.072   \n",
       "17154 2021-05-17 03:00:00+00:00    2005  90.190  90.190  90.100  90.130   \n",
       "\n",
       "        bid_o   bid_h   bid_l   bid_c   ask_o   ask_h   ask_l   ask_c  \\\n",
       "17152  90.287  90.288  90.108  90.245  90.300  90.306  90.127  90.261   \n",
       "17153  90.024  90.120  90.005  90.065  90.044  90.137  90.020  90.080   \n",
       "17154  90.182  90.182  90.092  90.122  90.198  90.198  90.109  90.137   \n",
       "\n",
       "           MA_40    MA_10      MA_80     MA_20     MA_150     MA_120  \\\n",
       "17152  90.162300  90.4276  90.024963  90.43990  89.698813  89.861900   \n",
       "17153  90.211025  90.0327  90.084312  90.02525  89.875153  89.969917   \n",
       "17154  90.148175  90.2397  90.171800  90.24215  89.982460  90.078658   \n",
       "\n",
       "           MA_30    DELTA  DELTA_PREV  TRADE   DIFF  GAIN granularity  \\\n",
       "17152  90.271733 -0.01230     0.00220     -1 -0.181  18.1          H1   \n",
       "17153  90.131600  0.00745    -0.01545      1  0.058   5.8          H1   \n",
       "17154  90.166500 -0.00245     0.01650     -1  0.252 -25.2          H1   \n",
       "\n",
       "          pair  GAIN_C   ma_l   ma_s        cross  \n",
       "17152  CAD_JPY    18.1  MA_20  MA_10  MA_10_MA_20  \n",
       "17153  CAD_JPY    23.9  MA_20  MA_10  MA_10_MA_20  \n",
       "17154  CAD_JPY    -1.3  MA_20  MA_10  MA_10_MA_20  "
      ]
     },
     "execution_count": 44,
     "metadata": {},
     "output_type": "execute_result"
    }
   ],
   "source": [
    "df_gains.head(3)"
   ]
  },
  {
   "cell_type": "code",
   "execution_count": 45,
   "id": "2d4ce5b1",
   "metadata": {},
   "outputs": [
    {
     "data": {
      "application/vnd.plotly.v1+json": {
       "config": {
        "plotlyServerURL": "https://plot.ly"
       },
       "data": [
        {
         "line": {
          "shape": "spline",
          "width": 2
         },
         "name": "GAIN_C",
         "type": "scatter",
         "x": [
          "s21-05-13 08:00",
          "s21-05-14 09:00",
          "s21-05-17 03:00",
          "s21-05-17 16:00",
          "s21-05-18 14:00",
          "s21-05-19 10:00",
          "s21-05-19 14:00",
          "s21-05-20 06:00",
          "s21-05-20 10:00",
          "s21-05-20 18:00",
          "s21-05-21 06:00",
          "s21-05-21 14:00",
          "s21-05-24 04:00",
          "s21-05-24 16:00",
          "s21-05-25 20:00",
          "s21-05-26 08:00",
          "s21-05-26 13:00",
          "s21-05-27 10:00",
          "s21-05-28 09:00",
          "s21-05-28 20:00",
          "s21-05-31 00:00",
          "s21-05-31 02:00",
          "s21-05-31 04:00",
          "s21-06-01 03:00",
          "s21-06-01 21:00",
          "s21-06-02 08:00",
          "s21-06-03 12:00",
          "s21-06-03 22:00",
          "s21-06-04 05:00",
          "s21-06-08 07:00",
          "s21-06-08 18:00",
          "s21-06-09 08:00",
          "s21-06-10 00:00",
          "s21-06-10 13:00",
          "s21-06-10 23:00",
          "s21-06-11 08:00",
          "s21-06-11 16:00",
          "s21-06-14 07:00",
          "s21-06-15 10:00",
          "s21-06-16 04:00",
          "s21-06-16 12:00",
          "s21-06-21 14:00",
          "s21-06-24 00:00",
          "s21-06-25 05:00",
          "s21-06-28 03:00",
          "s21-06-30 12:00",
          "s21-07-01 23:00",
          "s21-07-02 11:00",
          "s21-07-05 07:00",
          "s21-07-05 22:00",
          "s21-07-06 08:00",
          "s21-07-07 09:00",
          "s21-07-07 19:00",
          "s21-07-09 00:00",
          "s21-07-12 08:00",
          "s21-07-12 18:00",
          "s21-07-13 10:00",
          "s21-07-14 01:00",
          "s21-07-14 14:00",
          "s21-07-16 07:00",
          "s21-07-16 19:00",
          "s21-07-20 03:00",
          "s21-07-20 11:00",
          "s21-07-20 15:00",
          "s21-07-22 07:00",
          "s21-07-22 14:00",
          "s21-07-22 21:00",
          "s21-07-23 06:00",
          "s21-07-26 03:00",
          "s21-07-26 16:00",
          "s21-07-27 05:00",
          "s21-07-28 07:00",
          "s21-07-29 22:00",
          "s21-07-30 09:00",
          "s21-08-01 21:00",
          "s21-08-04 04:00",
          "s21-08-06 08:00",
          "s21-08-08 21:00",
          "s21-08-08 22:00",
          "s21-08-09 11:00",
          "s21-08-09 20:00",
          "s21-08-10 06:00",
          "s21-08-11 18:00",
          "s21-08-17 19:00",
          "s21-08-18 22:00",
          "s21-08-20 19:00",
          "s21-08-25 08:00",
          "s21-08-25 16:00",
          "s21-08-26 09:00",
          "s21-08-27 11:00",
          "s21-08-30 06:00",
          "s21-08-30 12:00",
          "s21-08-31 03:00",
          "s21-08-31 07:00",
          "s21-08-31 16:00",
          "s21-09-01 01:00",
          "s21-09-01 18:00",
          "s21-09-02 10:00",
          "s21-09-03 18:00",
          "s21-09-06 14:00",
          "s21-09-07 05:00",
          "s21-09-09 17:00",
          "s21-09-10 20:00",
          "s21-09-13 10:00",
          "s21-09-14 14:00",
          "s21-09-15 18:00",
          "s21-09-16 08:00",
          "s21-09-16 15:00",
          "s21-09-16 22:00",
          "s21-09-17 03:00",
          "s21-09-17 17:00",
          "s21-09-21 02:00",
          "s21-09-21 16:00",
          "s21-09-22 06:00",
          "s21-09-24 10:00",
          "s21-09-24 17:00",
          "s21-09-28 15:00",
          "s21-09-29 06:00",
          "s21-09-29 08:00",
          "s21-09-30 01:00",
          "s21-09-30 20:00",
          "s21-10-01 17:00",
          "s21-10-05 01:00",
          "s21-10-05 10:00",
          "s21-10-06 08:00",
          "s21-10-06 23:00",
          "s21-10-12 03:00",
          "s21-10-12 11:00",
          "s21-10-13 03:00",
          "s21-10-13 11:00",
          "s21-10-13 20:00",
          "s21-10-14 04:00",
          "s21-10-15 20:00",
          "s21-10-18 16:00",
          "s21-10-19 20:00",
          "s21-10-19 23:00",
          "s21-10-20 15:00",
          "s21-10-20 21:00",
          "s21-10-21 08:00",
          "s21-10-22 05:00",
          "s21-10-22 15:00",
          "s21-10-25 06:00",
          "s21-10-25 16:00",
          "s21-10-26 04:00",
          "s21-10-26 23:00",
          "s21-10-27 19:00",
          "s21-10-28 06:00",
          "s21-10-28 17:00",
          "s21-11-01 21:00",
          "s21-11-02 21:00",
          "s21-11-03 06:00",
          "s21-11-03 16:00",
          "s21-11-04 11:00",
          "s21-11-08 07:00",
          "s21-11-08 14:00",
          "s21-11-10 01:00",
          "s21-11-11 02:00",
          "s21-11-12 04:00",
          "s21-11-12 12:00",
          "s21-11-14 22:00",
          "s21-11-16 12:00",
          "s21-11-16 19:00",
          "s21-11-17 14:00",
          "s21-11-18 12:00",
          "s21-11-19 11:00",
          "s21-11-22 05:00",
          "s21-11-23 08:00",
          "s21-11-23 19:00",
          "s21-11-24 10:00",
          "s21-11-24 16:00",
          "s21-11-25 13:00",
          "s21-11-25 21:00",
          "s21-11-26 00:00",
          "s21-11-29 05:00",
          "s21-11-29 16:00",
          "s21-11-29 19:00",
          "s21-11-30 06:00",
          "s21-12-01 00:00",
          "s21-12-01 16:00",
          "s21-12-02 08:00",
          "s21-12-02 17:00",
          "s21-12-03 03:00",
          "s21-12-03 18:00",
          "s21-12-06 08:00",
          "s21-12-08 07:00",
          "s21-12-08 11:00",
          "s21-12-09 00:00",
          "s21-12-10 10:00",
          "s21-12-10 19:00",
          "s21-12-13 07:00",
          "s21-12-13 12:00",
          "s21-12-14 14:00",
          "s21-12-14 16:00",
          "s21-12-15 08:00",
          "s21-12-15 12:00",
          "s21-12-15 22:00",
          "s21-12-16 21:00",
          "s21-12-21 01:00",
          "s21-12-24 06:00",
          "s21-12-24 14:00",
          "s21-12-26 23:00",
          "s21-12-27 06:00",
          "s21-12-28 10:00",
          "s21-12-29 08:00"
         ],
         "y": [
          18.09999999999974,
          23.89999999999901,
          -1.300000000001944,
          -2.1000000000029218,
          -14.500000000003865,
          -101.10000000000383,
          -144.8000000000036,
          -157.90000000000362,
          -186.80000000000376,
          -207.10000000000406,
          -246.70000000000414,
          -270.9000000000046,
          -272.00000000000415,
          -276.70000000000385,
          -277.10000000000434,
          -294.500000000005,
          -320.300000000006,
          -258.90000000000697,
          -271.6000000000079,
          -282.1000000000083,
          -279.70000000000823,
          -284.2000000000084,
          -288.10000000000855,
          -302.60000000000815,
          -327.4000000000072,
          -327.60000000000673,
          -344.10000000000736,
          -358.30000000000837,
          -324.30000000000945,
          -341.1000000000101,
          -352.10000000001,
          -362.40000000000947,
          -382.9000000000093,
          -405.70000000000874,
          -420.3000000000074,
          -461.30000000000706,
          -472.50000000000796,
          -467.50000000000824,
          -473.8000000000085,
          -497.7000000000089,
          -381.10000000000923,
          -258.0000000000098,
          -241.60000000000963,
          -258.70000000000886,
          -204.70000000000823,
          -171.3000000000079,
          -177.7000000000072,
          -167.2000000000068,
          -175.0000000000071,
          -191.30000000000678,
          -121.20000000000601,
          -168.5000000000059,
          -76.7000000000067,
          -26.700000000006696,
          -59.1000000000065,
          -76.30000000000763,
          -77.90000000000816,
          -102.30000000000814,
          -37.900000000007594,
          -56.70000000000641,
          89.49999999999392,
          104.59999999999354,
          61.89999999999287,
          192.29999999999308,
          200.29999999999433,
          208.1999999999951,
          204.4999999999959,
          201.99999999999676,
          175.29999999999717,
          157.69999999999698,
          196.89999999999657,
          255.39999999999594,
          246.89999999999515,
          230.29999999999546,
          312.49999999999574,
          379.899999999995,
          370.19999999999413,
          355.6999999999931,
          341.39999999999304,
          329.29999999999353,
          318.4999999999931,
          365.2999999999935,
          514.0999999999949,
          512.9999999999953,
          633.9999999999948,
          776.699999999994,
          757.8999999999937,
          773.8999999999934,
          828.4999999999926,
          841.3999999999917,
          814.0999999999906,
          806.2999999999903,
          796.8999999999909,
          782.4999999999918,
          766.1999999999921,
          753.999999999992,
          742.4999999999925,
          777.8999999999924,
          777.2999999999923,
          772.0999999999931,
          852.1999999999932,
          835.2999999999936,
          809.6999999999936,
          773.7999999999927,
          769.0999999999915,
          771.4999999999916,
          778.4999999999923,
          782.8999999999919,
          768.2999999999918,
          720.2999999999913,
          767.9999999999902,
          736.0999999999899,
          702.49999999999,
          837.0999999999904,
          802.49999999999,
          830.0999999999897,
          814.69999999999,
          802.9999999999895,
          799.0999999999894,
          796.0999999999893,
          784.4999999999893,
          807.4999999999898,
          789.69999999999,
          792.7999999999906,
          771.8999999999903,
          991.0999999999897,
          961.8999999999895,
          971.4999999999899,
          954.1999999999897,
          929.4999999999898,
          893.5999999999904,
          998.2999999999901,
          1005.1999999999903,
          1019.0999999999913,
          998.1999999999923,
          994.6999999999927,
          979.899999999993,
          940.8999999999944,
          955.4999999999945,
          896.2999999999932,
          864.8999999999926,
          839.1999999999921,
          805.0999999999913,
          810.699999999991,
          819.0999999999913,
          793.8999999999917,
          784.2999999999913,
          810.5999999999904,
          841.19999999999,
          822.6999999999898,
          801.9999999999891,
          779.2999999999887,
          821.6999999999894,
          775.1999999999905,
          769.8999999999908,
          809.7999999999909,
          858.1999999999917,
          838.7999999999929,
          812.0999999999933,
          848.8999999999928,
          834.0999999999932,
          805.7999999999945,
          846.1999999999955,
          780.2999999999963,
          749.2999999999961,
          720.0999999999959,
          646.299999999996,
          637.2999999999956,
          589.3999999999958,
          579.8999999999959,
          561.2999999999965,
          514.5999999999967,
          704.0999999999963,
          711.6999999999971,
          700.4999999999976,
          646.3999999999979,
          630.4999999999987,
          594.6999999999998,
          574.9000000000005,
          557.1999999999998,
          561.0999999999985,
          508.09999999999843,
          450.6999999999986,
          583.2999999999979,
          538.9999999999982,
          517.0999999999988,
          559.6999999999989,
          525.0999999999985,
          519.6999999999983,
          508.6999999999984,
          550.899999999998,
          526.0999999999976,
          525.8999999999967,
          535.0999999999965,
          497.49999999999744,
          512.9999999999975,
          618.0999999999976,
          743.7999999999981,
          741.4999999999985,
          739.6999999999985,
          734.2999999999982,
          783.2999999999992,
          787.5999999999998,
          787.5999999999998
         ]
        }
       ],
       "layout": {
        "font": {
         "color": "#e1e1e1",
         "size": 8
        },
        "height": 400,
        "margin": {
         "b": 10,
         "l": 10,
         "r": 10,
         "t": 10
        },
        "paper_bgcolor": "#2c303c",
        "plot_bgcolor": "#2c303c",
        "template": {
         "data": {
          "bar": [
           {
            "error_x": {
             "color": "#2a3f5f"
            },
            "error_y": {
             "color": "#2a3f5f"
            },
            "marker": {
             "line": {
              "color": "#E5ECF6",
              "width": 0.5
             },
             "pattern": {
              "fillmode": "overlay",
              "size": 10,
              "solidity": 0.2
             }
            },
            "type": "bar"
           }
          ],
          "barpolar": [
           {
            "marker": {
             "line": {
              "color": "#E5ECF6",
              "width": 0.5
             },
             "pattern": {
              "fillmode": "overlay",
              "size": 10,
              "solidity": 0.2
             }
            },
            "type": "barpolar"
           }
          ],
          "carpet": [
           {
            "aaxis": {
             "endlinecolor": "#2a3f5f",
             "gridcolor": "white",
             "linecolor": "white",
             "minorgridcolor": "white",
             "startlinecolor": "#2a3f5f"
            },
            "baxis": {
             "endlinecolor": "#2a3f5f",
             "gridcolor": "white",
             "linecolor": "white",
             "minorgridcolor": "white",
             "startlinecolor": "#2a3f5f"
            },
            "type": "carpet"
           }
          ],
          "choropleth": [
           {
            "colorbar": {
             "outlinewidth": 0,
             "ticks": ""
            },
            "type": "choropleth"
           }
          ],
          "contour": [
           {
            "colorbar": {
             "outlinewidth": 0,
             "ticks": ""
            },
            "colorscale": [
             [
              0,
              "#0d0887"
             ],
             [
              0.1111111111111111,
              "#46039f"
             ],
             [
              0.2222222222222222,
              "#7201a8"
             ],
             [
              0.3333333333333333,
              "#9c179e"
             ],
             [
              0.4444444444444444,
              "#bd3786"
             ],
             [
              0.5555555555555556,
              "#d8576b"
             ],
             [
              0.6666666666666666,
              "#ed7953"
             ],
             [
              0.7777777777777778,
              "#fb9f3a"
             ],
             [
              0.8888888888888888,
              "#fdca26"
             ],
             [
              1,
              "#f0f921"
             ]
            ],
            "type": "contour"
           }
          ],
          "contourcarpet": [
           {
            "colorbar": {
             "outlinewidth": 0,
             "ticks": ""
            },
            "type": "contourcarpet"
           }
          ],
          "heatmap": [
           {
            "colorbar": {
             "outlinewidth": 0,
             "ticks": ""
            },
            "colorscale": [
             [
              0,
              "#0d0887"
             ],
             [
              0.1111111111111111,
              "#46039f"
             ],
             [
              0.2222222222222222,
              "#7201a8"
             ],
             [
              0.3333333333333333,
              "#9c179e"
             ],
             [
              0.4444444444444444,
              "#bd3786"
             ],
             [
              0.5555555555555556,
              "#d8576b"
             ],
             [
              0.6666666666666666,
              "#ed7953"
             ],
             [
              0.7777777777777778,
              "#fb9f3a"
             ],
             [
              0.8888888888888888,
              "#fdca26"
             ],
             [
              1,
              "#f0f921"
             ]
            ],
            "type": "heatmap"
           }
          ],
          "heatmapgl": [
           {
            "colorbar": {
             "outlinewidth": 0,
             "ticks": ""
            },
            "colorscale": [
             [
              0,
              "#0d0887"
             ],
             [
              0.1111111111111111,
              "#46039f"
             ],
             [
              0.2222222222222222,
              "#7201a8"
             ],
             [
              0.3333333333333333,
              "#9c179e"
             ],
             [
              0.4444444444444444,
              "#bd3786"
             ],
             [
              0.5555555555555556,
              "#d8576b"
             ],
             [
              0.6666666666666666,
              "#ed7953"
             ],
             [
              0.7777777777777778,
              "#fb9f3a"
             ],
             [
              0.8888888888888888,
              "#fdca26"
             ],
             [
              1,
              "#f0f921"
             ]
            ],
            "type": "heatmapgl"
           }
          ],
          "histogram": [
           {
            "marker": {
             "pattern": {
              "fillmode": "overlay",
              "size": 10,
              "solidity": 0.2
             }
            },
            "type": "histogram"
           }
          ],
          "histogram2d": [
           {
            "colorbar": {
             "outlinewidth": 0,
             "ticks": ""
            },
            "colorscale": [
             [
              0,
              "#0d0887"
             ],
             [
              0.1111111111111111,
              "#46039f"
             ],
             [
              0.2222222222222222,
              "#7201a8"
             ],
             [
              0.3333333333333333,
              "#9c179e"
             ],
             [
              0.4444444444444444,
              "#bd3786"
             ],
             [
              0.5555555555555556,
              "#d8576b"
             ],
             [
              0.6666666666666666,
              "#ed7953"
             ],
             [
              0.7777777777777778,
              "#fb9f3a"
             ],
             [
              0.8888888888888888,
              "#fdca26"
             ],
             [
              1,
              "#f0f921"
             ]
            ],
            "type": "histogram2d"
           }
          ],
          "histogram2dcontour": [
           {
            "colorbar": {
             "outlinewidth": 0,
             "ticks": ""
            },
            "colorscale": [
             [
              0,
              "#0d0887"
             ],
             [
              0.1111111111111111,
              "#46039f"
             ],
             [
              0.2222222222222222,
              "#7201a8"
             ],
             [
              0.3333333333333333,
              "#9c179e"
             ],
             [
              0.4444444444444444,
              "#bd3786"
             ],
             [
              0.5555555555555556,
              "#d8576b"
             ],
             [
              0.6666666666666666,
              "#ed7953"
             ],
             [
              0.7777777777777778,
              "#fb9f3a"
             ],
             [
              0.8888888888888888,
              "#fdca26"
             ],
             [
              1,
              "#f0f921"
             ]
            ],
            "type": "histogram2dcontour"
           }
          ],
          "mesh3d": [
           {
            "colorbar": {
             "outlinewidth": 0,
             "ticks": ""
            },
            "type": "mesh3d"
           }
          ],
          "parcoords": [
           {
            "line": {
             "colorbar": {
              "outlinewidth": 0,
              "ticks": ""
             }
            },
            "type": "parcoords"
           }
          ],
          "pie": [
           {
            "automargin": true,
            "type": "pie"
           }
          ],
          "scatter": [
           {
            "fillpattern": {
             "fillmode": "overlay",
             "size": 10,
             "solidity": 0.2
            },
            "type": "scatter"
           }
          ],
          "scatter3d": [
           {
            "line": {
             "colorbar": {
              "outlinewidth": 0,
              "ticks": ""
             }
            },
            "marker": {
             "colorbar": {
              "outlinewidth": 0,
              "ticks": ""
             }
            },
            "type": "scatter3d"
           }
          ],
          "scattercarpet": [
           {
            "marker": {
             "colorbar": {
              "outlinewidth": 0,
              "ticks": ""
             }
            },
            "type": "scattercarpet"
           }
          ],
          "scattergeo": [
           {
            "marker": {
             "colorbar": {
              "outlinewidth": 0,
              "ticks": ""
             }
            },
            "type": "scattergeo"
           }
          ],
          "scattergl": [
           {
            "marker": {
             "colorbar": {
              "outlinewidth": 0,
              "ticks": ""
             }
            },
            "type": "scattergl"
           }
          ],
          "scattermapbox": [
           {
            "marker": {
             "colorbar": {
              "outlinewidth": 0,
              "ticks": ""
             }
            },
            "type": "scattermapbox"
           }
          ],
          "scatterpolar": [
           {
            "marker": {
             "colorbar": {
              "outlinewidth": 0,
              "ticks": ""
             }
            },
            "type": "scatterpolar"
           }
          ],
          "scatterpolargl": [
           {
            "marker": {
             "colorbar": {
              "outlinewidth": 0,
              "ticks": ""
             }
            },
            "type": "scatterpolargl"
           }
          ],
          "scatterternary": [
           {
            "marker": {
             "colorbar": {
              "outlinewidth": 0,
              "ticks": ""
             }
            },
            "type": "scatterternary"
           }
          ],
          "surface": [
           {
            "colorbar": {
             "outlinewidth": 0,
             "ticks": ""
            },
            "colorscale": [
             [
              0,
              "#0d0887"
             ],
             [
              0.1111111111111111,
              "#46039f"
             ],
             [
              0.2222222222222222,
              "#7201a8"
             ],
             [
              0.3333333333333333,
              "#9c179e"
             ],
             [
              0.4444444444444444,
              "#bd3786"
             ],
             [
              0.5555555555555556,
              "#d8576b"
             ],
             [
              0.6666666666666666,
              "#ed7953"
             ],
             [
              0.7777777777777778,
              "#fb9f3a"
             ],
             [
              0.8888888888888888,
              "#fdca26"
             ],
             [
              1,
              "#f0f921"
             ]
            ],
            "type": "surface"
           }
          ],
          "table": [
           {
            "cells": {
             "fill": {
              "color": "#EBF0F8"
             },
             "line": {
              "color": "white"
             }
            },
            "header": {
             "fill": {
              "color": "#C8D4E3"
             },
             "line": {
              "color": "white"
             }
            },
            "type": "table"
           }
          ]
         },
         "layout": {
          "annotationdefaults": {
           "arrowcolor": "#2a3f5f",
           "arrowhead": 0,
           "arrowwidth": 1
          },
          "autotypenumbers": "strict",
          "coloraxis": {
           "colorbar": {
            "outlinewidth": 0,
            "ticks": ""
           }
          },
          "colorscale": {
           "diverging": [
            [
             0,
             "#8e0152"
            ],
            [
             0.1,
             "#c51b7d"
            ],
            [
             0.2,
             "#de77ae"
            ],
            [
             0.3,
             "#f1b6da"
            ],
            [
             0.4,
             "#fde0ef"
            ],
            [
             0.5,
             "#f7f7f7"
            ],
            [
             0.6,
             "#e6f5d0"
            ],
            [
             0.7,
             "#b8e186"
            ],
            [
             0.8,
             "#7fbc41"
            ],
            [
             0.9,
             "#4d9221"
            ],
            [
             1,
             "#276419"
            ]
           ],
           "sequential": [
            [
             0,
             "#0d0887"
            ],
            [
             0.1111111111111111,
             "#46039f"
            ],
            [
             0.2222222222222222,
             "#7201a8"
            ],
            [
             0.3333333333333333,
             "#9c179e"
            ],
            [
             0.4444444444444444,
             "#bd3786"
            ],
            [
             0.5555555555555556,
             "#d8576b"
            ],
            [
             0.6666666666666666,
             "#ed7953"
            ],
            [
             0.7777777777777778,
             "#fb9f3a"
            ],
            [
             0.8888888888888888,
             "#fdca26"
            ],
            [
             1,
             "#f0f921"
            ]
           ],
           "sequentialminus": [
            [
             0,
             "#0d0887"
            ],
            [
             0.1111111111111111,
             "#46039f"
            ],
            [
             0.2222222222222222,
             "#7201a8"
            ],
            [
             0.3333333333333333,
             "#9c179e"
            ],
            [
             0.4444444444444444,
             "#bd3786"
            ],
            [
             0.5555555555555556,
             "#d8576b"
            ],
            [
             0.6666666666666666,
             "#ed7953"
            ],
            [
             0.7777777777777778,
             "#fb9f3a"
            ],
            [
             0.8888888888888888,
             "#fdca26"
            ],
            [
             1,
             "#f0f921"
            ]
           ]
          },
          "colorway": [
           "#636efa",
           "#EF553B",
           "#00cc96",
           "#ab63fa",
           "#FFA15A",
           "#19d3f3",
           "#FF6692",
           "#B6E880",
           "#FF97FF",
           "#FECB52"
          ],
          "font": {
           "color": "#2a3f5f"
          },
          "geo": {
           "bgcolor": "white",
           "lakecolor": "white",
           "landcolor": "#E5ECF6",
           "showlakes": true,
           "showland": true,
           "subunitcolor": "white"
          },
          "hoverlabel": {
           "align": "left"
          },
          "hovermode": "closest",
          "mapbox": {
           "style": "light"
          },
          "paper_bgcolor": "white",
          "plot_bgcolor": "#E5ECF6",
          "polar": {
           "angularaxis": {
            "gridcolor": "white",
            "linecolor": "white",
            "ticks": ""
           },
           "bgcolor": "#E5ECF6",
           "radialaxis": {
            "gridcolor": "white",
            "linecolor": "white",
            "ticks": ""
           }
          },
          "scene": {
           "xaxis": {
            "backgroundcolor": "#E5ECF6",
            "gridcolor": "white",
            "gridwidth": 2,
            "linecolor": "white",
            "showbackground": true,
            "ticks": "",
            "zerolinecolor": "white"
           },
           "yaxis": {
            "backgroundcolor": "#E5ECF6",
            "gridcolor": "white",
            "gridwidth": 2,
            "linecolor": "white",
            "showbackground": true,
            "ticks": "",
            "zerolinecolor": "white"
           },
           "zaxis": {
            "backgroundcolor": "#E5ECF6",
            "gridcolor": "white",
            "gridwidth": 2,
            "linecolor": "white",
            "showbackground": true,
            "ticks": "",
            "zerolinecolor": "white"
           }
          },
          "shapedefaults": {
           "line": {
            "color": "#2a3f5f"
           }
          },
          "ternary": {
           "aaxis": {
            "gridcolor": "white",
            "linecolor": "white",
            "ticks": ""
           },
           "baxis": {
            "gridcolor": "white",
            "linecolor": "white",
            "ticks": ""
           },
           "bgcolor": "#E5ECF6",
           "caxis": {
            "gridcolor": "white",
            "linecolor": "white",
            "ticks": ""
           }
          },
          "title": {
           "x": 0.05
          },
          "xaxis": {
           "automargin": true,
           "gridcolor": "white",
           "linecolor": "white",
           "ticks": "",
           "title": {
            "standoff": 15
           },
           "zerolinecolor": "white",
           "zerolinewidth": 2
          },
          "yaxis": {
           "automargin": true,
           "gridcolor": "white",
           "linecolor": "white",
           "ticks": "",
           "title": {
            "standoff": 15
           },
           "zerolinecolor": "white",
           "zerolinewidth": 2
          }
         }
        },
        "width": 900,
        "xaxis": {
         "gridcolor": "#1f292f",
         "nticks": 5,
         "rangeslider": {
          "visible": false
         }
        },
        "yaxis": {
         "gridcolor": "#1f292f"
        }
       }
      }
     },
     "metadata": {},
     "output_type": "display_data"
    }
   ],
   "source": [
    "cp = CandlePlot(df_gains, candles=False)\n",
    "cp.show_plot(line_traces=['GAIN_C'])"
   ]
  },
  {
   "cell_type": "code",
   "execution_count": 51,
   "id": "9520797e",
   "metadata": {},
   "outputs": [
    {
     "name": "stdout",
     "output_type": "stream",
     "text": [
      "AUD_JPY 832\n"
     ]
    },
    {
     "data": {
      "application/vnd.plotly.v1+json": {
       "config": {
        "plotlyServerURL": "https://plot.ly"
       },
       "data": [
        {
         "line": {
          "shape": "spline",
          "width": 2
         },
         "name": "GAIN_C",
         "type": "scatter",
         "x": [
          "s21-05-13 21:00",
          "s21-05-17 05:00",
          "s21-05-17 21:00",
          "s21-05-18 16:00",
          "s21-05-20 04:00",
          "s21-05-21 04:00",
          "s21-05-24 14:00",
          "s21-05-25 21:00",
          "s21-05-26 05:00",
          "s21-05-26 17:00",
          "s21-05-27 10:00",
          "s21-05-28 09:00",
          "s21-05-31 05:00",
          "s21-05-31 19:00",
          "s21-06-01 03:00",
          "s21-06-02 11:00",
          "s21-06-02 21:00",
          "s21-06-03 05:00",
          "s21-06-04 12:00",
          "s21-06-07 08:00",
          "s21-06-07 14:00",
          "s21-06-08 01:00",
          "s21-06-08 14:00",
          "s21-06-08 16:00",
          "s21-06-09 07:00",
          "s21-06-09 21:00",
          "s21-06-10 11:00",
          "s21-06-11 01:00",
          "s21-06-11 08:00",
          "s21-06-11 15:00",
          "s21-06-14 06:00",
          "s21-06-15 07:00",
          "s21-06-16 04:00",
          "s21-06-16 18:00",
          "s21-06-21 13:00",
          "s21-06-22 07:00",
          "s21-06-22 16:00",
          "s21-06-24 07:00",
          "s21-06-24 20:00",
          "s21-06-25 16:00",
          "s21-06-30 06:00",
          "s21-06-30 10:00",
          "s21-06-30 18:00",
          "s21-07-01 08:00",
          "s21-07-01 10:00",
          "s21-07-01 22:00",
          "s21-07-02 17:00",
          "s21-07-05 09:00",
          "s21-07-05 19:00",
          "s21-07-06 15:00",
          "s21-07-07 09:00",
          "s21-07-07 19:00",
          "s21-07-09 05:00",
          "s21-07-12 06:00",
          "s21-07-12 17:00",
          "s21-07-13 12:00",
          "s21-07-14 05:00",
          "s21-07-14 10:00",
          "s21-07-14 11:00",
          "s21-07-14 12:00",
          "s21-07-16 07:00",
          "s21-07-16 18:00",
          "s21-07-20 16:00",
          "s21-07-21 06:00",
          "s21-07-21 14:00",
          "s21-07-22 08:00",
          "s21-07-22 09:00",
          "s21-07-23 00:00",
          "s21-07-23 01:00",
          "s21-07-26 01:00",
          "s21-07-26 16:00",
          "s21-07-27 06:00",
          "s21-07-28 07:00",
          "s21-07-28 11:00",
          "s21-07-28 19:00",
          "s21-07-29 20:00",
          "s21-08-02 10:00",
          "s21-08-02 19:00",
          "s21-08-03 06:00",
          "s21-08-03 17:00",
          "s21-08-04 00:00",
          "s21-08-04 20:00",
          "s21-08-05 02:00",
          "s21-08-06 05:00",
          "s21-08-10 09:00",
          "s21-08-11 08:00",
          "s21-08-11 13:00",
          "s21-08-12 04:00",
          "s21-08-18 06:00",
          "s21-08-18 20:00",
          "s21-08-20 18:00",
          "s21-08-25 06:00",
          "s21-08-25 12:00",
          "s21-08-26 07:00",
          "s21-08-27 09:00",
          "s21-08-30 07:00",
          "s21-08-30 19:00",
          "s21-08-31 20:00",
          "s21-09-01 00:00",
          "s21-09-02 03:00",
          "s21-09-02 06:00",
          "s21-09-06 04:00",
          "s21-09-06 17:00",
          "s21-09-07 06:00",
          "s21-09-08 00:00",
          "s21-09-08 08:00",
          "s21-09-10 06:00",
          "s21-09-10 19:00",
          "s21-09-13 10:00",
          "s21-09-14 05:00",
          "s21-09-15 22:00",
          "s21-09-16 07:00",
          "s21-09-17 00:00",
          "s21-09-17 18:00",
          "s21-09-21 01:00",
          "s21-09-21 14:00",
          "s21-09-22 05:00",
          "s21-09-23 04:00",
          "s21-09-23 06:00",
          "s21-09-24 09:00",
          "s21-09-26 23:00",
          "s21-09-28 14:00",
          "s21-09-29 03:00",
          "s21-09-29 11:00",
          "s21-09-30 05:00",
          "s21-09-30 19:00",
          "s21-10-01 15:00",
          "s21-10-04 23:00",
          "s21-10-05 11:00",
          "s21-10-06 06:00",
          "s21-10-06 22:00",
          "s21-10-08 12:00",
          "s21-10-08 15:00",
          "s21-10-12 05:00",
          "s21-10-12 11:00",
          "s21-10-13 01:00",
          "s21-10-13 13:00",
          "s21-10-18 01:00",
          "s21-10-18 19:00",
          "s21-10-21 08:00",
          "s21-10-22 06:00",
          "s21-10-22 17:00",
          "s21-10-25 06:00",
          "s21-10-27 09:00",
          "s21-10-27 22:00",
          "s21-10-28 04:00",
          "s21-10-28 14:00",
          "s21-10-29 20:00",
          "s21-10-31 23:00",
          "s21-11-02 01:00",
          "s21-11-03 07:00",
          "s21-11-04 11:00",
          "s21-11-08 05:00",
          "s21-11-08 17:00",
          "s21-11-08 19:00",
          "s21-11-09 01:00",
          "s21-11-10 12:00",
          "s21-11-11 02:00",
          "s21-11-12 06:00",
          "s21-11-16 11:00",
          "s21-11-18 10:00",
          "s21-11-18 22:00",
          "s21-11-19 01:00",
          "s21-11-19 10:00",
          "s21-11-22 06:00",
          "s21-11-23 08:00",
          "s21-11-23 19:00",
          "s21-11-24 07:00",
          "s21-11-24 20:00",
          "s21-11-25 11:00",
          "s21-11-29 05:00",
          "s21-11-30 06:00",
          "s21-12-01 00:00",
          "s21-12-01 16:00",
          "s21-12-02 09:00",
          "s21-12-02 16:00",
          "s21-12-06 08:00",
          "s21-12-09 07:00",
          "s21-12-10 06:00",
          "s21-12-13 07:00",
          "s21-12-13 08:00",
          "s21-12-13 10:00",
          "s21-12-14 14:00",
          "s21-12-14 21:00",
          "s21-12-15 06:00",
          "s21-12-16 21:00",
          "s21-12-20 18:00",
          "s21-12-22 08:00",
          "s21-12-22 12:00",
          "s21-12-24 05:00",
          "s21-12-27 04:00",
          "s21-12-28 18:00",
          "s21-12-29 08:00",
          "s21-12-30 22:00"
         ],
         "y": [
          15.59999999999917,
          5.599999999998317,
          14.999999999997726,
          49.399999999997135,
          27.799999999996317,
          40.09999999999536,
          49.39999999999429,
          11.799999999993815,
          -12.400000000006628,
          -22.10000000000747,
          4.399999999992588,
          11.199999999992372,
          7.599999999992235,
          -15.700000000006753,
          -27.400000000005775,
          -33.60000000000554,
          -37.100000000005195,
          -17.80000000000541,
          -9.300000000006037,
          -11.000000000005627,
          -10.000000000005116,
          -7.000000000005002,
          -11.300000000005639,
          -17.000000000005855,
          -19.20000000000499,
          -18.800000000004502,
          -12.900000000004752,
          -33.60000000000554,
          -90.00000000000625,
          -98.20000000000704,
          -74.40000000000708,
          -67.50000000000682,
          -124.80000000000757,
          -1.200000000008572,
          -0.40000000000901537,
          -57.700000000008345,
          -9.000000000007446,
          -21.00000000000648,
          -16.2000000000063,
          80.89999999999264,
          55.79999999999217,
          20.499999999992724,
          34.19999999999277,
          27.59999999999252,
          11.199999999992372,
          -14.900000000007196,
          -21.500000000006025,
          -29.900000000004923,
          -91.40000000000441,
          -119.30000000000405,
          -167.000000000003,
          -62.000000000001876,
          -6.400000000000716,
          -22.20000000000084,
          -53.80000000000109,
          -85.10000000000133,
          -91.80000000000206,
          -97.00000000000273,
          -93.40000000000401,
          -31.00000000000449,
          -68.00000000000495,
          23.39999999999378,
          -6.000000000007333,
          -79.00000000000773,
          -46.600000000007924,
          -54.80000000000871,
          -60.00000000000938,
          -60.500000000008924,
          -76.20000000000857,
          -100.8000000000095,
          -129.6000000000106,
          -95.80000000001121,
          -93.20000000001158,
          -110.40000000001129,
          -111.40000000001038,
          -71.20000000001028,
          -85.0000000000108,
          -106.80000000001115,
          -109.40000000001078,
          -100.90000000000998,
          -76.90000000000907,
          -101.4000000000081,
          -89.20000000000812,
          -74.80000000000899,
          -59.20000000000982,
          -91.0000000000096,
          -109.10000000000935,
          62.59999999999053,
          42.39999999999071,
          145.59999999999036,
          254.39999999998975,
          228.99999999998926,
          258.79999999998944,
          267.7999999999898,
          296.6999999999899,
          300.39999999999054,
          330.49999999999073,
          321.59999999999087,
          368.7999999999917,
          340.4999999999916,
          367.0999999999907,
          355.9999999999903,
          348.49999999999,
          356.1999999999898,
          313.3999999999901,
          310.49999999999045,
          272.89999999999,
          255.8999999999898,
          241.29999999998972,
          289.79999999998967,
          258.1999999999894,
          255.39999999998884,
          247.7999999999895,
          283.79999999999086,
          215.7999999999916,
          165.59999999999206,
          180.19999999999214,
          161.29999999999143,
          207.5999999999908,
          179.5999999999907,
          199.899999999991,
          190.19999999999158,
          167.99999999999216,
          164.89999999999299,
          148.79999999999427,
          122.39999999999469,
          142.699999999995,
          135.99999999999568,
          147.19999999999516,
          145.9999999999951,
          214.79999999999535,
          195.19999999999555,
          333.79999999999654,
          296.399999999997,
          248.99999999999665,
          225.4999999999967,
          335.3999999999971,
          316.9999999999973,
          376.7999999999972,
          380.39999999999736,
          313.19999999999766,
          271.399999999997,
          287.79999999999717,
          260.299999999998,
          235.3999999999985,
          202.9999999999987,
          216.1999999999992,
          200.3,
          192.6000000000002,
          290.69999999999965,
          250.19999999999953,
          281.0000000000002,
          273.3000000000004,
          269.50000000000074,
          234.80000000000132,
          269.6000000000012,
          262.80000000000143,
          260.5000000000018,
          315.7000000000025,
          388.9000000000024,
          386.80000000000234,
          379.200000000003,
          313.90000000000384,
          294.30000000000405,
          290.20000000000294,
          249.50000000000188,
          230.30000000000115,
          217.00000000000017,
          203.30000000000013,
          407.8000000000003,
          368.2000000000002,
          340.6000000000006,
          311.59999999999997,
          313.8999999999996,
          297.10000000000036,
          376.8000000000015,
          564.0000000000015,
          572.7000000000004,
          565.3999999999996,
          567.3999999999992,
          552.9999999999986,
          557.1999999999988,
          542.6999999999991,
          530.3999999999987,
          603.1999999999982,
          683.3999999999975,
          761.9999999999976,
          740.0999999999982,
          825.8999999999986,
          821.3999999999985,
          834.2999999999976,
          809.3999999999967,
          832.1999999999962,
          832.1999999999962
         ]
        }
       ],
       "layout": {
        "font": {
         "color": "#e1e1e1",
         "size": 8
        },
        "height": 400,
        "margin": {
         "b": 10,
         "l": 10,
         "r": 10,
         "t": 10
        },
        "paper_bgcolor": "#2c303c",
        "plot_bgcolor": "#2c303c",
        "template": {
         "data": {
          "bar": [
           {
            "error_x": {
             "color": "#2a3f5f"
            },
            "error_y": {
             "color": "#2a3f5f"
            },
            "marker": {
             "line": {
              "color": "#E5ECF6",
              "width": 0.5
             },
             "pattern": {
              "fillmode": "overlay",
              "size": 10,
              "solidity": 0.2
             }
            },
            "type": "bar"
           }
          ],
          "barpolar": [
           {
            "marker": {
             "line": {
              "color": "#E5ECF6",
              "width": 0.5
             },
             "pattern": {
              "fillmode": "overlay",
              "size": 10,
              "solidity": 0.2
             }
            },
            "type": "barpolar"
           }
          ],
          "carpet": [
           {
            "aaxis": {
             "endlinecolor": "#2a3f5f",
             "gridcolor": "white",
             "linecolor": "white",
             "minorgridcolor": "white",
             "startlinecolor": "#2a3f5f"
            },
            "baxis": {
             "endlinecolor": "#2a3f5f",
             "gridcolor": "white",
             "linecolor": "white",
             "minorgridcolor": "white",
             "startlinecolor": "#2a3f5f"
            },
            "type": "carpet"
           }
          ],
          "choropleth": [
           {
            "colorbar": {
             "outlinewidth": 0,
             "ticks": ""
            },
            "type": "choropleth"
           }
          ],
          "contour": [
           {
            "colorbar": {
             "outlinewidth": 0,
             "ticks": ""
            },
            "colorscale": [
             [
              0,
              "#0d0887"
             ],
             [
              0.1111111111111111,
              "#46039f"
             ],
             [
              0.2222222222222222,
              "#7201a8"
             ],
             [
              0.3333333333333333,
              "#9c179e"
             ],
             [
              0.4444444444444444,
              "#bd3786"
             ],
             [
              0.5555555555555556,
              "#d8576b"
             ],
             [
              0.6666666666666666,
              "#ed7953"
             ],
             [
              0.7777777777777778,
              "#fb9f3a"
             ],
             [
              0.8888888888888888,
              "#fdca26"
             ],
             [
              1,
              "#f0f921"
             ]
            ],
            "type": "contour"
           }
          ],
          "contourcarpet": [
           {
            "colorbar": {
             "outlinewidth": 0,
             "ticks": ""
            },
            "type": "contourcarpet"
           }
          ],
          "heatmap": [
           {
            "colorbar": {
             "outlinewidth": 0,
             "ticks": ""
            },
            "colorscale": [
             [
              0,
              "#0d0887"
             ],
             [
              0.1111111111111111,
              "#46039f"
             ],
             [
              0.2222222222222222,
              "#7201a8"
             ],
             [
              0.3333333333333333,
              "#9c179e"
             ],
             [
              0.4444444444444444,
              "#bd3786"
             ],
             [
              0.5555555555555556,
              "#d8576b"
             ],
             [
              0.6666666666666666,
              "#ed7953"
             ],
             [
              0.7777777777777778,
              "#fb9f3a"
             ],
             [
              0.8888888888888888,
              "#fdca26"
             ],
             [
              1,
              "#f0f921"
             ]
            ],
            "type": "heatmap"
           }
          ],
          "heatmapgl": [
           {
            "colorbar": {
             "outlinewidth": 0,
             "ticks": ""
            },
            "colorscale": [
             [
              0,
              "#0d0887"
             ],
             [
              0.1111111111111111,
              "#46039f"
             ],
             [
              0.2222222222222222,
              "#7201a8"
             ],
             [
              0.3333333333333333,
              "#9c179e"
             ],
             [
              0.4444444444444444,
              "#bd3786"
             ],
             [
              0.5555555555555556,
              "#d8576b"
             ],
             [
              0.6666666666666666,
              "#ed7953"
             ],
             [
              0.7777777777777778,
              "#fb9f3a"
             ],
             [
              0.8888888888888888,
              "#fdca26"
             ],
             [
              1,
              "#f0f921"
             ]
            ],
            "type": "heatmapgl"
           }
          ],
          "histogram": [
           {
            "marker": {
             "pattern": {
              "fillmode": "overlay",
              "size": 10,
              "solidity": 0.2
             }
            },
            "type": "histogram"
           }
          ],
          "histogram2d": [
           {
            "colorbar": {
             "outlinewidth": 0,
             "ticks": ""
            },
            "colorscale": [
             [
              0,
              "#0d0887"
             ],
             [
              0.1111111111111111,
              "#46039f"
             ],
             [
              0.2222222222222222,
              "#7201a8"
             ],
             [
              0.3333333333333333,
              "#9c179e"
             ],
             [
              0.4444444444444444,
              "#bd3786"
             ],
             [
              0.5555555555555556,
              "#d8576b"
             ],
             [
              0.6666666666666666,
              "#ed7953"
             ],
             [
              0.7777777777777778,
              "#fb9f3a"
             ],
             [
              0.8888888888888888,
              "#fdca26"
             ],
             [
              1,
              "#f0f921"
             ]
            ],
            "type": "histogram2d"
           }
          ],
          "histogram2dcontour": [
           {
            "colorbar": {
             "outlinewidth": 0,
             "ticks": ""
            },
            "colorscale": [
             [
              0,
              "#0d0887"
             ],
             [
              0.1111111111111111,
              "#46039f"
             ],
             [
              0.2222222222222222,
              "#7201a8"
             ],
             [
              0.3333333333333333,
              "#9c179e"
             ],
             [
              0.4444444444444444,
              "#bd3786"
             ],
             [
              0.5555555555555556,
              "#d8576b"
             ],
             [
              0.6666666666666666,
              "#ed7953"
             ],
             [
              0.7777777777777778,
              "#fb9f3a"
             ],
             [
              0.8888888888888888,
              "#fdca26"
             ],
             [
              1,
              "#f0f921"
             ]
            ],
            "type": "histogram2dcontour"
           }
          ],
          "mesh3d": [
           {
            "colorbar": {
             "outlinewidth": 0,
             "ticks": ""
            },
            "type": "mesh3d"
           }
          ],
          "parcoords": [
           {
            "line": {
             "colorbar": {
              "outlinewidth": 0,
              "ticks": ""
             }
            },
            "type": "parcoords"
           }
          ],
          "pie": [
           {
            "automargin": true,
            "type": "pie"
           }
          ],
          "scatter": [
           {
            "fillpattern": {
             "fillmode": "overlay",
             "size": 10,
             "solidity": 0.2
            },
            "type": "scatter"
           }
          ],
          "scatter3d": [
           {
            "line": {
             "colorbar": {
              "outlinewidth": 0,
              "ticks": ""
             }
            },
            "marker": {
             "colorbar": {
              "outlinewidth": 0,
              "ticks": ""
             }
            },
            "type": "scatter3d"
           }
          ],
          "scattercarpet": [
           {
            "marker": {
             "colorbar": {
              "outlinewidth": 0,
              "ticks": ""
             }
            },
            "type": "scattercarpet"
           }
          ],
          "scattergeo": [
           {
            "marker": {
             "colorbar": {
              "outlinewidth": 0,
              "ticks": ""
             }
            },
            "type": "scattergeo"
           }
          ],
          "scattergl": [
           {
            "marker": {
             "colorbar": {
              "outlinewidth": 0,
              "ticks": ""
             }
            },
            "type": "scattergl"
           }
          ],
          "scattermapbox": [
           {
            "marker": {
             "colorbar": {
              "outlinewidth": 0,
              "ticks": ""
             }
            },
            "type": "scattermapbox"
           }
          ],
          "scatterpolar": [
           {
            "marker": {
             "colorbar": {
              "outlinewidth": 0,
              "ticks": ""
             }
            },
            "type": "scatterpolar"
           }
          ],
          "scatterpolargl": [
           {
            "marker": {
             "colorbar": {
              "outlinewidth": 0,
              "ticks": ""
             }
            },
            "type": "scatterpolargl"
           }
          ],
          "scatterternary": [
           {
            "marker": {
             "colorbar": {
              "outlinewidth": 0,
              "ticks": ""
             }
            },
            "type": "scatterternary"
           }
          ],
          "surface": [
           {
            "colorbar": {
             "outlinewidth": 0,
             "ticks": ""
            },
            "colorscale": [
             [
              0,
              "#0d0887"
             ],
             [
              0.1111111111111111,
              "#46039f"
             ],
             [
              0.2222222222222222,
              "#7201a8"
             ],
             [
              0.3333333333333333,
              "#9c179e"
             ],
             [
              0.4444444444444444,
              "#bd3786"
             ],
             [
              0.5555555555555556,
              "#d8576b"
             ],
             [
              0.6666666666666666,
              "#ed7953"
             ],
             [
              0.7777777777777778,
              "#fb9f3a"
             ],
             [
              0.8888888888888888,
              "#fdca26"
             ],
             [
              1,
              "#f0f921"
             ]
            ],
            "type": "surface"
           }
          ],
          "table": [
           {
            "cells": {
             "fill": {
              "color": "#EBF0F8"
             },
             "line": {
              "color": "white"
             }
            },
            "header": {
             "fill": {
              "color": "#C8D4E3"
             },
             "line": {
              "color": "white"
             }
            },
            "type": "table"
           }
          ]
         },
         "layout": {
          "annotationdefaults": {
           "arrowcolor": "#2a3f5f",
           "arrowhead": 0,
           "arrowwidth": 1
          },
          "autotypenumbers": "strict",
          "coloraxis": {
           "colorbar": {
            "outlinewidth": 0,
            "ticks": ""
           }
          },
          "colorscale": {
           "diverging": [
            [
             0,
             "#8e0152"
            ],
            [
             0.1,
             "#c51b7d"
            ],
            [
             0.2,
             "#de77ae"
            ],
            [
             0.3,
             "#f1b6da"
            ],
            [
             0.4,
             "#fde0ef"
            ],
            [
             0.5,
             "#f7f7f7"
            ],
            [
             0.6,
             "#e6f5d0"
            ],
            [
             0.7,
             "#b8e186"
            ],
            [
             0.8,
             "#7fbc41"
            ],
            [
             0.9,
             "#4d9221"
            ],
            [
             1,
             "#276419"
            ]
           ],
           "sequential": [
            [
             0,
             "#0d0887"
            ],
            [
             0.1111111111111111,
             "#46039f"
            ],
            [
             0.2222222222222222,
             "#7201a8"
            ],
            [
             0.3333333333333333,
             "#9c179e"
            ],
            [
             0.4444444444444444,
             "#bd3786"
            ],
            [
             0.5555555555555556,
             "#d8576b"
            ],
            [
             0.6666666666666666,
             "#ed7953"
            ],
            [
             0.7777777777777778,
             "#fb9f3a"
            ],
            [
             0.8888888888888888,
             "#fdca26"
            ],
            [
             1,
             "#f0f921"
            ]
           ],
           "sequentialminus": [
            [
             0,
             "#0d0887"
            ],
            [
             0.1111111111111111,
             "#46039f"
            ],
            [
             0.2222222222222222,
             "#7201a8"
            ],
            [
             0.3333333333333333,
             "#9c179e"
            ],
            [
             0.4444444444444444,
             "#bd3786"
            ],
            [
             0.5555555555555556,
             "#d8576b"
            ],
            [
             0.6666666666666666,
             "#ed7953"
            ],
            [
             0.7777777777777778,
             "#fb9f3a"
            ],
            [
             0.8888888888888888,
             "#fdca26"
            ],
            [
             1,
             "#f0f921"
            ]
           ]
          },
          "colorway": [
           "#636efa",
           "#EF553B",
           "#00cc96",
           "#ab63fa",
           "#FFA15A",
           "#19d3f3",
           "#FF6692",
           "#B6E880",
           "#FF97FF",
           "#FECB52"
          ],
          "font": {
           "color": "#2a3f5f"
          },
          "geo": {
           "bgcolor": "white",
           "lakecolor": "white",
           "landcolor": "#E5ECF6",
           "showlakes": true,
           "showland": true,
           "subunitcolor": "white"
          },
          "hoverlabel": {
           "align": "left"
          },
          "hovermode": "closest",
          "mapbox": {
           "style": "light"
          },
          "paper_bgcolor": "white",
          "plot_bgcolor": "#E5ECF6",
          "polar": {
           "angularaxis": {
            "gridcolor": "white",
            "linecolor": "white",
            "ticks": ""
           },
           "bgcolor": "#E5ECF6",
           "radialaxis": {
            "gridcolor": "white",
            "linecolor": "white",
            "ticks": ""
           }
          },
          "scene": {
           "xaxis": {
            "backgroundcolor": "#E5ECF6",
            "gridcolor": "white",
            "gridwidth": 2,
            "linecolor": "white",
            "showbackground": true,
            "ticks": "",
            "zerolinecolor": "white"
           },
           "yaxis": {
            "backgroundcolor": "#E5ECF6",
            "gridcolor": "white",
            "gridwidth": 2,
            "linecolor": "white",
            "showbackground": true,
            "ticks": "",
            "zerolinecolor": "white"
           },
           "zaxis": {
            "backgroundcolor": "#E5ECF6",
            "gridcolor": "white",
            "gridwidth": 2,
            "linecolor": "white",
            "showbackground": true,
            "ticks": "",
            "zerolinecolor": "white"
           }
          },
          "shapedefaults": {
           "line": {
            "color": "#2a3f5f"
           }
          },
          "ternary": {
           "aaxis": {
            "gridcolor": "white",
            "linecolor": "white",
            "ticks": ""
           },
           "baxis": {
            "gridcolor": "white",
            "linecolor": "white",
            "ticks": ""
           },
           "bgcolor": "#E5ECF6",
           "caxis": {
            "gridcolor": "white",
            "linecolor": "white",
            "ticks": ""
           }
          },
          "title": {
           "x": 0.05
          },
          "xaxis": {
           "automargin": true,
           "gridcolor": "white",
           "linecolor": "white",
           "ticks": "",
           "title": {
            "standoff": 15
           },
           "zerolinecolor": "white",
           "zerolinewidth": 2
          },
          "yaxis": {
           "automargin": true,
           "gridcolor": "white",
           "linecolor": "white",
           "ticks": "",
           "title": {
            "standoff": 15
           },
           "zerolinecolor": "white",
           "zerolinewidth": 2
          }
         }
        },
        "width": 900,
        "xaxis": {
         "gridcolor": "#1f292f",
         "nticks": 5,
         "rangeslider": {
          "visible": false
         }
        },
        "yaxis": {
         "gridcolor": "#1f292f"
        }
       }
      }
     },
     "metadata": {},
     "output_type": "display_data"
    },
    {
     "name": "stdout",
     "output_type": "stream",
     "text": [
      "CAD_JPY 787\n"
     ]
    },
    {
     "data": {
      "application/vnd.plotly.v1+json": {
       "config": {
        "plotlyServerURL": "https://plot.ly"
       },
       "data": [
        {
         "line": {
          "shape": "spline",
          "width": 2
         },
         "name": "GAIN_C",
         "type": "scatter",
         "x": [
          "s21-05-13 08:00",
          "s21-05-14 09:00",
          "s21-05-17 03:00",
          "s21-05-17 16:00",
          "s21-05-18 14:00",
          "s21-05-19 10:00",
          "s21-05-19 14:00",
          "s21-05-20 06:00",
          "s21-05-20 10:00",
          "s21-05-20 18:00",
          "s21-05-21 06:00",
          "s21-05-21 14:00",
          "s21-05-24 04:00",
          "s21-05-24 16:00",
          "s21-05-25 20:00",
          "s21-05-26 08:00",
          "s21-05-26 13:00",
          "s21-05-27 10:00",
          "s21-05-28 09:00",
          "s21-05-28 20:00",
          "s21-05-31 00:00",
          "s21-05-31 02:00",
          "s21-05-31 04:00",
          "s21-06-01 03:00",
          "s21-06-01 21:00",
          "s21-06-02 08:00",
          "s21-06-03 12:00",
          "s21-06-03 22:00",
          "s21-06-04 05:00",
          "s21-06-08 07:00",
          "s21-06-08 18:00",
          "s21-06-09 08:00",
          "s21-06-10 00:00",
          "s21-06-10 13:00",
          "s21-06-10 23:00",
          "s21-06-11 08:00",
          "s21-06-11 16:00",
          "s21-06-14 07:00",
          "s21-06-15 10:00",
          "s21-06-16 04:00",
          "s21-06-16 12:00",
          "s21-06-21 14:00",
          "s21-06-24 00:00",
          "s21-06-25 05:00",
          "s21-06-28 03:00",
          "s21-06-30 12:00",
          "s21-07-01 23:00",
          "s21-07-02 11:00",
          "s21-07-05 07:00",
          "s21-07-05 22:00",
          "s21-07-06 08:00",
          "s21-07-07 09:00",
          "s21-07-07 19:00",
          "s21-07-09 00:00",
          "s21-07-12 08:00",
          "s21-07-12 18:00",
          "s21-07-13 10:00",
          "s21-07-14 01:00",
          "s21-07-14 14:00",
          "s21-07-16 07:00",
          "s21-07-16 19:00",
          "s21-07-20 03:00",
          "s21-07-20 11:00",
          "s21-07-20 15:00",
          "s21-07-22 07:00",
          "s21-07-22 14:00",
          "s21-07-22 21:00",
          "s21-07-23 06:00",
          "s21-07-26 03:00",
          "s21-07-26 16:00",
          "s21-07-27 05:00",
          "s21-07-28 07:00",
          "s21-07-29 22:00",
          "s21-07-30 09:00",
          "s21-08-01 21:00",
          "s21-08-04 04:00",
          "s21-08-06 08:00",
          "s21-08-08 21:00",
          "s21-08-08 22:00",
          "s21-08-09 11:00",
          "s21-08-09 20:00",
          "s21-08-10 06:00",
          "s21-08-11 18:00",
          "s21-08-17 19:00",
          "s21-08-18 22:00",
          "s21-08-20 19:00",
          "s21-08-25 08:00",
          "s21-08-25 16:00",
          "s21-08-26 09:00",
          "s21-08-27 11:00",
          "s21-08-30 06:00",
          "s21-08-30 12:00",
          "s21-08-31 03:00",
          "s21-08-31 07:00",
          "s21-08-31 16:00",
          "s21-09-01 01:00",
          "s21-09-01 18:00",
          "s21-09-02 10:00",
          "s21-09-03 18:00",
          "s21-09-06 14:00",
          "s21-09-07 05:00",
          "s21-09-09 17:00",
          "s21-09-10 20:00",
          "s21-09-13 10:00",
          "s21-09-14 14:00",
          "s21-09-15 18:00",
          "s21-09-16 08:00",
          "s21-09-16 15:00",
          "s21-09-16 22:00",
          "s21-09-17 03:00",
          "s21-09-17 17:00",
          "s21-09-21 02:00",
          "s21-09-21 16:00",
          "s21-09-22 06:00",
          "s21-09-24 10:00",
          "s21-09-24 17:00",
          "s21-09-28 15:00",
          "s21-09-29 06:00",
          "s21-09-29 08:00",
          "s21-09-30 01:00",
          "s21-09-30 20:00",
          "s21-10-01 17:00",
          "s21-10-05 01:00",
          "s21-10-05 10:00",
          "s21-10-06 08:00",
          "s21-10-06 23:00",
          "s21-10-12 03:00",
          "s21-10-12 11:00",
          "s21-10-13 03:00",
          "s21-10-13 11:00",
          "s21-10-13 20:00",
          "s21-10-14 04:00",
          "s21-10-15 20:00",
          "s21-10-18 16:00",
          "s21-10-19 20:00",
          "s21-10-19 23:00",
          "s21-10-20 15:00",
          "s21-10-20 21:00",
          "s21-10-21 08:00",
          "s21-10-22 05:00",
          "s21-10-22 15:00",
          "s21-10-25 06:00",
          "s21-10-25 16:00",
          "s21-10-26 04:00",
          "s21-10-26 23:00",
          "s21-10-27 19:00",
          "s21-10-28 06:00",
          "s21-10-28 17:00",
          "s21-11-01 21:00",
          "s21-11-02 21:00",
          "s21-11-03 06:00",
          "s21-11-03 16:00",
          "s21-11-04 11:00",
          "s21-11-08 07:00",
          "s21-11-08 14:00",
          "s21-11-10 01:00",
          "s21-11-11 02:00",
          "s21-11-12 04:00",
          "s21-11-12 12:00",
          "s21-11-14 22:00",
          "s21-11-16 12:00",
          "s21-11-16 19:00",
          "s21-11-17 14:00",
          "s21-11-18 12:00",
          "s21-11-19 11:00",
          "s21-11-22 05:00",
          "s21-11-23 08:00",
          "s21-11-23 19:00",
          "s21-11-24 10:00",
          "s21-11-24 16:00",
          "s21-11-25 13:00",
          "s21-11-25 21:00",
          "s21-11-26 00:00",
          "s21-11-29 05:00",
          "s21-11-29 16:00",
          "s21-11-29 19:00",
          "s21-11-30 06:00",
          "s21-12-01 00:00",
          "s21-12-01 16:00",
          "s21-12-02 08:00",
          "s21-12-02 17:00",
          "s21-12-03 03:00",
          "s21-12-03 18:00",
          "s21-12-06 08:00",
          "s21-12-08 07:00",
          "s21-12-08 11:00",
          "s21-12-09 00:00",
          "s21-12-10 10:00",
          "s21-12-10 19:00",
          "s21-12-13 07:00",
          "s21-12-13 12:00",
          "s21-12-14 14:00",
          "s21-12-14 16:00",
          "s21-12-15 08:00",
          "s21-12-15 12:00",
          "s21-12-15 22:00",
          "s21-12-16 21:00",
          "s21-12-21 01:00",
          "s21-12-24 06:00",
          "s21-12-24 14:00",
          "s21-12-26 23:00",
          "s21-12-27 06:00",
          "s21-12-28 10:00",
          "s21-12-29 08:00"
         ],
         "y": [
          18.09999999999974,
          23.89999999999901,
          -1.300000000001944,
          -2.1000000000029218,
          -14.500000000003865,
          -101.10000000000383,
          -144.8000000000036,
          -157.90000000000362,
          -186.80000000000376,
          -207.10000000000406,
          -246.70000000000414,
          -270.9000000000046,
          -272.00000000000415,
          -276.70000000000385,
          -277.10000000000434,
          -294.500000000005,
          -320.300000000006,
          -258.90000000000697,
          -271.6000000000079,
          -282.1000000000083,
          -279.70000000000823,
          -284.2000000000084,
          -288.10000000000855,
          -302.60000000000815,
          -327.4000000000072,
          -327.60000000000673,
          -344.10000000000736,
          -358.30000000000837,
          -324.30000000000945,
          -341.1000000000101,
          -352.10000000001,
          -362.40000000000947,
          -382.9000000000093,
          -405.70000000000874,
          -420.3000000000074,
          -461.30000000000706,
          -472.50000000000796,
          -467.50000000000824,
          -473.8000000000085,
          -497.7000000000089,
          -381.10000000000923,
          -258.0000000000098,
          -241.60000000000963,
          -258.70000000000886,
          -204.70000000000823,
          -171.3000000000079,
          -177.7000000000072,
          -167.2000000000068,
          -175.0000000000071,
          -191.30000000000678,
          -121.20000000000601,
          -168.5000000000059,
          -76.7000000000067,
          -26.700000000006696,
          -59.1000000000065,
          -76.30000000000763,
          -77.90000000000816,
          -102.30000000000814,
          -37.900000000007594,
          -56.70000000000641,
          89.49999999999392,
          104.59999999999354,
          61.89999999999287,
          192.29999999999308,
          200.29999999999433,
          208.1999999999951,
          204.4999999999959,
          201.99999999999676,
          175.29999999999717,
          157.69999999999698,
          196.89999999999657,
          255.39999999999594,
          246.89999999999515,
          230.29999999999546,
          312.49999999999574,
          379.899999999995,
          370.19999999999413,
          355.6999999999931,
          341.39999999999304,
          329.29999999999353,
          318.4999999999931,
          365.2999999999935,
          514.0999999999949,
          512.9999999999953,
          633.9999999999948,
          776.699999999994,
          757.8999999999937,
          773.8999999999934,
          828.4999999999926,
          841.3999999999917,
          814.0999999999906,
          806.2999999999903,
          796.8999999999909,
          782.4999999999918,
          766.1999999999921,
          753.999999999992,
          742.4999999999925,
          777.8999999999924,
          777.2999999999923,
          772.0999999999931,
          852.1999999999932,
          835.2999999999936,
          809.6999999999936,
          773.7999999999927,
          769.0999999999915,
          771.4999999999916,
          778.4999999999923,
          782.8999999999919,
          768.2999999999918,
          720.2999999999913,
          767.9999999999902,
          736.0999999999899,
          702.49999999999,
          837.0999999999904,
          802.49999999999,
          830.0999999999897,
          814.69999999999,
          802.9999999999895,
          799.0999999999894,
          796.0999999999893,
          784.4999999999893,
          807.4999999999898,
          789.69999999999,
          792.7999999999906,
          771.8999999999903,
          991.0999999999897,
          961.8999999999895,
          971.4999999999899,
          954.1999999999897,
          929.4999999999898,
          893.5999999999904,
          998.2999999999901,
          1005.1999999999903,
          1019.0999999999913,
          998.1999999999923,
          994.6999999999927,
          979.899999999993,
          940.8999999999944,
          955.4999999999945,
          896.2999999999932,
          864.8999999999926,
          839.1999999999921,
          805.0999999999913,
          810.699999999991,
          819.0999999999913,
          793.8999999999917,
          784.2999999999913,
          810.5999999999904,
          841.19999999999,
          822.6999999999898,
          801.9999999999891,
          779.2999999999887,
          821.6999999999894,
          775.1999999999905,
          769.8999999999908,
          809.7999999999909,
          858.1999999999917,
          838.7999999999929,
          812.0999999999933,
          848.8999999999928,
          834.0999999999932,
          805.7999999999945,
          846.1999999999955,
          780.2999999999963,
          749.2999999999961,
          720.0999999999959,
          646.299999999996,
          637.2999999999956,
          589.3999999999958,
          579.8999999999959,
          561.2999999999965,
          514.5999999999967,
          704.0999999999963,
          711.6999999999971,
          700.4999999999976,
          646.3999999999979,
          630.4999999999987,
          594.6999999999998,
          574.9000000000005,
          557.1999999999998,
          561.0999999999985,
          508.09999999999843,
          450.6999999999986,
          583.2999999999979,
          538.9999999999982,
          517.0999999999988,
          559.6999999999989,
          525.0999999999985,
          519.6999999999983,
          508.6999999999984,
          550.899999999998,
          526.0999999999976,
          525.8999999999967,
          535.0999999999965,
          497.49999999999744,
          512.9999999999975,
          618.0999999999976,
          743.7999999999981,
          741.4999999999985,
          739.6999999999985,
          734.2999999999982,
          783.2999999999992,
          787.5999999999998,
          787.5999999999998
         ]
        }
       ],
       "layout": {
        "font": {
         "color": "#e1e1e1",
         "size": 8
        },
        "height": 400,
        "margin": {
         "b": 10,
         "l": 10,
         "r": 10,
         "t": 10
        },
        "paper_bgcolor": "#2c303c",
        "plot_bgcolor": "#2c303c",
        "template": {
         "data": {
          "bar": [
           {
            "error_x": {
             "color": "#2a3f5f"
            },
            "error_y": {
             "color": "#2a3f5f"
            },
            "marker": {
             "line": {
              "color": "#E5ECF6",
              "width": 0.5
             },
             "pattern": {
              "fillmode": "overlay",
              "size": 10,
              "solidity": 0.2
             }
            },
            "type": "bar"
           }
          ],
          "barpolar": [
           {
            "marker": {
             "line": {
              "color": "#E5ECF6",
              "width": 0.5
             },
             "pattern": {
              "fillmode": "overlay",
              "size": 10,
              "solidity": 0.2
             }
            },
            "type": "barpolar"
           }
          ],
          "carpet": [
           {
            "aaxis": {
             "endlinecolor": "#2a3f5f",
             "gridcolor": "white",
             "linecolor": "white",
             "minorgridcolor": "white",
             "startlinecolor": "#2a3f5f"
            },
            "baxis": {
             "endlinecolor": "#2a3f5f",
             "gridcolor": "white",
             "linecolor": "white",
             "minorgridcolor": "white",
             "startlinecolor": "#2a3f5f"
            },
            "type": "carpet"
           }
          ],
          "choropleth": [
           {
            "colorbar": {
             "outlinewidth": 0,
             "ticks": ""
            },
            "type": "choropleth"
           }
          ],
          "contour": [
           {
            "colorbar": {
             "outlinewidth": 0,
             "ticks": ""
            },
            "colorscale": [
             [
              0,
              "#0d0887"
             ],
             [
              0.1111111111111111,
              "#46039f"
             ],
             [
              0.2222222222222222,
              "#7201a8"
             ],
             [
              0.3333333333333333,
              "#9c179e"
             ],
             [
              0.4444444444444444,
              "#bd3786"
             ],
             [
              0.5555555555555556,
              "#d8576b"
             ],
             [
              0.6666666666666666,
              "#ed7953"
             ],
             [
              0.7777777777777778,
              "#fb9f3a"
             ],
             [
              0.8888888888888888,
              "#fdca26"
             ],
             [
              1,
              "#f0f921"
             ]
            ],
            "type": "contour"
           }
          ],
          "contourcarpet": [
           {
            "colorbar": {
             "outlinewidth": 0,
             "ticks": ""
            },
            "type": "contourcarpet"
           }
          ],
          "heatmap": [
           {
            "colorbar": {
             "outlinewidth": 0,
             "ticks": ""
            },
            "colorscale": [
             [
              0,
              "#0d0887"
             ],
             [
              0.1111111111111111,
              "#46039f"
             ],
             [
              0.2222222222222222,
              "#7201a8"
             ],
             [
              0.3333333333333333,
              "#9c179e"
             ],
             [
              0.4444444444444444,
              "#bd3786"
             ],
             [
              0.5555555555555556,
              "#d8576b"
             ],
             [
              0.6666666666666666,
              "#ed7953"
             ],
             [
              0.7777777777777778,
              "#fb9f3a"
             ],
             [
              0.8888888888888888,
              "#fdca26"
             ],
             [
              1,
              "#f0f921"
             ]
            ],
            "type": "heatmap"
           }
          ],
          "heatmapgl": [
           {
            "colorbar": {
             "outlinewidth": 0,
             "ticks": ""
            },
            "colorscale": [
             [
              0,
              "#0d0887"
             ],
             [
              0.1111111111111111,
              "#46039f"
             ],
             [
              0.2222222222222222,
              "#7201a8"
             ],
             [
              0.3333333333333333,
              "#9c179e"
             ],
             [
              0.4444444444444444,
              "#bd3786"
             ],
             [
              0.5555555555555556,
              "#d8576b"
             ],
             [
              0.6666666666666666,
              "#ed7953"
             ],
             [
              0.7777777777777778,
              "#fb9f3a"
             ],
             [
              0.8888888888888888,
              "#fdca26"
             ],
             [
              1,
              "#f0f921"
             ]
            ],
            "type": "heatmapgl"
           }
          ],
          "histogram": [
           {
            "marker": {
             "pattern": {
              "fillmode": "overlay",
              "size": 10,
              "solidity": 0.2
             }
            },
            "type": "histogram"
           }
          ],
          "histogram2d": [
           {
            "colorbar": {
             "outlinewidth": 0,
             "ticks": ""
            },
            "colorscale": [
             [
              0,
              "#0d0887"
             ],
             [
              0.1111111111111111,
              "#46039f"
             ],
             [
              0.2222222222222222,
              "#7201a8"
             ],
             [
              0.3333333333333333,
              "#9c179e"
             ],
             [
              0.4444444444444444,
              "#bd3786"
             ],
             [
              0.5555555555555556,
              "#d8576b"
             ],
             [
              0.6666666666666666,
              "#ed7953"
             ],
             [
              0.7777777777777778,
              "#fb9f3a"
             ],
             [
              0.8888888888888888,
              "#fdca26"
             ],
             [
              1,
              "#f0f921"
             ]
            ],
            "type": "histogram2d"
           }
          ],
          "histogram2dcontour": [
           {
            "colorbar": {
             "outlinewidth": 0,
             "ticks": ""
            },
            "colorscale": [
             [
              0,
              "#0d0887"
             ],
             [
              0.1111111111111111,
              "#46039f"
             ],
             [
              0.2222222222222222,
              "#7201a8"
             ],
             [
              0.3333333333333333,
              "#9c179e"
             ],
             [
              0.4444444444444444,
              "#bd3786"
             ],
             [
              0.5555555555555556,
              "#d8576b"
             ],
             [
              0.6666666666666666,
              "#ed7953"
             ],
             [
              0.7777777777777778,
              "#fb9f3a"
             ],
             [
              0.8888888888888888,
              "#fdca26"
             ],
             [
              1,
              "#f0f921"
             ]
            ],
            "type": "histogram2dcontour"
           }
          ],
          "mesh3d": [
           {
            "colorbar": {
             "outlinewidth": 0,
             "ticks": ""
            },
            "type": "mesh3d"
           }
          ],
          "parcoords": [
           {
            "line": {
             "colorbar": {
              "outlinewidth": 0,
              "ticks": ""
             }
            },
            "type": "parcoords"
           }
          ],
          "pie": [
           {
            "automargin": true,
            "type": "pie"
           }
          ],
          "scatter": [
           {
            "fillpattern": {
             "fillmode": "overlay",
             "size": 10,
             "solidity": 0.2
            },
            "type": "scatter"
           }
          ],
          "scatter3d": [
           {
            "line": {
             "colorbar": {
              "outlinewidth": 0,
              "ticks": ""
             }
            },
            "marker": {
             "colorbar": {
              "outlinewidth": 0,
              "ticks": ""
             }
            },
            "type": "scatter3d"
           }
          ],
          "scattercarpet": [
           {
            "marker": {
             "colorbar": {
              "outlinewidth": 0,
              "ticks": ""
             }
            },
            "type": "scattercarpet"
           }
          ],
          "scattergeo": [
           {
            "marker": {
             "colorbar": {
              "outlinewidth": 0,
              "ticks": ""
             }
            },
            "type": "scattergeo"
           }
          ],
          "scattergl": [
           {
            "marker": {
             "colorbar": {
              "outlinewidth": 0,
              "ticks": ""
             }
            },
            "type": "scattergl"
           }
          ],
          "scattermapbox": [
           {
            "marker": {
             "colorbar": {
              "outlinewidth": 0,
              "ticks": ""
             }
            },
            "type": "scattermapbox"
           }
          ],
          "scatterpolar": [
           {
            "marker": {
             "colorbar": {
              "outlinewidth": 0,
              "ticks": ""
             }
            },
            "type": "scatterpolar"
           }
          ],
          "scatterpolargl": [
           {
            "marker": {
             "colorbar": {
              "outlinewidth": 0,
              "ticks": ""
             }
            },
            "type": "scatterpolargl"
           }
          ],
          "scatterternary": [
           {
            "marker": {
             "colorbar": {
              "outlinewidth": 0,
              "ticks": ""
             }
            },
            "type": "scatterternary"
           }
          ],
          "surface": [
           {
            "colorbar": {
             "outlinewidth": 0,
             "ticks": ""
            },
            "colorscale": [
             [
              0,
              "#0d0887"
             ],
             [
              0.1111111111111111,
              "#46039f"
             ],
             [
              0.2222222222222222,
              "#7201a8"
             ],
             [
              0.3333333333333333,
              "#9c179e"
             ],
             [
              0.4444444444444444,
              "#bd3786"
             ],
             [
              0.5555555555555556,
              "#d8576b"
             ],
             [
              0.6666666666666666,
              "#ed7953"
             ],
             [
              0.7777777777777778,
              "#fb9f3a"
             ],
             [
              0.8888888888888888,
              "#fdca26"
             ],
             [
              1,
              "#f0f921"
             ]
            ],
            "type": "surface"
           }
          ],
          "table": [
           {
            "cells": {
             "fill": {
              "color": "#EBF0F8"
             },
             "line": {
              "color": "white"
             }
            },
            "header": {
             "fill": {
              "color": "#C8D4E3"
             },
             "line": {
              "color": "white"
             }
            },
            "type": "table"
           }
          ]
         },
         "layout": {
          "annotationdefaults": {
           "arrowcolor": "#2a3f5f",
           "arrowhead": 0,
           "arrowwidth": 1
          },
          "autotypenumbers": "strict",
          "coloraxis": {
           "colorbar": {
            "outlinewidth": 0,
            "ticks": ""
           }
          },
          "colorscale": {
           "diverging": [
            [
             0,
             "#8e0152"
            ],
            [
             0.1,
             "#c51b7d"
            ],
            [
             0.2,
             "#de77ae"
            ],
            [
             0.3,
             "#f1b6da"
            ],
            [
             0.4,
             "#fde0ef"
            ],
            [
             0.5,
             "#f7f7f7"
            ],
            [
             0.6,
             "#e6f5d0"
            ],
            [
             0.7,
             "#b8e186"
            ],
            [
             0.8,
             "#7fbc41"
            ],
            [
             0.9,
             "#4d9221"
            ],
            [
             1,
             "#276419"
            ]
           ],
           "sequential": [
            [
             0,
             "#0d0887"
            ],
            [
             0.1111111111111111,
             "#46039f"
            ],
            [
             0.2222222222222222,
             "#7201a8"
            ],
            [
             0.3333333333333333,
             "#9c179e"
            ],
            [
             0.4444444444444444,
             "#bd3786"
            ],
            [
             0.5555555555555556,
             "#d8576b"
            ],
            [
             0.6666666666666666,
             "#ed7953"
            ],
            [
             0.7777777777777778,
             "#fb9f3a"
            ],
            [
             0.8888888888888888,
             "#fdca26"
            ],
            [
             1,
             "#f0f921"
            ]
           ],
           "sequentialminus": [
            [
             0,
             "#0d0887"
            ],
            [
             0.1111111111111111,
             "#46039f"
            ],
            [
             0.2222222222222222,
             "#7201a8"
            ],
            [
             0.3333333333333333,
             "#9c179e"
            ],
            [
             0.4444444444444444,
             "#bd3786"
            ],
            [
             0.5555555555555556,
             "#d8576b"
            ],
            [
             0.6666666666666666,
             "#ed7953"
            ],
            [
             0.7777777777777778,
             "#fb9f3a"
            ],
            [
             0.8888888888888888,
             "#fdca26"
            ],
            [
             1,
             "#f0f921"
            ]
           ]
          },
          "colorway": [
           "#636efa",
           "#EF553B",
           "#00cc96",
           "#ab63fa",
           "#FFA15A",
           "#19d3f3",
           "#FF6692",
           "#B6E880",
           "#FF97FF",
           "#FECB52"
          ],
          "font": {
           "color": "#2a3f5f"
          },
          "geo": {
           "bgcolor": "white",
           "lakecolor": "white",
           "landcolor": "#E5ECF6",
           "showlakes": true,
           "showland": true,
           "subunitcolor": "white"
          },
          "hoverlabel": {
           "align": "left"
          },
          "hovermode": "closest",
          "mapbox": {
           "style": "light"
          },
          "paper_bgcolor": "white",
          "plot_bgcolor": "#E5ECF6",
          "polar": {
           "angularaxis": {
            "gridcolor": "white",
            "linecolor": "white",
            "ticks": ""
           },
           "bgcolor": "#E5ECF6",
           "radialaxis": {
            "gridcolor": "white",
            "linecolor": "white",
            "ticks": ""
           }
          },
          "scene": {
           "xaxis": {
            "backgroundcolor": "#E5ECF6",
            "gridcolor": "white",
            "gridwidth": 2,
            "linecolor": "white",
            "showbackground": true,
            "ticks": "",
            "zerolinecolor": "white"
           },
           "yaxis": {
            "backgroundcolor": "#E5ECF6",
            "gridcolor": "white",
            "gridwidth": 2,
            "linecolor": "white",
            "showbackground": true,
            "ticks": "",
            "zerolinecolor": "white"
           },
           "zaxis": {
            "backgroundcolor": "#E5ECF6",
            "gridcolor": "white",
            "gridwidth": 2,
            "linecolor": "white",
            "showbackground": true,
            "ticks": "",
            "zerolinecolor": "white"
           }
          },
          "shapedefaults": {
           "line": {
            "color": "#2a3f5f"
           }
          },
          "ternary": {
           "aaxis": {
            "gridcolor": "white",
            "linecolor": "white",
            "ticks": ""
           },
           "baxis": {
            "gridcolor": "white",
            "linecolor": "white",
            "ticks": ""
           },
           "bgcolor": "#E5ECF6",
           "caxis": {
            "gridcolor": "white",
            "linecolor": "white",
            "ticks": ""
           }
          },
          "title": {
           "x": 0.05
          },
          "xaxis": {
           "automargin": true,
           "gridcolor": "white",
           "linecolor": "white",
           "ticks": "",
           "title": {
            "standoff": 15
           },
           "zerolinecolor": "white",
           "zerolinewidth": 2
          },
          "yaxis": {
           "automargin": true,
           "gridcolor": "white",
           "linecolor": "white",
           "ticks": "",
           "title": {
            "standoff": 15
           },
           "zerolinecolor": "white",
           "zerolinewidth": 2
          }
         }
        },
        "width": 900,
        "xaxis": {
         "gridcolor": "#1f292f",
         "nticks": 5,
         "rangeslider": {
          "visible": false
         }
        },
        "yaxis": {
         "gridcolor": "#1f292f"
        }
       }
      }
     },
     "metadata": {},
     "output_type": "display_data"
    },
    {
     "name": "stdout",
     "output_type": "stream",
     "text": [
      "GBP_JPY 758\n"
     ]
    },
    {
     "data": {
      "application/vnd.plotly.v1+json": {
       "config": {
        "plotlyServerURL": "https://plot.ly"
       },
       "data": [
        {
         "line": {
          "shape": "spline",
          "width": 2
         },
         "name": "GAIN_C",
         "type": "scatter",
         "x": [
          "s21-05-12 06:00",
          "s21-05-13 08:00",
          "s21-05-14 03:00",
          "s21-05-17 05:00",
          "s21-05-17 18:00",
          "s21-05-18 18:00",
          "s21-05-19 07:00",
          "s21-05-19 14:00",
          "s21-05-20 18:00",
          "s21-05-21 09:00",
          "s21-05-21 17:00",
          "s21-05-21 19:00",
          "s21-05-24 20:00",
          "s21-05-25 16:00",
          "s21-05-26 06:00",
          "s21-05-26 21:00",
          "s21-05-26 23:00",
          "s21-05-27 01:00",
          "s21-05-27 11:00",
          "s21-05-28 10:00",
          "s21-05-31 22:00",
          "s21-06-01 11:00",
          "s21-06-02 06:00",
          "s21-06-03 22:00",
          "s21-06-07 19:00",
          "s21-06-08 09:00",
          "s21-06-08 21:00",
          "s21-06-09 16:00",
          "s21-06-10 16:00",
          "s21-06-11 14:00",
          "s21-06-14 06:00",
          "s21-06-14 08:00",
          "s21-06-14 16:00",
          "s21-06-15 10:00",
          "s21-06-16 03:00",
          "s21-06-16 18:00",
          "s21-06-21 12:00",
          "s21-06-22 08:00",
          "s21-06-22 16:00",
          "s21-06-24 07:00",
          "s21-06-25 03:00",
          "s21-06-25 09:00",
          "s21-06-28 10:00",
          "s21-06-28 18:00",
          "s21-06-30 02:00",
          "s21-06-30 10:00",
          "s21-06-30 11:00",
          "s21-07-01 22:00",
          "s21-07-04 21:00",
          "s21-07-05 10:00",
          "s21-07-05 19:00",
          "s21-07-06 12:00",
          "s21-07-07 10:00",
          "s21-07-07 21:00",
          "s21-07-09 01:00",
          "s21-07-12 10:00",
          "s21-07-12 19:00",
          "s21-07-13 10:00",
          "s21-07-14 02:00",
          "s21-07-14 03:00",
          "s21-07-14 09:00",
          "s21-07-14 18:00",
          "s21-07-15 14:00",
          "s21-07-15 21:00",
          "s21-07-16 08:00",
          "s21-07-16 18:00",
          "s21-07-20 08:00",
          "s21-07-20 09:00",
          "s21-07-20 21:00",
          "s21-07-26 04:00",
          "s21-07-26 14:00",
          "s21-07-27 06:00",
          "s21-07-27 20:00",
          "s21-07-29 21:00",
          "s21-07-30 10:00",
          "s21-07-30 19:00",
          "s21-08-03 09:00",
          "s21-08-03 14:00",
          "s21-08-03 16:00",
          "s21-08-03 17:00",
          "s21-08-04 05:00",
          "s21-08-06 09:00",
          "s21-08-06 17:00",
          "s21-08-09 03:00",
          "s21-08-10 05:00",
          "s21-08-11 00:00",
          "s21-08-11 08:00",
          "s21-08-12 03:00",
          "s21-08-18 05:00",
          "s21-08-19 03:00",
          "s21-08-20 19:00",
          "s21-08-24 04:00",
          "s21-08-24 06:00",
          "s21-08-24 15:00",
          "s21-08-24 23:00",
          "s21-08-26 11:00",
          "s21-08-27 11:00",
          "s21-08-30 04:00",
          "s21-08-30 15:00",
          "s21-08-31 16:00",
          "s21-09-01 02:00",
          "s21-09-01 21:00",
          "s21-09-02 10:00",
          "s21-09-03 12:00",
          "s21-09-05 23:00",
          "s21-09-06 09:00",
          "s21-09-07 03:00",
          "s21-09-07 10:00",
          "s21-09-07 21:00",
          "s21-09-08 08:00",
          "s21-09-08 22:00",
          "s21-09-09 04:00",
          "s21-09-09 13:00",
          "s21-09-10 01:00",
          "s21-09-10 05:00",
          "s21-09-10 20:00",
          "s21-09-13 11:00",
          "s21-09-14 17:00",
          "s21-09-15 20:00",
          "s21-09-16 06:00",
          "s21-09-16 19:00",
          "s21-09-17 17:00",
          "s21-09-21 05:00",
          "s21-09-21 16:00",
          "s21-09-22 06:00",
          "s21-09-24 13:00",
          "s21-09-26 22:00",
          "s21-09-27 03:00",
          "s21-09-27 09:00",
          "s21-09-28 12:00",
          "s21-09-29 06:00",
          "s21-09-29 08:00",
          "s21-09-30 02:00",
          "s21-09-30 17:00",
          "s21-10-01 13:00",
          "s21-10-04 05:00",
          "s21-10-04 07:00",
          "s21-10-05 01:00",
          "s21-10-05 06:00",
          "s21-10-06 08:00",
          "s21-10-07 01:00",
          "s21-10-12 02:00",
          "s21-10-12 12:00",
          "s21-10-13 02:00",
          "s21-10-13 08:00",
          "s21-10-18 03:00",
          "s21-10-19 02:00",
          "s21-10-20 11:00",
          "s21-10-20 21:00",
          "s21-10-21 07:00",
          "s21-10-22 04:00",
          "s21-10-22 12:00",
          "s21-10-25 05:00",
          "s21-10-25 16:00",
          "s21-10-25 22:00",
          "s21-10-26 23:00",
          "s21-10-28 00:00",
          "s21-10-28 06:00",
          "s21-10-28 14:00",
          "s21-10-29 15:00",
          "s21-11-01 07:00",
          "s21-11-01 15:00",
          "s21-11-03 00:00",
          "s21-11-04 10:00",
          "s21-11-08 04:00",
          "s21-11-09 05:00",
          "s21-11-10 07:00",
          "s21-11-10 22:00",
          "s21-11-12 06:00",
          "s21-11-17 18:00",
          "s21-11-18 11:00",
          "s21-11-19 09:00",
          "s21-11-22 04:00",
          "s21-11-23 11:00",
          "s21-11-23 21:00",
          "s21-11-24 08:00",
          "s21-11-24 20:00",
          "s21-11-25 13:00",
          "s21-11-29 06:00",
          "s21-11-29 13:00",
          "s21-11-30 02:00",
          "s21-11-30 05:00",
          "s21-12-01 03:00",
          "s21-12-01 16:00",
          "s21-12-02 07:00",
          "s21-12-02 20:00",
          "s21-12-02 23:00",
          "s21-12-03 00:00",
          "s21-12-03 12:00",
          "s21-12-03 15:00",
          "s21-12-06 08:00",
          "s21-12-07 15:00",
          "s21-12-08 06:00",
          "s21-12-08 07:00",
          "s21-12-08 08:00",
          "s21-12-08 10:00",
          "s21-12-08 20:00",
          "s21-12-09 02:00",
          "s21-12-09 23:00",
          "s21-12-13 18:00",
          "s21-12-14 10:00",
          "s21-12-16 22:00",
          "s21-12-20 19:00",
          "s21-12-24 04:00",
          "s21-12-24 18:00",
          "s21-12-24 19:00",
          "s21-12-27 04:00",
          "s21-12-28 09:00",
          "s21-12-28 13:00",
          "s21-12-28 16:00",
          "s21-12-29 07:00"
         ],
         "y": [
          -2.000000000001023,
          -17.900000000003047,
          -6.2000000000040245,
          -47.60000000000275,
          -40.40000000000248,
          -54.200000000003,
          -155.9000000000026,
          -231.20000000000402,
          -217.2000000000054,
          -185.40000000000418,
          -189.60000000000434,
          -172.40000000000464,
          -172.50000000000227,
          -178.8000000000011,
          -171.39999999999986,
          -170.19999999999982,
          -190.20000000000152,
          -281.1000000000007,
          -178.7000000000006,
          -166.9000000000011,
          -203.8000000000011,
          -194.00000000000261,
          -157.50000000000455,
          -90.40000000000532,
          -98.60000000000468,
          -106.00000000000307,
          -123.8000000000028,
          -149.60000000000377,
          -148.40000000000373,
          -121.00000000000364,
          -152.5000000000034,
          -235.70000000000277,
          -258.2000000000022,
          -258.6000000000013,
          -290.00000000000057,
          -96.80000000000177,
          -56.10000000000355,
          -166.4000000000044,
          -122.20000000000368,
          -88.80000000000337,
          -125.50000000000523,
          -126.60000000000764,
          -192.4000000000092,
          -160.60000000001082,
          -153.00000000001148,
          -163.8000000000119,
          -141.6000000000139,
          -150.8000000000152,
          -148.80000000001417,
          -156.7000000000121,
          -178.40000000001055,
          -141.4000000000101,
          -181.70000000000925,
          -37.600000000009004,
          98.1999999999914,
          39.99999999999204,
          -4.800000000008708,
          -5.400000000008731,
          -10.000000000007958,
          -38.200000000006185,
          -99.0000000000066,
          -114.90000000000862,
          -183.40000000000884,
          -255.40000000000873,
          -357.50000000001023,
          -182.0000000000107,
          -224.2000000000104,
          -259.80000000000985,
          -56.60000000000878,
          -126.60000000000764,
          -155.20000000000778,
          -174.2000000000104,
          -126.10000000001094,
          -152.80000000001053,
          -216.60000000001105,
          -161.80000000001087,
          -218.40000000001112,
          -261.00000000001273,
          -260.00000000001364,
          -267.2000000000139,
          -177.80000000001337,
          -198.80000000001132,
          -210.40000000000987,
          -205.6000000000097,
          -187.4000000000109,
          -188.20000000001187,
          -177.60000000001241,
          69.299999999987,
          121.19999999998754,
          278.59999999998877,
          387.49999999998863,
          362.9999999999882,
          314.8999999999887,
          298.0999999999881,
          361.1999999999881,
          372.7999999999895,
          373.99999999998954,
          366.3999999999902,
          368.7999999999903,
          351.6999999999882,
          361.1999999999881,
          340.39999999998827,
          385.29999999998665,
          387.1999999999872,
          385.09999999998854,
          392.19999999998834,
          351.9999999999868,
          312.0999999999867,
          270.099999999988,
          247.19999999998663,
          217.1999999999855,
          166.59999999998547,
          150.09999999998627,
          119.59999999998843,
          108.19999999999084,
          94.59999999999127,
          40.99999999999113,
          70.99999999999227,
          39.99999999999204,
          15.199999999990155,
          -8.800000000010755,
          130.99999999998886,
          89.19999999998822,
          56.799999999986994,
          248.79999999998574,
          254.59999999998502,
          228.999999999985,
          148.39999999998668,
          59.39999999998804,
          83.39999999998895,
          27.599999999989677,
          13.599999999991041,
          -37.40000000000805,
          -92.80000000000825,
          -104.50000000000728,
          -143.80000000000734,
          -121.40000000000839,
          -142.00000000000728,
          -141.80000000000632,
          -166.2000000000063,
          93.29999999999359,
          30.499999999992156,
          2.3999999999915644,
          -33.80000000000791,
          197.19999999999231,
          187.99999999999386,
          194.5999999999941,
          107.99999999999272,
          67.19999999999118,
          99.09999999999002,
          46.59999999998945,
          74.79999999998768,
          67.5999999999874,
          62.399999999988154,
          127.59999999998684,
          223.5999999999848,
          232.9999999999842,
          216.79999999998358,
          176.8999999999835,
          165.099999999984,
          165.7999999999845,
          278.39999999998497,
          304.19999999998595,
          527.1999999999878,
          527.4999999999892,
          509.2999999999904,
          450.99999999999056,
          446.1999999999904,
          563.3999999999901,
          555.7999999999907,
          469.99999999999034,
          438.3999999999901,
          448.1999999999914,
          402.1999999999906,
          378.0999999999892,
          375.7999999999896,
          350.8999999999901,
          596.3999999999885,
          641.5999999999883,
          640.5999999999892,
          545.2999999999889,
          504.99999999998977,
          419.59999999999127,
          388.0999999999915,
          392.99999999999216,
          413.5999999999939,
          421.0999999999956,
          418.3999999999969,
          343.99999999999693,
          312.59999999999764,
          356.89999999999884,
          363.59999999999957,
          345.4000000000008,
          319.50000000000216,
          259.40000000000225,
          210.30000000000086,
          185.9000000000009,
          192.50000000000114,
          187.99999999999955,
          152.79999999999916,
          272.7000000000004,
          413.2000000000005,
          725.6,
          733.2999999999998,
          738.4999999999991,
          713.3999999999986,
          801.3999999999982,
          797.799999999998,
          772.199999999998,
          758.899999999997,
          758.899999999997
         ]
        }
       ],
       "layout": {
        "font": {
         "color": "#e1e1e1",
         "size": 8
        },
        "height": 400,
        "margin": {
         "b": 10,
         "l": 10,
         "r": 10,
         "t": 10
        },
        "paper_bgcolor": "#2c303c",
        "plot_bgcolor": "#2c303c",
        "template": {
         "data": {
          "bar": [
           {
            "error_x": {
             "color": "#2a3f5f"
            },
            "error_y": {
             "color": "#2a3f5f"
            },
            "marker": {
             "line": {
              "color": "#E5ECF6",
              "width": 0.5
             },
             "pattern": {
              "fillmode": "overlay",
              "size": 10,
              "solidity": 0.2
             }
            },
            "type": "bar"
           }
          ],
          "barpolar": [
           {
            "marker": {
             "line": {
              "color": "#E5ECF6",
              "width": 0.5
             },
             "pattern": {
              "fillmode": "overlay",
              "size": 10,
              "solidity": 0.2
             }
            },
            "type": "barpolar"
           }
          ],
          "carpet": [
           {
            "aaxis": {
             "endlinecolor": "#2a3f5f",
             "gridcolor": "white",
             "linecolor": "white",
             "minorgridcolor": "white",
             "startlinecolor": "#2a3f5f"
            },
            "baxis": {
             "endlinecolor": "#2a3f5f",
             "gridcolor": "white",
             "linecolor": "white",
             "minorgridcolor": "white",
             "startlinecolor": "#2a3f5f"
            },
            "type": "carpet"
           }
          ],
          "choropleth": [
           {
            "colorbar": {
             "outlinewidth": 0,
             "ticks": ""
            },
            "type": "choropleth"
           }
          ],
          "contour": [
           {
            "colorbar": {
             "outlinewidth": 0,
             "ticks": ""
            },
            "colorscale": [
             [
              0,
              "#0d0887"
             ],
             [
              0.1111111111111111,
              "#46039f"
             ],
             [
              0.2222222222222222,
              "#7201a8"
             ],
             [
              0.3333333333333333,
              "#9c179e"
             ],
             [
              0.4444444444444444,
              "#bd3786"
             ],
             [
              0.5555555555555556,
              "#d8576b"
             ],
             [
              0.6666666666666666,
              "#ed7953"
             ],
             [
              0.7777777777777778,
              "#fb9f3a"
             ],
             [
              0.8888888888888888,
              "#fdca26"
             ],
             [
              1,
              "#f0f921"
             ]
            ],
            "type": "contour"
           }
          ],
          "contourcarpet": [
           {
            "colorbar": {
             "outlinewidth": 0,
             "ticks": ""
            },
            "type": "contourcarpet"
           }
          ],
          "heatmap": [
           {
            "colorbar": {
             "outlinewidth": 0,
             "ticks": ""
            },
            "colorscale": [
             [
              0,
              "#0d0887"
             ],
             [
              0.1111111111111111,
              "#46039f"
             ],
             [
              0.2222222222222222,
              "#7201a8"
             ],
             [
              0.3333333333333333,
              "#9c179e"
             ],
             [
              0.4444444444444444,
              "#bd3786"
             ],
             [
              0.5555555555555556,
              "#d8576b"
             ],
             [
              0.6666666666666666,
              "#ed7953"
             ],
             [
              0.7777777777777778,
              "#fb9f3a"
             ],
             [
              0.8888888888888888,
              "#fdca26"
             ],
             [
              1,
              "#f0f921"
             ]
            ],
            "type": "heatmap"
           }
          ],
          "heatmapgl": [
           {
            "colorbar": {
             "outlinewidth": 0,
             "ticks": ""
            },
            "colorscale": [
             [
              0,
              "#0d0887"
             ],
             [
              0.1111111111111111,
              "#46039f"
             ],
             [
              0.2222222222222222,
              "#7201a8"
             ],
             [
              0.3333333333333333,
              "#9c179e"
             ],
             [
              0.4444444444444444,
              "#bd3786"
             ],
             [
              0.5555555555555556,
              "#d8576b"
             ],
             [
              0.6666666666666666,
              "#ed7953"
             ],
             [
              0.7777777777777778,
              "#fb9f3a"
             ],
             [
              0.8888888888888888,
              "#fdca26"
             ],
             [
              1,
              "#f0f921"
             ]
            ],
            "type": "heatmapgl"
           }
          ],
          "histogram": [
           {
            "marker": {
             "pattern": {
              "fillmode": "overlay",
              "size": 10,
              "solidity": 0.2
             }
            },
            "type": "histogram"
           }
          ],
          "histogram2d": [
           {
            "colorbar": {
             "outlinewidth": 0,
             "ticks": ""
            },
            "colorscale": [
             [
              0,
              "#0d0887"
             ],
             [
              0.1111111111111111,
              "#46039f"
             ],
             [
              0.2222222222222222,
              "#7201a8"
             ],
             [
              0.3333333333333333,
              "#9c179e"
             ],
             [
              0.4444444444444444,
              "#bd3786"
             ],
             [
              0.5555555555555556,
              "#d8576b"
             ],
             [
              0.6666666666666666,
              "#ed7953"
             ],
             [
              0.7777777777777778,
              "#fb9f3a"
             ],
             [
              0.8888888888888888,
              "#fdca26"
             ],
             [
              1,
              "#f0f921"
             ]
            ],
            "type": "histogram2d"
           }
          ],
          "histogram2dcontour": [
           {
            "colorbar": {
             "outlinewidth": 0,
             "ticks": ""
            },
            "colorscale": [
             [
              0,
              "#0d0887"
             ],
             [
              0.1111111111111111,
              "#46039f"
             ],
             [
              0.2222222222222222,
              "#7201a8"
             ],
             [
              0.3333333333333333,
              "#9c179e"
             ],
             [
              0.4444444444444444,
              "#bd3786"
             ],
             [
              0.5555555555555556,
              "#d8576b"
             ],
             [
              0.6666666666666666,
              "#ed7953"
             ],
             [
              0.7777777777777778,
              "#fb9f3a"
             ],
             [
              0.8888888888888888,
              "#fdca26"
             ],
             [
              1,
              "#f0f921"
             ]
            ],
            "type": "histogram2dcontour"
           }
          ],
          "mesh3d": [
           {
            "colorbar": {
             "outlinewidth": 0,
             "ticks": ""
            },
            "type": "mesh3d"
           }
          ],
          "parcoords": [
           {
            "line": {
             "colorbar": {
              "outlinewidth": 0,
              "ticks": ""
             }
            },
            "type": "parcoords"
           }
          ],
          "pie": [
           {
            "automargin": true,
            "type": "pie"
           }
          ],
          "scatter": [
           {
            "fillpattern": {
             "fillmode": "overlay",
             "size": 10,
             "solidity": 0.2
            },
            "type": "scatter"
           }
          ],
          "scatter3d": [
           {
            "line": {
             "colorbar": {
              "outlinewidth": 0,
              "ticks": ""
             }
            },
            "marker": {
             "colorbar": {
              "outlinewidth": 0,
              "ticks": ""
             }
            },
            "type": "scatter3d"
           }
          ],
          "scattercarpet": [
           {
            "marker": {
             "colorbar": {
              "outlinewidth": 0,
              "ticks": ""
             }
            },
            "type": "scattercarpet"
           }
          ],
          "scattergeo": [
           {
            "marker": {
             "colorbar": {
              "outlinewidth": 0,
              "ticks": ""
             }
            },
            "type": "scattergeo"
           }
          ],
          "scattergl": [
           {
            "marker": {
             "colorbar": {
              "outlinewidth": 0,
              "ticks": ""
             }
            },
            "type": "scattergl"
           }
          ],
          "scattermapbox": [
           {
            "marker": {
             "colorbar": {
              "outlinewidth": 0,
              "ticks": ""
             }
            },
            "type": "scattermapbox"
           }
          ],
          "scatterpolar": [
           {
            "marker": {
             "colorbar": {
              "outlinewidth": 0,
              "ticks": ""
             }
            },
            "type": "scatterpolar"
           }
          ],
          "scatterpolargl": [
           {
            "marker": {
             "colorbar": {
              "outlinewidth": 0,
              "ticks": ""
             }
            },
            "type": "scatterpolargl"
           }
          ],
          "scatterternary": [
           {
            "marker": {
             "colorbar": {
              "outlinewidth": 0,
              "ticks": ""
             }
            },
            "type": "scatterternary"
           }
          ],
          "surface": [
           {
            "colorbar": {
             "outlinewidth": 0,
             "ticks": ""
            },
            "colorscale": [
             [
              0,
              "#0d0887"
             ],
             [
              0.1111111111111111,
              "#46039f"
             ],
             [
              0.2222222222222222,
              "#7201a8"
             ],
             [
              0.3333333333333333,
              "#9c179e"
             ],
             [
              0.4444444444444444,
              "#bd3786"
             ],
             [
              0.5555555555555556,
              "#d8576b"
             ],
             [
              0.6666666666666666,
              "#ed7953"
             ],
             [
              0.7777777777777778,
              "#fb9f3a"
             ],
             [
              0.8888888888888888,
              "#fdca26"
             ],
             [
              1,
              "#f0f921"
             ]
            ],
            "type": "surface"
           }
          ],
          "table": [
           {
            "cells": {
             "fill": {
              "color": "#EBF0F8"
             },
             "line": {
              "color": "white"
             }
            },
            "header": {
             "fill": {
              "color": "#C8D4E3"
             },
             "line": {
              "color": "white"
             }
            },
            "type": "table"
           }
          ]
         },
         "layout": {
          "annotationdefaults": {
           "arrowcolor": "#2a3f5f",
           "arrowhead": 0,
           "arrowwidth": 1
          },
          "autotypenumbers": "strict",
          "coloraxis": {
           "colorbar": {
            "outlinewidth": 0,
            "ticks": ""
           }
          },
          "colorscale": {
           "diverging": [
            [
             0,
             "#8e0152"
            ],
            [
             0.1,
             "#c51b7d"
            ],
            [
             0.2,
             "#de77ae"
            ],
            [
             0.3,
             "#f1b6da"
            ],
            [
             0.4,
             "#fde0ef"
            ],
            [
             0.5,
             "#f7f7f7"
            ],
            [
             0.6,
             "#e6f5d0"
            ],
            [
             0.7,
             "#b8e186"
            ],
            [
             0.8,
             "#7fbc41"
            ],
            [
             0.9,
             "#4d9221"
            ],
            [
             1,
             "#276419"
            ]
           ],
           "sequential": [
            [
             0,
             "#0d0887"
            ],
            [
             0.1111111111111111,
             "#46039f"
            ],
            [
             0.2222222222222222,
             "#7201a8"
            ],
            [
             0.3333333333333333,
             "#9c179e"
            ],
            [
             0.4444444444444444,
             "#bd3786"
            ],
            [
             0.5555555555555556,
             "#d8576b"
            ],
            [
             0.6666666666666666,
             "#ed7953"
            ],
            [
             0.7777777777777778,
             "#fb9f3a"
            ],
            [
             0.8888888888888888,
             "#fdca26"
            ],
            [
             1,
             "#f0f921"
            ]
           ],
           "sequentialminus": [
            [
             0,
             "#0d0887"
            ],
            [
             0.1111111111111111,
             "#46039f"
            ],
            [
             0.2222222222222222,
             "#7201a8"
            ],
            [
             0.3333333333333333,
             "#9c179e"
            ],
            [
             0.4444444444444444,
             "#bd3786"
            ],
            [
             0.5555555555555556,
             "#d8576b"
            ],
            [
             0.6666666666666666,
             "#ed7953"
            ],
            [
             0.7777777777777778,
             "#fb9f3a"
            ],
            [
             0.8888888888888888,
             "#fdca26"
            ],
            [
             1,
             "#f0f921"
            ]
           ]
          },
          "colorway": [
           "#636efa",
           "#EF553B",
           "#00cc96",
           "#ab63fa",
           "#FFA15A",
           "#19d3f3",
           "#FF6692",
           "#B6E880",
           "#FF97FF",
           "#FECB52"
          ],
          "font": {
           "color": "#2a3f5f"
          },
          "geo": {
           "bgcolor": "white",
           "lakecolor": "white",
           "landcolor": "#E5ECF6",
           "showlakes": true,
           "showland": true,
           "subunitcolor": "white"
          },
          "hoverlabel": {
           "align": "left"
          },
          "hovermode": "closest",
          "mapbox": {
           "style": "light"
          },
          "paper_bgcolor": "white",
          "plot_bgcolor": "#E5ECF6",
          "polar": {
           "angularaxis": {
            "gridcolor": "white",
            "linecolor": "white",
            "ticks": ""
           },
           "bgcolor": "#E5ECF6",
           "radialaxis": {
            "gridcolor": "white",
            "linecolor": "white",
            "ticks": ""
           }
          },
          "scene": {
           "xaxis": {
            "backgroundcolor": "#E5ECF6",
            "gridcolor": "white",
            "gridwidth": 2,
            "linecolor": "white",
            "showbackground": true,
            "ticks": "",
            "zerolinecolor": "white"
           },
           "yaxis": {
            "backgroundcolor": "#E5ECF6",
            "gridcolor": "white",
            "gridwidth": 2,
            "linecolor": "white",
            "showbackground": true,
            "ticks": "",
            "zerolinecolor": "white"
           },
           "zaxis": {
            "backgroundcolor": "#E5ECF6",
            "gridcolor": "white",
            "gridwidth": 2,
            "linecolor": "white",
            "showbackground": true,
            "ticks": "",
            "zerolinecolor": "white"
           }
          },
          "shapedefaults": {
           "line": {
            "color": "#2a3f5f"
           }
          },
          "ternary": {
           "aaxis": {
            "gridcolor": "white",
            "linecolor": "white",
            "ticks": ""
           },
           "baxis": {
            "gridcolor": "white",
            "linecolor": "white",
            "ticks": ""
           },
           "bgcolor": "#E5ECF6",
           "caxis": {
            "gridcolor": "white",
            "linecolor": "white",
            "ticks": ""
           }
          },
          "title": {
           "x": 0.05
          },
          "xaxis": {
           "automargin": true,
           "gridcolor": "white",
           "linecolor": "white",
           "ticks": "",
           "title": {
            "standoff": 15
           },
           "zerolinecolor": "white",
           "zerolinewidth": 2
          },
          "yaxis": {
           "automargin": true,
           "gridcolor": "white",
           "linecolor": "white",
           "ticks": "",
           "title": {
            "standoff": 15
           },
           "zerolinecolor": "white",
           "zerolinewidth": 2
          }
         }
        },
        "width": 900,
        "xaxis": {
         "gridcolor": "#1f292f",
         "nticks": 5,
         "rangeslider": {
          "visible": false
         }
        },
        "yaxis": {
         "gridcolor": "#1f292f"
        }
       }
      }
     },
     "metadata": {},
     "output_type": "display_data"
    },
    {
     "name": "stdout",
     "output_type": "stream",
     "text": [
      "EUR_JPY 603\n"
     ]
    },
    {
     "data": {
      "application/vnd.plotly.v1+json": {
       "config": {
        "plotlyServerURL": "https://plot.ly"
       },
       "data": [
        {
         "line": {
          "shape": "spline",
          "width": 2
         },
         "name": "GAIN_C",
         "type": "scatter",
         "x": [
          "s21-05-12 14:00",
          "s21-05-13 14:00",
          "s21-05-14 04:00",
          "s21-05-17 06:00",
          "s21-05-17 19:00",
          "s21-05-19 15:00",
          "s21-05-20 07:00",
          "s21-05-20 10:00",
          "s21-05-20 19:00",
          "s21-05-21 10:00",
          "s21-05-24 09:00",
          "s21-05-25 03:00",
          "s21-05-25 04:00",
          "s21-05-26 00:00",
          "s21-05-26 09:00",
          "s21-05-26 14:00",
          "s21-05-27 11:00",
          "s21-05-28 09:00",
          "s21-05-30 21:00",
          "s21-05-31 05:00",
          "s21-05-31 19:00",
          "s21-06-01 07:00",
          "s21-06-01 11:00",
          "s21-06-01 20:00",
          "s21-06-02 06:00",
          "s21-06-02 14:00",
          "s21-06-03 01:00",
          "s21-06-03 13:00",
          "s21-06-07 20:00",
          "s21-06-09 00:00",
          "s21-06-09 08:00",
          "s21-06-10 02:00",
          "s21-06-10 17:00",
          "s21-06-10 22:00",
          "s21-06-11 07:00",
          "s21-06-11 13:00",
          "s21-06-14 07:00",
          "s21-06-15 17:00",
          "s21-06-16 03:00",
          "s21-06-16 08:00",
          "s21-06-21 13:00",
          "s21-06-24 01:00",
          "s21-06-25 02:00",
          "s21-06-25 12:00",
          "s21-06-30 06:00",
          "s21-06-30 08:00",
          "s21-06-30 18:00",
          "s21-07-02 02:00",
          "s21-07-07 10:00",
          "s21-07-07 18:00",
          "s21-07-08 23:00",
          "s21-07-12 08:00",
          "s21-07-12 19:00",
          "s21-07-13 10:00",
          "s21-07-14 13:00",
          "s21-07-14 15:00",
          "s21-07-16 07:00",
          "s21-07-18 22:00",
          "s21-07-20 04:00",
          "s21-07-20 10:00",
          "s21-07-20 15:00",
          "s21-07-22 06:00",
          "s21-07-22 14:00",
          "s21-07-22 15:00",
          "s21-07-23 07:00",
          "s21-07-26 05:00",
          "s21-07-26 15:00",
          "s21-07-27 05:00",
          "s21-07-28 07:00",
          "s21-07-29 21:00",
          "s21-07-30 09:00",
          "s21-08-01 21:00",
          "s21-08-02 07:00",
          "s21-08-02 15:00",
          "s21-08-04 07:00",
          "s21-08-06 07:00",
          "s21-08-10 06:00",
          "s21-08-11 19:00",
          "s21-08-12 12:00",
          "s21-08-12 14:00",
          "s21-08-13 05:00",
          "s21-08-13 10:00",
          "s21-08-17 07:00",
          "s21-08-17 09:00",
          "s21-08-18 07:00",
          "s21-08-19 03:00",
          "s21-08-20 17:00",
          "s21-08-23 21:00",
          "s21-08-24 08:00",
          "s21-08-24 10:00",
          "s21-08-24 20:00",
          "s21-08-25 08:00",
          "s21-08-25 12:00",
          "s21-08-26 19:00",
          "s21-08-27 10:00",
          "s21-08-30 08:00",
          "s21-08-30 10:00",
          "s21-08-30 12:00",
          "s21-08-30 14:00",
          "s21-08-31 20:00",
          "s21-09-01 00:00",
          "s21-09-02 01:00",
          "s21-09-02 11:00",
          "s21-09-03 13:00",
          "s21-09-06 07:00",
          "s21-09-06 10:00",
          "s21-09-06 21:00",
          "s21-09-08 08:00",
          "s21-09-10 06:00",
          "s21-09-10 19:00",
          "s21-09-13 17:00",
          "s21-09-14 15:00",
          "s21-09-16 02:00",
          "s21-09-16 05:00",
          "s21-09-16 20:00",
          "s21-09-17 18:00",
          "s21-09-21 02:00",
          "s21-09-21 15:00",
          "s21-09-22 06:00",
          "s21-09-23 00:00",
          "s21-09-23 07:00",
          "s21-09-27 07:00",
          "s21-09-27 15:00",
          "s21-09-29 08:00",
          "s21-10-01 19:00",
          "s21-10-03 21:00",
          "s21-10-04 01:00",
          "s21-10-04 04:00",
          "s21-10-04 07:00",
          "s21-10-04 21:00",
          "s21-10-05 09:00",
          "s21-10-06 09:00",
          "s21-10-07 01:00",
          "s21-10-12 06:00",
          "s21-10-12 12:00",
          "s21-10-13 00:00",
          "s21-10-13 08:00",
          "s21-10-17 23:00",
          "s21-10-18 14:00",
          "s21-10-20 12:00",
          "s21-10-20 23:00",
          "s21-10-21 08:00",
          "s21-10-22 04:00",
          "s21-10-22 13:00",
          "s21-10-25 04:00",
          "s21-10-25 13:00",
          "s21-10-26 03:00",
          "s21-10-27 00:00",
          "s21-10-27 23:00",
          "s21-10-28 04:00",
          "s21-10-28 15:00",
          "s21-10-29 09:00",
          "s21-11-01 07:00",
          "s21-11-02 04:00",
          "s21-11-02 21:00",
          "s21-11-03 05:00",
          "s21-11-03 14:00",
          "s21-11-04 09:00",
          "s21-11-08 04:00",
          "s21-11-08 14:00",
          "s21-11-09 21:00",
          "s21-11-09 23:00",
          "s21-11-10 02:00",
          "s21-11-10 05:00",
          "s21-11-10 13:00",
          "s21-11-11 00:00",
          "s21-11-12 05:00",
          "s21-11-12 12:00",
          "s21-11-15 06:00",
          "s21-11-15 13:00",
          "s21-11-16 10:00",
          "s21-11-16 17:00",
          "s21-11-16 21:00",
          "s21-11-17 07:00",
          "s21-11-18 10:00",
          "s21-11-19 09:00",
          "s21-11-22 06:00",
          "s21-11-22 10:00",
          "s21-11-22 13:00",
          "s21-11-24 06:00",
          "s21-11-24 21:00",
          "s21-11-25 18:00",
          "s21-11-29 18:00",
          "s21-11-30 11:00",
          "s21-12-01 01:00",
          "s21-12-01 15:00",
          "s21-12-02 07:00",
          "s21-12-02 18:00",
          "s21-12-03 10:00",
          "s21-12-03 19:00",
          "s21-12-06 10:00",
          "s21-12-07 14:00",
          "s21-12-08 02:00",
          "s21-12-09 07:00",
          "s21-12-10 07:00",
          "s21-12-10 18:00",
          "s21-12-10 21:00",
          "s21-12-13 09:00",
          "s21-12-14 01:00",
          "s21-12-14 07:00",
          "s21-12-14 08:00",
          "s21-12-14 21:00",
          "s21-12-15 09:00",
          "s21-12-16 19:00",
          "s21-12-17 09:00",
          "s21-12-17 10:00",
          "s21-12-20 13:00",
          "s21-12-23 16:00",
          "s21-12-23 17:00",
          "s21-12-24 11:00",
          "s21-12-24 13:00",
          "s21-12-24 15:00",
          "s21-12-27 05:00",
          "s21-12-28 09:00",
          "s21-12-29 07:00",
          "s21-12-30 09:00",
          "s21-12-30 21:00",
          "s21-12-30 22:00",
          "s21-12-30 23:00"
         ],
         "y": [
          23.099999999999454,
          16.29999999999825,
          33.099999999998886,
          14.799999999999613,
          27.899999999999636,
          15.299999999999159,
          9.099999999997976,
          -0.30000000000143245,
          -21.700000000001296,
          -37.90000000000191,
          -43.20000000000164,
          -47.400000000001796,
          -23.800000000002797,
          -38.70000000000289,
          -50.50000000000239,
          -50.30000000000143,
          19.299999999998363,
          13.79999999999768,
          -1.1000000000024102,
          -13.700000000002888,
          -5.500000000003524,
          -1.6000000000047976,
          -27.500000000006253,
          -52.90000000000816,
          -69.90000000000975,
          -72.20000000000937,
          -82.50000000000739,
          -26.700000000005275,
          -18.700000000004025,
          -37.100000000003774,
          -50.300000000004275,
          -41.900000000003956,
          -49.200000000001864,
          -65.90000000000202,
          -98.5000000000042,
          -91.90000000000396,
          -36.90000000000282,
          -36.90000000000282,
          -50.50000000000239,
          156.19999999999834,
          264.4999999999982,
          262.59999999999764,
          243.29999999999643,
          302.89999999999395,
          274.9999999999915,
          244.4999999999908,
          296.4999999999918,
          419.2999999999927,
          387.8999999999934,
          439.2999999999944,
          500.49999999999386,
          482.89999999999225,
          455.2999999999912,
          499.69999999999004,
          498.0999999999881,
          510.0999999999857,
          498.69999999998527,
          583.1999999999852,
          572.2999999999843,
          523.1999999999829,
          569.4999999999823,
          571.6999999999814,
          542.3999999999808,
          505.69999999998174,
          510.6999999999829,
          482.2999999999837,
          459.79999999998427,
          481.49999999998556,
          512.7999999999872,
          493.59999999998934,
          471.29999999999086,
          451.899999999992,
          389.69999999999345,
          400.6999999999948,
          416.6999999999945,
          433.6999999999932,
          441.8999999999926,
          439.19999999999106,
          414.8999999999887,
          400.3999999999877,
          398.29999999998904,
          484.2999999999904,
          481.2999999999903,
          497.29999999998995,
          508.8999999999885,
          527.8999999999883,
          568.8999999999908,
          576.299999999992,
          574.7999999999905,
          555.0999999999902,
          555.9999999999917,
          549.0999999999929,
          578.9999999999935,
          560.2999999999923,
          568.6999999999927,
          572.8999999999928,
          574.6999999999929,
          565.2999999999935,
          587.2999999999934,
          571.7999999999932,
          585.2999999999923,
          571.9999999999914,
          581.2999999999903,
          585.0999999999885,
          583.2999999999885,
          578.2999999999902,
          560.4999999999905,
          579.4999999999902,
          553.4999999999911,
          546.9999999999914,
          528.0999999999892,
          578.4999999999883,
          556.6999999999894,
          534.0999999999894,
          511.69999999998765,
          547.4999999999852,
          509.09999999998377,
          477.29999999998256,
          466.49999999998215,
          425.7999999999839,
          500.2999999999844,
          470.5999999999847,
          469.99999999998465,
          577.2999999999826,
          564.4999999999811,
          556.3999999999794,
          561.0999999999791,
          532.8999999999809,
          515.0999999999812,
          503.29999999998165,
          476.199999999983,
          465.89999999998213,
          664.3999999999807,
          626.8999999999807,
          600.8999999999816,
          570.2999999999832,
          706.2999999999846,
          711.3999999999862,
          748.8999999999862,
          711.0999999999848,
          655.5999999999841,
          670.8999999999833,
          658.4999999999837,
          652.0999999999844,
          601.0999999999854,
          587.8999999999877,
          619.499999999988,
          669.6999999999861,
          654.6999999999855,
          587.5999999999863,
          590.0999999999868,
          609.1999999999871,
          565.7999999999873,
          560.2999999999867,
          558.1999999999852,
          541.6999999999831,
          508.4999999999809,
          551.7999999999802,
          513.6999999999802,
          519.0999999999804,
          522.2999999999814,
          538.8999999999811,
          533.099999999979,
          494.8999999999785,
          470.2999999999804,
          483.09999999998183,
          464.09999999998206,
          457.8999999999809,
          434.7999999999786,
          489.29999999997733,
          494.0999999999775,
          479.5999999999765,
          467.0999999999765,
          508.699999999979,
          446.8999999999795,
          464.0999999999792,
          483.59999999997854,
          491.49999999997647,
          540.4999999999745,
          539.8999999999745,
          544.4999999999766,
          656.2999999999789,
          668.0999999999813,
          652.0999999999816,
          611.2999999999801,
          606.2999999999789,
          584.8999999999791,
          567.6999999999794,
          499.79999999997915,
          445.899999999979,
          433.699999999979,
          398.09999999997956,
          428.6999999999807,
          447.89999999998145,
          450.89999999998156,
          450.399999999982,
          431.4999999999827,
          425.1999999999839,
          422.29999999998427,
          413.699999999983,
          395.0999999999823,
          380.1999999999822,
          424.29999999998245,
          415.099999999984,
          396.69999999998424,
          431.39999999998224,
          561.8999999999801,
          542.4999999999784,
          528.2999999999788,
          536.499999999981,
          523.6999999999824,
          511.3999999999834,
          569.4999999999851,
          589.8999999999859,
          620.4999999999842,
          603.4999999999826,
          600.8999999999816,
          603.2999999999817,
          603.2999999999817
         ]
        }
       ],
       "layout": {
        "font": {
         "color": "#e1e1e1",
         "size": 8
        },
        "height": 400,
        "margin": {
         "b": 10,
         "l": 10,
         "r": 10,
         "t": 10
        },
        "paper_bgcolor": "#2c303c",
        "plot_bgcolor": "#2c303c",
        "template": {
         "data": {
          "bar": [
           {
            "error_x": {
             "color": "#2a3f5f"
            },
            "error_y": {
             "color": "#2a3f5f"
            },
            "marker": {
             "line": {
              "color": "#E5ECF6",
              "width": 0.5
             },
             "pattern": {
              "fillmode": "overlay",
              "size": 10,
              "solidity": 0.2
             }
            },
            "type": "bar"
           }
          ],
          "barpolar": [
           {
            "marker": {
             "line": {
              "color": "#E5ECF6",
              "width": 0.5
             },
             "pattern": {
              "fillmode": "overlay",
              "size": 10,
              "solidity": 0.2
             }
            },
            "type": "barpolar"
           }
          ],
          "carpet": [
           {
            "aaxis": {
             "endlinecolor": "#2a3f5f",
             "gridcolor": "white",
             "linecolor": "white",
             "minorgridcolor": "white",
             "startlinecolor": "#2a3f5f"
            },
            "baxis": {
             "endlinecolor": "#2a3f5f",
             "gridcolor": "white",
             "linecolor": "white",
             "minorgridcolor": "white",
             "startlinecolor": "#2a3f5f"
            },
            "type": "carpet"
           }
          ],
          "choropleth": [
           {
            "colorbar": {
             "outlinewidth": 0,
             "ticks": ""
            },
            "type": "choropleth"
           }
          ],
          "contour": [
           {
            "colorbar": {
             "outlinewidth": 0,
             "ticks": ""
            },
            "colorscale": [
             [
              0,
              "#0d0887"
             ],
             [
              0.1111111111111111,
              "#46039f"
             ],
             [
              0.2222222222222222,
              "#7201a8"
             ],
             [
              0.3333333333333333,
              "#9c179e"
             ],
             [
              0.4444444444444444,
              "#bd3786"
             ],
             [
              0.5555555555555556,
              "#d8576b"
             ],
             [
              0.6666666666666666,
              "#ed7953"
             ],
             [
              0.7777777777777778,
              "#fb9f3a"
             ],
             [
              0.8888888888888888,
              "#fdca26"
             ],
             [
              1,
              "#f0f921"
             ]
            ],
            "type": "contour"
           }
          ],
          "contourcarpet": [
           {
            "colorbar": {
             "outlinewidth": 0,
             "ticks": ""
            },
            "type": "contourcarpet"
           }
          ],
          "heatmap": [
           {
            "colorbar": {
             "outlinewidth": 0,
             "ticks": ""
            },
            "colorscale": [
             [
              0,
              "#0d0887"
             ],
             [
              0.1111111111111111,
              "#46039f"
             ],
             [
              0.2222222222222222,
              "#7201a8"
             ],
             [
              0.3333333333333333,
              "#9c179e"
             ],
             [
              0.4444444444444444,
              "#bd3786"
             ],
             [
              0.5555555555555556,
              "#d8576b"
             ],
             [
              0.6666666666666666,
              "#ed7953"
             ],
             [
              0.7777777777777778,
              "#fb9f3a"
             ],
             [
              0.8888888888888888,
              "#fdca26"
             ],
             [
              1,
              "#f0f921"
             ]
            ],
            "type": "heatmap"
           }
          ],
          "heatmapgl": [
           {
            "colorbar": {
             "outlinewidth": 0,
             "ticks": ""
            },
            "colorscale": [
             [
              0,
              "#0d0887"
             ],
             [
              0.1111111111111111,
              "#46039f"
             ],
             [
              0.2222222222222222,
              "#7201a8"
             ],
             [
              0.3333333333333333,
              "#9c179e"
             ],
             [
              0.4444444444444444,
              "#bd3786"
             ],
             [
              0.5555555555555556,
              "#d8576b"
             ],
             [
              0.6666666666666666,
              "#ed7953"
             ],
             [
              0.7777777777777778,
              "#fb9f3a"
             ],
             [
              0.8888888888888888,
              "#fdca26"
             ],
             [
              1,
              "#f0f921"
             ]
            ],
            "type": "heatmapgl"
           }
          ],
          "histogram": [
           {
            "marker": {
             "pattern": {
              "fillmode": "overlay",
              "size": 10,
              "solidity": 0.2
             }
            },
            "type": "histogram"
           }
          ],
          "histogram2d": [
           {
            "colorbar": {
             "outlinewidth": 0,
             "ticks": ""
            },
            "colorscale": [
             [
              0,
              "#0d0887"
             ],
             [
              0.1111111111111111,
              "#46039f"
             ],
             [
              0.2222222222222222,
              "#7201a8"
             ],
             [
              0.3333333333333333,
              "#9c179e"
             ],
             [
              0.4444444444444444,
              "#bd3786"
             ],
             [
              0.5555555555555556,
              "#d8576b"
             ],
             [
              0.6666666666666666,
              "#ed7953"
             ],
             [
              0.7777777777777778,
              "#fb9f3a"
             ],
             [
              0.8888888888888888,
              "#fdca26"
             ],
             [
              1,
              "#f0f921"
             ]
            ],
            "type": "histogram2d"
           }
          ],
          "histogram2dcontour": [
           {
            "colorbar": {
             "outlinewidth": 0,
             "ticks": ""
            },
            "colorscale": [
             [
              0,
              "#0d0887"
             ],
             [
              0.1111111111111111,
              "#46039f"
             ],
             [
              0.2222222222222222,
              "#7201a8"
             ],
             [
              0.3333333333333333,
              "#9c179e"
             ],
             [
              0.4444444444444444,
              "#bd3786"
             ],
             [
              0.5555555555555556,
              "#d8576b"
             ],
             [
              0.6666666666666666,
              "#ed7953"
             ],
             [
              0.7777777777777778,
              "#fb9f3a"
             ],
             [
              0.8888888888888888,
              "#fdca26"
             ],
             [
              1,
              "#f0f921"
             ]
            ],
            "type": "histogram2dcontour"
           }
          ],
          "mesh3d": [
           {
            "colorbar": {
             "outlinewidth": 0,
             "ticks": ""
            },
            "type": "mesh3d"
           }
          ],
          "parcoords": [
           {
            "line": {
             "colorbar": {
              "outlinewidth": 0,
              "ticks": ""
             }
            },
            "type": "parcoords"
           }
          ],
          "pie": [
           {
            "automargin": true,
            "type": "pie"
           }
          ],
          "scatter": [
           {
            "fillpattern": {
             "fillmode": "overlay",
             "size": 10,
             "solidity": 0.2
            },
            "type": "scatter"
           }
          ],
          "scatter3d": [
           {
            "line": {
             "colorbar": {
              "outlinewidth": 0,
              "ticks": ""
             }
            },
            "marker": {
             "colorbar": {
              "outlinewidth": 0,
              "ticks": ""
             }
            },
            "type": "scatter3d"
           }
          ],
          "scattercarpet": [
           {
            "marker": {
             "colorbar": {
              "outlinewidth": 0,
              "ticks": ""
             }
            },
            "type": "scattercarpet"
           }
          ],
          "scattergeo": [
           {
            "marker": {
             "colorbar": {
              "outlinewidth": 0,
              "ticks": ""
             }
            },
            "type": "scattergeo"
           }
          ],
          "scattergl": [
           {
            "marker": {
             "colorbar": {
              "outlinewidth": 0,
              "ticks": ""
             }
            },
            "type": "scattergl"
           }
          ],
          "scattermapbox": [
           {
            "marker": {
             "colorbar": {
              "outlinewidth": 0,
              "ticks": ""
             }
            },
            "type": "scattermapbox"
           }
          ],
          "scatterpolar": [
           {
            "marker": {
             "colorbar": {
              "outlinewidth": 0,
              "ticks": ""
             }
            },
            "type": "scatterpolar"
           }
          ],
          "scatterpolargl": [
           {
            "marker": {
             "colorbar": {
              "outlinewidth": 0,
              "ticks": ""
             }
            },
            "type": "scatterpolargl"
           }
          ],
          "scatterternary": [
           {
            "marker": {
             "colorbar": {
              "outlinewidth": 0,
              "ticks": ""
             }
            },
            "type": "scatterternary"
           }
          ],
          "surface": [
           {
            "colorbar": {
             "outlinewidth": 0,
             "ticks": ""
            },
            "colorscale": [
             [
              0,
              "#0d0887"
             ],
             [
              0.1111111111111111,
              "#46039f"
             ],
             [
              0.2222222222222222,
              "#7201a8"
             ],
             [
              0.3333333333333333,
              "#9c179e"
             ],
             [
              0.4444444444444444,
              "#bd3786"
             ],
             [
              0.5555555555555556,
              "#d8576b"
             ],
             [
              0.6666666666666666,
              "#ed7953"
             ],
             [
              0.7777777777777778,
              "#fb9f3a"
             ],
             [
              0.8888888888888888,
              "#fdca26"
             ],
             [
              1,
              "#f0f921"
             ]
            ],
            "type": "surface"
           }
          ],
          "table": [
           {
            "cells": {
             "fill": {
              "color": "#EBF0F8"
             },
             "line": {
              "color": "white"
             }
            },
            "header": {
             "fill": {
              "color": "#C8D4E3"
             },
             "line": {
              "color": "white"
             }
            },
            "type": "table"
           }
          ]
         },
         "layout": {
          "annotationdefaults": {
           "arrowcolor": "#2a3f5f",
           "arrowhead": 0,
           "arrowwidth": 1
          },
          "autotypenumbers": "strict",
          "coloraxis": {
           "colorbar": {
            "outlinewidth": 0,
            "ticks": ""
           }
          },
          "colorscale": {
           "diverging": [
            [
             0,
             "#8e0152"
            ],
            [
             0.1,
             "#c51b7d"
            ],
            [
             0.2,
             "#de77ae"
            ],
            [
             0.3,
             "#f1b6da"
            ],
            [
             0.4,
             "#fde0ef"
            ],
            [
             0.5,
             "#f7f7f7"
            ],
            [
             0.6,
             "#e6f5d0"
            ],
            [
             0.7,
             "#b8e186"
            ],
            [
             0.8,
             "#7fbc41"
            ],
            [
             0.9,
             "#4d9221"
            ],
            [
             1,
             "#276419"
            ]
           ],
           "sequential": [
            [
             0,
             "#0d0887"
            ],
            [
             0.1111111111111111,
             "#46039f"
            ],
            [
             0.2222222222222222,
             "#7201a8"
            ],
            [
             0.3333333333333333,
             "#9c179e"
            ],
            [
             0.4444444444444444,
             "#bd3786"
            ],
            [
             0.5555555555555556,
             "#d8576b"
            ],
            [
             0.6666666666666666,
             "#ed7953"
            ],
            [
             0.7777777777777778,
             "#fb9f3a"
            ],
            [
             0.8888888888888888,
             "#fdca26"
            ],
            [
             1,
             "#f0f921"
            ]
           ],
           "sequentialminus": [
            [
             0,
             "#0d0887"
            ],
            [
             0.1111111111111111,
             "#46039f"
            ],
            [
             0.2222222222222222,
             "#7201a8"
            ],
            [
             0.3333333333333333,
             "#9c179e"
            ],
            [
             0.4444444444444444,
             "#bd3786"
            ],
            [
             0.5555555555555556,
             "#d8576b"
            ],
            [
             0.6666666666666666,
             "#ed7953"
            ],
            [
             0.7777777777777778,
             "#fb9f3a"
            ],
            [
             0.8888888888888888,
             "#fdca26"
            ],
            [
             1,
             "#f0f921"
            ]
           ]
          },
          "colorway": [
           "#636efa",
           "#EF553B",
           "#00cc96",
           "#ab63fa",
           "#FFA15A",
           "#19d3f3",
           "#FF6692",
           "#B6E880",
           "#FF97FF",
           "#FECB52"
          ],
          "font": {
           "color": "#2a3f5f"
          },
          "geo": {
           "bgcolor": "white",
           "lakecolor": "white",
           "landcolor": "#E5ECF6",
           "showlakes": true,
           "showland": true,
           "subunitcolor": "white"
          },
          "hoverlabel": {
           "align": "left"
          },
          "hovermode": "closest",
          "mapbox": {
           "style": "light"
          },
          "paper_bgcolor": "white",
          "plot_bgcolor": "#E5ECF6",
          "polar": {
           "angularaxis": {
            "gridcolor": "white",
            "linecolor": "white",
            "ticks": ""
           },
           "bgcolor": "#E5ECF6",
           "radialaxis": {
            "gridcolor": "white",
            "linecolor": "white",
            "ticks": ""
           }
          },
          "scene": {
           "xaxis": {
            "backgroundcolor": "#E5ECF6",
            "gridcolor": "white",
            "gridwidth": 2,
            "linecolor": "white",
            "showbackground": true,
            "ticks": "",
            "zerolinecolor": "white"
           },
           "yaxis": {
            "backgroundcolor": "#E5ECF6",
            "gridcolor": "white",
            "gridwidth": 2,
            "linecolor": "white",
            "showbackground": true,
            "ticks": "",
            "zerolinecolor": "white"
           },
           "zaxis": {
            "backgroundcolor": "#E5ECF6",
            "gridcolor": "white",
            "gridwidth": 2,
            "linecolor": "white",
            "showbackground": true,
            "ticks": "",
            "zerolinecolor": "white"
           }
          },
          "shapedefaults": {
           "line": {
            "color": "#2a3f5f"
           }
          },
          "ternary": {
           "aaxis": {
            "gridcolor": "white",
            "linecolor": "white",
            "ticks": ""
           },
           "baxis": {
            "gridcolor": "white",
            "linecolor": "white",
            "ticks": ""
           },
           "bgcolor": "#E5ECF6",
           "caxis": {
            "gridcolor": "white",
            "linecolor": "white",
            "ticks": ""
           }
          },
          "title": {
           "x": 0.05
          },
          "xaxis": {
           "automargin": true,
           "gridcolor": "white",
           "linecolor": "white",
           "ticks": "",
           "title": {
            "standoff": 15
           },
           "zerolinecolor": "white",
           "zerolinewidth": 2
          },
          "yaxis": {
           "automargin": true,
           "gridcolor": "white",
           "linecolor": "white",
           "ticks": "",
           "title": {
            "standoff": 15
           },
           "zerolinecolor": "white",
           "zerolinewidth": 2
          }
         }
        },
        "width": 900,
        "xaxis": {
         "gridcolor": "#1f292f",
         "nticks": 5,
         "rangeslider": {
          "visible": false
         }
        },
        "yaxis": {
         "gridcolor": "#1f292f"
        }
       }
      }
     },
     "metadata": {},
     "output_type": "display_data"
    },
    {
     "name": "stdout",
     "output_type": "stream",
     "text": [
      "USD_JPY 511\n"
     ]
    },
    {
     "data": {
      "application/vnd.plotly.v1+json": {
       "config": {
        "plotlyServerURL": "https://plot.ly"
       },
       "data": [
        {
         "line": {
          "shape": "spline",
          "width": 2
         },
         "name": "GAIN_C",
         "type": "scatter",
         "x": [
          "s21-05-13 13:00",
          "s21-05-14 06:00",
          "s21-05-14 09:00",
          "s21-05-16 23:00",
          "s21-05-17 06:00",
          "s21-05-18 03:00",
          "s21-05-18 07:00",
          "s21-05-19 05:00",
          "s21-05-19 17:00",
          "s21-05-19 23:00",
          "s21-05-20 10:00",
          "s21-05-21 17:00",
          "s21-05-24 06:00",
          "s21-05-25 12:00",
          "s21-05-26 00:00",
          "s21-05-26 09:00",
          "s21-05-27 09:00",
          "s21-05-27 12:00",
          "s21-05-30 21:00",
          "s21-06-01 11:00",
          "s21-06-01 20:00",
          "s21-06-02 03:00",
          "s21-06-02 19:00",
          "s21-06-03 06:00",
          "s21-06-04 08:00",
          "s21-06-07 07:00",
          "s21-06-07 09:00",
          "s21-06-08 03:00",
          "s21-06-09 07:00",
          "s21-06-09 16:00",
          "s21-06-10 08:00",
          "s21-06-11 09:00",
          "s21-06-14 12:00",
          "s21-06-14 13:00",
          "s21-06-15 19:00",
          "s21-06-16 20:00",
          "s21-06-17 13:00",
          "s21-06-18 17:00",
          "s21-06-21 02:00",
          "s21-06-21 15:00",
          "s21-06-24 09:00",
          "s21-06-24 23:00",
          "s21-06-25 08:00",
          "s21-06-27 22:00",
          "s21-06-28 04:00",
          "s21-06-28 14:00",
          "s21-06-28 16:00",
          "s21-06-29 11:00",
          "s21-06-29 18:00",
          "s21-06-30 13:00",
          "s21-07-02 10:00",
          "s21-07-06 00:00",
          "s21-07-06 05:00",
          "s21-07-07 10:00",
          "s21-07-07 21:00",
          "s21-07-09 02:00",
          "s21-07-12 08:00",
          "s21-07-12 13:00",
          "s21-07-13 10:00",
          "s21-07-13 12:00",
          "s21-07-13 14:00",
          "s21-07-13 18:00",
          "s21-07-14 09:00",
          "s21-07-15 16:00",
          "s21-07-16 00:00",
          "s21-07-16 07:00",
          "s21-07-18 22:00",
          "s21-07-20 05:00",
          "s21-07-22 04:00",
          "s21-07-22 16:00",
          "s21-07-22 19:00",
          "s21-07-23 04:00",
          "s21-07-26 03:00",
          "s21-07-26 19:00",
          "s21-07-27 04:00",
          "s21-07-28 06:00",
          "s21-07-29 00:00",
          "s21-07-30 09:00",
          "s21-08-02 04:00",
          "s21-08-04 07:00",
          "s21-08-05 16:00",
          "s21-08-05 17:00",
          "s21-08-09 07:00",
          "s21-08-09 19:00",
          "s21-08-11 16:00",
          "s21-08-12 12:00",
          "s21-08-12 23:00",
          "s21-08-13 01:00",
          "s21-08-13 04:00",
          "s21-08-17 04:00",
          "s21-08-19 11:00",
          "s21-08-20 00:00",
          "s21-08-20 07:00",
          "s21-08-20 17:00",
          "s21-08-23 19:00",
          "s21-08-24 08:00",
          "s21-08-24 15:00",
          "s21-08-25 01:00",
          "s21-08-26 22:00",
          "s21-08-27 12:00",
          "s21-08-27 18:00",
          "s21-08-30 13:00",
          "s21-08-31 05:00",
          "s21-08-31 17:00",
          "s21-09-01 17:00",
          "s21-09-02 07:00",
          "s21-09-02 09:00",
          "s21-09-03 07:00",
          "s21-09-03 13:00",
          "s21-09-06 04:00",
          "s21-09-06 23:00",
          "s21-09-07 09:00",
          "s21-09-08 15:00",
          "s21-09-10 05:00",
          "s21-09-12 21:00",
          "s21-09-13 00:00",
          "s21-09-13 19:00",
          "s21-09-14 04:00",
          "s21-09-14 13:00",
          "s21-09-16 00:00",
          "s21-09-16 04:00",
          "s21-09-16 12:00",
          "s21-09-20 00:00",
          "s21-09-21 05:00",
          "s21-09-21 14:00",
          "s21-09-22 05:00",
          "s21-09-27 06:00",
          "s21-09-27 11:00",
          "s21-09-29 07:00",
          "s21-09-29 16:00",
          "s21-09-30 08:00",
          "s21-10-04 07:00",
          "s21-10-04 18:00",
          "s21-10-05 05:00",
          "s21-10-06 14:00",
          "s21-10-07 02:00",
          "s21-10-07 11:00",
          "s21-10-07 16:00",
          "s21-10-12 08:00",
          "s21-10-12 13:00",
          "s21-10-13 04:00",
          "s21-10-13 13:00",
          "s21-10-13 18:00",
          "s21-10-14 06:00",
          "s21-10-18 01:00",
          "s21-10-18 06:00",
          "s21-10-18 17:00",
          "s21-10-19 17:00",
          "s21-10-20 13:00",
          "s21-10-21 03:00",
          "s21-10-21 06:00",
          "s21-10-22 02:00",
          "s21-10-22 11:00",
          "s21-10-25 05:00",
          "s21-10-27 04:00",
          "s21-10-28 00:00",
          "s21-10-28 05:00",
          "s21-10-29 02:00",
          "s21-11-01 17:00",
          "s21-11-02 19:00",
          "s21-11-03 08:00",
          "s21-11-03 15:00",
          "s21-11-04 13:00",
          "s21-11-05 11:00",
          "s21-11-05 16:00",
          "s21-11-08 07:00",
          "s21-11-08 13:00",
          "s21-11-09 21:00",
          "s21-11-09 22:00",
          "s21-11-10 07:00",
          "s21-11-11 18:00",
          "s21-11-11 21:00",
          "s21-11-12 12:00",
          "s21-11-15 15:00",
          "s21-11-17 14:00",
          "s21-11-18 12:00",
          "s21-11-19 11:00",
          "s21-11-22 04:00",
          "s21-11-23 14:00",
          "s21-11-23 18:00",
          "s21-11-24 08:00",
          "s21-11-24 15:00",
          "s21-11-25 08:00",
          "s21-11-29 06:00",
          "s21-11-29 13:00",
          "s21-11-29 15:00",
          "s21-11-30 05:00",
          "s21-11-30 23:00",
          "s21-12-01 15:00",
          "s21-12-02 06:00",
          "s21-12-02 17:00",
          "s21-12-02 22:00",
          "s21-12-03 18:00",
          "s21-12-06 07:00",
          "s21-12-07 20:00",
          "s21-12-08 13:00",
          "s21-12-09 03:00",
          "s21-12-10 06:00",
          "s21-12-10 19:00",
          "s21-12-13 06:00",
          "s21-12-13 19:00",
          "s21-12-14 04:00",
          "s21-12-14 17:00",
          "s21-12-14 19:00",
          "s21-12-16 15:00",
          "s21-12-19 22:00",
          "s21-12-20 07:00",
          "s21-12-20 18:00",
          "s21-12-22 22:00",
          "s21-12-23 09:00",
          "s21-12-24 07:00",
          "s21-12-24 19:00",
          "s21-12-26 22:00",
          "s21-12-27 03:00",
          "s21-12-28 10:00",
          "s21-12-29 02:00",
          "s21-12-30 23:00"
         ],
         "y": [
          14.300000000000068,
          10.80000000000041,
          3.8000000000010914,
          -18.39999999999833,
          -16.59999999999826,
          -38.19999999999908,
          -36.099999999999,
          -38.299999999998136,
          -72.29999999999848,
          -98.09999999999945,
          -93.80000000000024,
          -116.6000000000011,
          -141.40000000000157,
          -162.9000000000019,
          -175.4000000000019,
          -144.40000000000168,
          -159.60000000000178,
          -110.40000000000134,
          -88.900000000001,
          -102.60000000000105,
          -115.20000000000152,
          -122.10000000000178,
          -145.7000000000022,
          -110.10000000000275,
          -38.20000000000334,
          -37.400000000003786,
          -36.20000000000374,
          -33.00000000000409,
          -52.80000000000484,
          -69.10000000000593,
          -73.6000000000061,
          -51.20000000000573,
          -66.80000000000632,
          -54.00000000000631,
          -121.60000000000508,
          -149.10000000000423,
          -120.8000000000041,
          -132.90000000000362,
          -150.90000000000288,
          -87.40000000000236,
          -94.40000000000168,
          -113.70000000000147,
          -120.20000000000124,
          -134.30000000000035,
          -131.79999999999978,
          -138.7999999999991,
          -143.79999999999882,
          -153.49999999999966,
          -170.6000000000003,
          -94.0000000000012,
          -35.50000000000182,
          -39.800000000002456,
          -32.900000000003615,
          -44.000000000004036,
          28.199999999995384,
          45.79999999999416,
          21.599999999993713,
          11.29999999999427,
          -16.600000000005366,
          -36.00000000000563,
          -63.70000000000573,
          -73.6000000000061,
          -28.30000000000723,
          -44.100000000007356,
          -71.6000000000065,
          -88.70000000000573,
          -39.00000000000574,
          26.499999999994373,
          28.599999999994452,
          30.199999999993565,
          17.399999999993554,
          23.299999999993304,
          18.499999999993122,
          1.7999999999929628,
          36.99999999999193,
          25.999999999991985,
          44.99999999999176,
          59.49999999999136,
          119.39999999999173,
          182.9999999999913,
          180.19999999999072,
          222.1999999999909,
          207.9999999999913,
          216.69999999999163,
          212.19999999999146,
          206.39999999999077,
          204.39999999998975,
          202.99999999998875,
          309.599999999989,
          332.39999999998986,
          304.99999999998977,
          281.8999999999889,
          260.39999999998855,
          244.59999999998843,
          232.39999999998844,
          221.59999999998945,
          205.8999999999898,
          226.79999999999012,
          223.59999999999047,
          198.19999999998998,
          186.9999999999905,
          173.99999999999096,
          155.99999999999028,
          158.5999999999899,
          159.59999999999042,
          155.39999999999026,
          148.99999999998954,
          114.79999999998967,
          102.79999999998921,
          104.59999999998786,
          90.79999999998734,
          126.6999999999868,
          168.39999999998554,
          163.3999999999844,
          151.99999999998397,
          156.19999999998413,
          151.1999999999844,
          126.89999999998491,
          170.39999999998514,
          160.59999999998524,
          120.09999999998513,
          152.5999999999854,
          202.39999999998588,
          171.99999999998568,
          141.39999999998594,
          260.29999999998665,
          228.09999999998638,
          255.19999999998646,
          190.69999999998686,
          190.99999999998687,
          269.3999999999875,
          243.09999999998837,
          214.5999999999887,
          220.79999999998847,
          197.19999999998805,
          183.59999999998706,
          156.19999999998697,
          331.59999999998746,
          319.79999999998796,
          316.6999999999888,
          320.6999999999894,
          313.49999999998914,
          304.3999999999883,
          371.89999999998804,
          351.0999999999882,
          339.69999999998777,
          333.4999999999866,
          331.7999999999856,
          336.3999999999848,
          312.7999999999844,
          305.1999999999836,
          288.19999999998345,
          316.3999999999845,
          356.6999999999851,
          377.2999999999854,
          355.399999999986,
          352.19999999998635,
          400.09999999998627,
          413.5999999999868,
          406.8999999999875,
          389.1999999999882,
          364.2999999999887,
          362.49999999998863,
          316.3999999999888,
          296.9999999999885,
          276.3999999999882,
          324.3999999999886,
          326.29999999998915,
          306.4999999999898,
          405.39999999999026,
          407.39999999998986,
          400.8999999999901,
          404.1999999999902,
          462.19999999999004,
          499.09999999999,
          465.3999999999897,
          435.5999999999895,
          525.1999999999896,
          521.99999999999,
          522.1999999999896,
          484.9999999999896,
          475.39999999999065,
          678.1999999999912,
          724.3999999999915,
          740.5999999999921,
          687.0999999999924,
          664.999999999992,
          632.9999999999914,
          613.7999999999906,
          615.7999999999902,
          615.1999999999902,
          554.8999999999908,
          500.19999999999106,
          534.1999999999914,
          495.59999999999184,
          474.3999999999915,
          485.09999999999144,
          472.7999999999924,
          460.19999999999334,
          457.3999999999942,
          450.9999999999949,
          458.19999999999516,
          450.09999999999485,
          450.4999999999939,
          456.2999999999932,
          432.79999999999325,
          413.89999999999395,
          461.59999999999434,
          442.99999999999363,
          448.3999999999924,
          448.19999999999146,
          449.59999999999104,
          444.89999999999134,
          485.1999999999919,
          486.39999999999196,
          511.499999999991,
          511.499999999991
         ]
        }
       ],
       "layout": {
        "font": {
         "color": "#e1e1e1",
         "size": 8
        },
        "height": 400,
        "margin": {
         "b": 10,
         "l": 10,
         "r": 10,
         "t": 10
        },
        "paper_bgcolor": "#2c303c",
        "plot_bgcolor": "#2c303c",
        "template": {
         "data": {
          "bar": [
           {
            "error_x": {
             "color": "#2a3f5f"
            },
            "error_y": {
             "color": "#2a3f5f"
            },
            "marker": {
             "line": {
              "color": "#E5ECF6",
              "width": 0.5
             },
             "pattern": {
              "fillmode": "overlay",
              "size": 10,
              "solidity": 0.2
             }
            },
            "type": "bar"
           }
          ],
          "barpolar": [
           {
            "marker": {
             "line": {
              "color": "#E5ECF6",
              "width": 0.5
             },
             "pattern": {
              "fillmode": "overlay",
              "size": 10,
              "solidity": 0.2
             }
            },
            "type": "barpolar"
           }
          ],
          "carpet": [
           {
            "aaxis": {
             "endlinecolor": "#2a3f5f",
             "gridcolor": "white",
             "linecolor": "white",
             "minorgridcolor": "white",
             "startlinecolor": "#2a3f5f"
            },
            "baxis": {
             "endlinecolor": "#2a3f5f",
             "gridcolor": "white",
             "linecolor": "white",
             "minorgridcolor": "white",
             "startlinecolor": "#2a3f5f"
            },
            "type": "carpet"
           }
          ],
          "choropleth": [
           {
            "colorbar": {
             "outlinewidth": 0,
             "ticks": ""
            },
            "type": "choropleth"
           }
          ],
          "contour": [
           {
            "colorbar": {
             "outlinewidth": 0,
             "ticks": ""
            },
            "colorscale": [
             [
              0,
              "#0d0887"
             ],
             [
              0.1111111111111111,
              "#46039f"
             ],
             [
              0.2222222222222222,
              "#7201a8"
             ],
             [
              0.3333333333333333,
              "#9c179e"
             ],
             [
              0.4444444444444444,
              "#bd3786"
             ],
             [
              0.5555555555555556,
              "#d8576b"
             ],
             [
              0.6666666666666666,
              "#ed7953"
             ],
             [
              0.7777777777777778,
              "#fb9f3a"
             ],
             [
              0.8888888888888888,
              "#fdca26"
             ],
             [
              1,
              "#f0f921"
             ]
            ],
            "type": "contour"
           }
          ],
          "contourcarpet": [
           {
            "colorbar": {
             "outlinewidth": 0,
             "ticks": ""
            },
            "type": "contourcarpet"
           }
          ],
          "heatmap": [
           {
            "colorbar": {
             "outlinewidth": 0,
             "ticks": ""
            },
            "colorscale": [
             [
              0,
              "#0d0887"
             ],
             [
              0.1111111111111111,
              "#46039f"
             ],
             [
              0.2222222222222222,
              "#7201a8"
             ],
             [
              0.3333333333333333,
              "#9c179e"
             ],
             [
              0.4444444444444444,
              "#bd3786"
             ],
             [
              0.5555555555555556,
              "#d8576b"
             ],
             [
              0.6666666666666666,
              "#ed7953"
             ],
             [
              0.7777777777777778,
              "#fb9f3a"
             ],
             [
              0.8888888888888888,
              "#fdca26"
             ],
             [
              1,
              "#f0f921"
             ]
            ],
            "type": "heatmap"
           }
          ],
          "heatmapgl": [
           {
            "colorbar": {
             "outlinewidth": 0,
             "ticks": ""
            },
            "colorscale": [
             [
              0,
              "#0d0887"
             ],
             [
              0.1111111111111111,
              "#46039f"
             ],
             [
              0.2222222222222222,
              "#7201a8"
             ],
             [
              0.3333333333333333,
              "#9c179e"
             ],
             [
              0.4444444444444444,
              "#bd3786"
             ],
             [
              0.5555555555555556,
              "#d8576b"
             ],
             [
              0.6666666666666666,
              "#ed7953"
             ],
             [
              0.7777777777777778,
              "#fb9f3a"
             ],
             [
              0.8888888888888888,
              "#fdca26"
             ],
             [
              1,
              "#f0f921"
             ]
            ],
            "type": "heatmapgl"
           }
          ],
          "histogram": [
           {
            "marker": {
             "pattern": {
              "fillmode": "overlay",
              "size": 10,
              "solidity": 0.2
             }
            },
            "type": "histogram"
           }
          ],
          "histogram2d": [
           {
            "colorbar": {
             "outlinewidth": 0,
             "ticks": ""
            },
            "colorscale": [
             [
              0,
              "#0d0887"
             ],
             [
              0.1111111111111111,
              "#46039f"
             ],
             [
              0.2222222222222222,
              "#7201a8"
             ],
             [
              0.3333333333333333,
              "#9c179e"
             ],
             [
              0.4444444444444444,
              "#bd3786"
             ],
             [
              0.5555555555555556,
              "#d8576b"
             ],
             [
              0.6666666666666666,
              "#ed7953"
             ],
             [
              0.7777777777777778,
              "#fb9f3a"
             ],
             [
              0.8888888888888888,
              "#fdca26"
             ],
             [
              1,
              "#f0f921"
             ]
            ],
            "type": "histogram2d"
           }
          ],
          "histogram2dcontour": [
           {
            "colorbar": {
             "outlinewidth": 0,
             "ticks": ""
            },
            "colorscale": [
             [
              0,
              "#0d0887"
             ],
             [
              0.1111111111111111,
              "#46039f"
             ],
             [
              0.2222222222222222,
              "#7201a8"
             ],
             [
              0.3333333333333333,
              "#9c179e"
             ],
             [
              0.4444444444444444,
              "#bd3786"
             ],
             [
              0.5555555555555556,
              "#d8576b"
             ],
             [
              0.6666666666666666,
              "#ed7953"
             ],
             [
              0.7777777777777778,
              "#fb9f3a"
             ],
             [
              0.8888888888888888,
              "#fdca26"
             ],
             [
              1,
              "#f0f921"
             ]
            ],
            "type": "histogram2dcontour"
           }
          ],
          "mesh3d": [
           {
            "colorbar": {
             "outlinewidth": 0,
             "ticks": ""
            },
            "type": "mesh3d"
           }
          ],
          "parcoords": [
           {
            "line": {
             "colorbar": {
              "outlinewidth": 0,
              "ticks": ""
             }
            },
            "type": "parcoords"
           }
          ],
          "pie": [
           {
            "automargin": true,
            "type": "pie"
           }
          ],
          "scatter": [
           {
            "fillpattern": {
             "fillmode": "overlay",
             "size": 10,
             "solidity": 0.2
            },
            "type": "scatter"
           }
          ],
          "scatter3d": [
           {
            "line": {
             "colorbar": {
              "outlinewidth": 0,
              "ticks": ""
             }
            },
            "marker": {
             "colorbar": {
              "outlinewidth": 0,
              "ticks": ""
             }
            },
            "type": "scatter3d"
           }
          ],
          "scattercarpet": [
           {
            "marker": {
             "colorbar": {
              "outlinewidth": 0,
              "ticks": ""
             }
            },
            "type": "scattercarpet"
           }
          ],
          "scattergeo": [
           {
            "marker": {
             "colorbar": {
              "outlinewidth": 0,
              "ticks": ""
             }
            },
            "type": "scattergeo"
           }
          ],
          "scattergl": [
           {
            "marker": {
             "colorbar": {
              "outlinewidth": 0,
              "ticks": ""
             }
            },
            "type": "scattergl"
           }
          ],
          "scattermapbox": [
           {
            "marker": {
             "colorbar": {
              "outlinewidth": 0,
              "ticks": ""
             }
            },
            "type": "scattermapbox"
           }
          ],
          "scatterpolar": [
           {
            "marker": {
             "colorbar": {
              "outlinewidth": 0,
              "ticks": ""
             }
            },
            "type": "scatterpolar"
           }
          ],
          "scatterpolargl": [
           {
            "marker": {
             "colorbar": {
              "outlinewidth": 0,
              "ticks": ""
             }
            },
            "type": "scatterpolargl"
           }
          ],
          "scatterternary": [
           {
            "marker": {
             "colorbar": {
              "outlinewidth": 0,
              "ticks": ""
             }
            },
            "type": "scatterternary"
           }
          ],
          "surface": [
           {
            "colorbar": {
             "outlinewidth": 0,
             "ticks": ""
            },
            "colorscale": [
             [
              0,
              "#0d0887"
             ],
             [
              0.1111111111111111,
              "#46039f"
             ],
             [
              0.2222222222222222,
              "#7201a8"
             ],
             [
              0.3333333333333333,
              "#9c179e"
             ],
             [
              0.4444444444444444,
              "#bd3786"
             ],
             [
              0.5555555555555556,
              "#d8576b"
             ],
             [
              0.6666666666666666,
              "#ed7953"
             ],
             [
              0.7777777777777778,
              "#fb9f3a"
             ],
             [
              0.8888888888888888,
              "#fdca26"
             ],
             [
              1,
              "#f0f921"
             ]
            ],
            "type": "surface"
           }
          ],
          "table": [
           {
            "cells": {
             "fill": {
              "color": "#EBF0F8"
             },
             "line": {
              "color": "white"
             }
            },
            "header": {
             "fill": {
              "color": "#C8D4E3"
             },
             "line": {
              "color": "white"
             }
            },
            "type": "table"
           }
          ]
         },
         "layout": {
          "annotationdefaults": {
           "arrowcolor": "#2a3f5f",
           "arrowhead": 0,
           "arrowwidth": 1
          },
          "autotypenumbers": "strict",
          "coloraxis": {
           "colorbar": {
            "outlinewidth": 0,
            "ticks": ""
           }
          },
          "colorscale": {
           "diverging": [
            [
             0,
             "#8e0152"
            ],
            [
             0.1,
             "#c51b7d"
            ],
            [
             0.2,
             "#de77ae"
            ],
            [
             0.3,
             "#f1b6da"
            ],
            [
             0.4,
             "#fde0ef"
            ],
            [
             0.5,
             "#f7f7f7"
            ],
            [
             0.6,
             "#e6f5d0"
            ],
            [
             0.7,
             "#b8e186"
            ],
            [
             0.8,
             "#7fbc41"
            ],
            [
             0.9,
             "#4d9221"
            ],
            [
             1,
             "#276419"
            ]
           ],
           "sequential": [
            [
             0,
             "#0d0887"
            ],
            [
             0.1111111111111111,
             "#46039f"
            ],
            [
             0.2222222222222222,
             "#7201a8"
            ],
            [
             0.3333333333333333,
             "#9c179e"
            ],
            [
             0.4444444444444444,
             "#bd3786"
            ],
            [
             0.5555555555555556,
             "#d8576b"
            ],
            [
             0.6666666666666666,
             "#ed7953"
            ],
            [
             0.7777777777777778,
             "#fb9f3a"
            ],
            [
             0.8888888888888888,
             "#fdca26"
            ],
            [
             1,
             "#f0f921"
            ]
           ],
           "sequentialminus": [
            [
             0,
             "#0d0887"
            ],
            [
             0.1111111111111111,
             "#46039f"
            ],
            [
             0.2222222222222222,
             "#7201a8"
            ],
            [
             0.3333333333333333,
             "#9c179e"
            ],
            [
             0.4444444444444444,
             "#bd3786"
            ],
            [
             0.5555555555555556,
             "#d8576b"
            ],
            [
             0.6666666666666666,
             "#ed7953"
            ],
            [
             0.7777777777777778,
             "#fb9f3a"
            ],
            [
             0.8888888888888888,
             "#fdca26"
            ],
            [
             1,
             "#f0f921"
            ]
           ]
          },
          "colorway": [
           "#636efa",
           "#EF553B",
           "#00cc96",
           "#ab63fa",
           "#FFA15A",
           "#19d3f3",
           "#FF6692",
           "#B6E880",
           "#FF97FF",
           "#FECB52"
          ],
          "font": {
           "color": "#2a3f5f"
          },
          "geo": {
           "bgcolor": "white",
           "lakecolor": "white",
           "landcolor": "#E5ECF6",
           "showlakes": true,
           "showland": true,
           "subunitcolor": "white"
          },
          "hoverlabel": {
           "align": "left"
          },
          "hovermode": "closest",
          "mapbox": {
           "style": "light"
          },
          "paper_bgcolor": "white",
          "plot_bgcolor": "#E5ECF6",
          "polar": {
           "angularaxis": {
            "gridcolor": "white",
            "linecolor": "white",
            "ticks": ""
           },
           "bgcolor": "#E5ECF6",
           "radialaxis": {
            "gridcolor": "white",
            "linecolor": "white",
            "ticks": ""
           }
          },
          "scene": {
           "xaxis": {
            "backgroundcolor": "#E5ECF6",
            "gridcolor": "white",
            "gridwidth": 2,
            "linecolor": "white",
            "showbackground": true,
            "ticks": "",
            "zerolinecolor": "white"
           },
           "yaxis": {
            "backgroundcolor": "#E5ECF6",
            "gridcolor": "white",
            "gridwidth": 2,
            "linecolor": "white",
            "showbackground": true,
            "ticks": "",
            "zerolinecolor": "white"
           },
           "zaxis": {
            "backgroundcolor": "#E5ECF6",
            "gridcolor": "white",
            "gridwidth": 2,
            "linecolor": "white",
            "showbackground": true,
            "ticks": "",
            "zerolinecolor": "white"
           }
          },
          "shapedefaults": {
           "line": {
            "color": "#2a3f5f"
           }
          },
          "ternary": {
           "aaxis": {
            "gridcolor": "white",
            "linecolor": "white",
            "ticks": ""
           },
           "baxis": {
            "gridcolor": "white",
            "linecolor": "white",
            "ticks": ""
           },
           "bgcolor": "#E5ECF6",
           "caxis": {
            "gridcolor": "white",
            "linecolor": "white",
            "ticks": ""
           }
          },
          "title": {
           "x": 0.05
          },
          "xaxis": {
           "automargin": true,
           "gridcolor": "white",
           "linecolor": "white",
           "ticks": "",
           "title": {
            "standoff": 15
           },
           "zerolinecolor": "white",
           "zerolinewidth": 2
          },
          "yaxis": {
           "automargin": true,
           "gridcolor": "white",
           "linecolor": "white",
           "ticks": "",
           "title": {
            "standoff": 15
           },
           "zerolinecolor": "white",
           "zerolinewidth": 2
          }
         }
        },
        "width": 900,
        "xaxis": {
         "gridcolor": "#1f292f",
         "nticks": 5,
         "rangeslider": {
          "visible": false
         }
        },
        "yaxis": {
         "gridcolor": "#1f292f"
        }
       }
      }
     },
     "metadata": {},
     "output_type": "display_data"
    },
    {
     "name": "stdout",
     "output_type": "stream",
     "text": [
      "EUR_CAD 466\n"
     ]
    },
    {
     "data": {
      "application/vnd.plotly.v1+json": {
       "config": {
        "plotlyServerURL": "https://plot.ly"
       },
       "data": [
        {
         "line": {
          "shape": "spline",
          "width": 2
         },
         "name": "GAIN_C",
         "type": "scatter",
         "x": [
          "s21-05-13 03:00",
          "s21-05-14 14:00",
          "s21-05-16 23:00",
          "s21-05-17 13:00",
          "s21-05-18 10:00",
          "s21-05-20 04:00",
          "s21-05-20 11:00",
          "s21-05-20 17:00",
          "s21-05-21 04:00",
          "s21-05-21 12:00",
          "s21-05-24 04:00",
          "s21-05-25 00:00",
          "s21-05-25 07:00",
          "s21-05-26 08:00",
          "s21-05-26 10:00",
          "s21-05-26 23:00",
          "s21-05-27 05:00",
          "s21-05-27 06:00",
          "s21-05-28 08:00",
          "s21-05-28 20:00",
          "s21-05-30 22:00",
          "s21-05-31 08:00",
          "s21-05-31 15:00",
          "s21-06-01 05:00",
          "s21-06-01 21:00",
          "s21-06-02 09:00",
          "s21-06-03 11:00",
          "s21-06-03 18:00",
          "s21-06-04 13:00",
          "s21-06-08 09:00",
          "s21-06-08 17:00",
          "s21-06-09 09:00",
          "s21-06-09 20:00",
          "s21-06-10 08:00",
          "s21-06-11 05:00",
          "s21-06-11 11:00",
          "s21-06-13 22:00",
          "s21-06-14 07:00",
          "s21-06-14 13:00",
          "s21-06-14 21:00",
          "s21-06-15 07:00",
          "s21-06-16 04:00",
          "s21-06-18 05:00",
          "s21-06-21 15:00",
          "s21-06-22 08:00",
          "s21-06-22 11:00",
          "s21-06-23 23:00",
          "s21-06-24 07:00",
          "s21-06-24 13:00",
          "s21-06-25 07:00",
          "s21-06-28 09:00",
          "s21-06-29 07:00",
          "s21-06-29 10:00",
          "s21-06-30 11:00",
          "s21-07-01 13:00",
          "s21-07-02 09:00",
          "s21-07-05 07:00",
          "s21-07-05 21:00",
          "s21-07-06 13:00",
          "s21-07-07 09:00",
          "s21-07-07 21:00",
          "s21-07-09 00:00",
          "s21-07-12 08:00",
          "s21-07-12 18:00",
          "s21-07-13 10:00",
          "s21-07-13 20:00",
          "s21-07-14 13:00",
          "s21-07-15 15:00",
          "s21-07-15 17:00",
          "s21-07-16 08:00",
          "s21-07-16 16:00",
          "s21-07-20 03:00",
          "s21-07-20 12:00",
          "s21-07-20 14:00",
          "s21-07-21 11:00",
          "s21-07-21 12:00",
          "s21-07-22 08:00",
          "s21-07-22 12:00",
          "s21-07-23 09:00",
          "s21-07-23 17:00",
          "s21-07-23 19:00",
          "s21-07-26 19:00",
          "s21-07-27 08:00",
          "s21-07-28 07:00",
          "s21-07-30 08:00",
          "s21-07-30 11:00",
          "s21-08-01 22:00",
          "s21-08-04 00:00",
          "s21-08-04 13:00",
          "s21-08-04 16:00",
          "s21-08-09 04:00",
          "s21-08-09 09:00",
          "s21-08-09 21:00",
          "s21-08-10 06:00",
          "s21-08-11 09:00",
          "s21-08-11 20:00",
          "s21-08-11 22:00",
          "s21-08-17 17:00",
          "s21-08-18 16:00",
          "s21-08-20 19:00",
          "s21-08-25 09:00",
          "s21-08-26 03:00",
          "s21-08-26 05:00",
          "s21-08-27 11:00",
          "s21-08-30 05:00",
          "s21-08-30 12:00",
          "s21-08-31 01:00",
          "s21-09-01 02:00",
          "s21-09-01 15:00",
          "s21-09-02 08:00",
          "s21-09-03 09:00",
          "s21-09-03 10:00",
          "s21-09-06 03:00",
          "s21-09-06 12:00",
          "s21-09-07 02:00",
          "s21-09-09 14:00",
          "s21-09-12 21:00",
          "s21-09-13 09:00",
          "s21-09-13 22:00",
          "s21-09-15 13:00",
          "s21-09-16 21:00",
          "s21-09-17 08:00",
          "s21-09-17 16:00",
          "s21-09-21 02:00",
          "s21-09-21 17:00",
          "s21-09-22 06:00",
          "s21-09-24 01:00",
          "s21-09-24 17:00",
          "s21-09-28 13:00",
          "s21-09-29 07:00",
          "s21-10-01 06:00",
          "s21-10-01 16:00",
          "s21-10-05 06:00",
          "s21-10-05 10:00",
          "s21-10-06 04:00",
          "s21-10-06 13:00",
          "s21-10-07 12:00",
          "s21-10-07 13:00",
          "s21-10-11 19:00",
          "s21-10-12 10:00",
          "s21-10-13 04:00",
          "s21-10-14 07:00",
          "s21-10-15 06:00",
          "s21-10-15 08:00",
          "s21-10-15 17:00",
          "s21-10-18 04:00",
          "s21-10-18 11:00",
          "s21-10-20 04:00",
          "s21-10-21 09:00",
          "s21-10-22 05:00",
          "s21-10-22 17:00",
          "s21-10-25 09:00",
          "s21-10-25 23:00",
          "s21-10-26 05:00",
          "s21-10-26 23:00",
          "s21-10-27 17:00",
          "s21-10-28 07:00",
          "s21-10-29 08:00",
          "s21-11-01 09:00",
          "s21-11-02 21:00",
          "s21-11-03 06:00",
          "s21-11-03 23:00",
          "s21-11-04 19:00",
          "s21-11-05 12:00",
          "s21-11-08 00:00",
          "s21-11-09 12:00",
          "s21-11-09 14:00",
          "s21-11-09 15:00",
          "s21-11-09 20:00",
          "s21-11-10 01:00",
          "s21-11-11 06:00",
          "s21-11-12 04:00",
          "s21-11-12 12:00",
          "s21-11-12 16:00",
          "s21-11-16 12:00",
          "s21-11-16 18:00",
          "s21-11-17 16:00",
          "s21-11-19 05:00",
          "s21-11-22 17:00",
          "s21-11-23 21:00",
          "s21-11-25 09:00",
          "s21-11-25 20:00",
          "s21-11-26 03:00",
          "s21-11-29 04:00",
          "s21-11-29 17:00",
          "s21-11-30 23:00",
          "s21-12-01 18:00",
          "s21-12-02 10:00",
          "s21-12-02 16:00",
          "s21-12-02 22:00",
          "s21-12-03 11:00",
          "s21-12-03 13:00",
          "s21-12-03 17:00",
          "s21-12-06 07:00",
          "s21-12-08 05:00",
          "s21-12-09 10:00",
          "s21-12-09 21:00",
          "s21-12-09 22:00",
          "s21-12-10 01:00",
          "s21-12-10 11:00",
          "s21-12-10 19:00",
          "s21-12-13 08:00",
          "s21-12-13 15:00",
          "s21-12-15 02:00",
          "s21-12-15 09:00",
          "s21-12-16 02:00",
          "s21-12-17 01:00",
          "s21-12-17 18:00",
          "s21-12-20 04:00",
          "s21-12-21 04:00",
          "s21-12-21 12:00",
          "s21-12-21 18:00",
          "s21-12-22 15:00",
          "s21-12-22 22:00",
          "s21-12-24 02:00",
          "s21-12-24 14:00",
          "s21-12-27 05:00",
          "s21-12-27 18:00",
          "s21-12-28 10:00",
          "s21-12-28 11:00",
          "s21-12-28 12:00",
          "s21-12-28 14:00",
          "s21-12-28 16:00",
          "s21-12-28 20:00",
          "s21-12-28 23:00",
          "s21-12-29 09:00",
          "s21-12-29 15:00",
          "s21-12-30 05:00"
         ],
         "y": [
          45.999999999999375,
          9.999999999998899,
          -18.100000000000893,
          -29.50000000000008,
          20.599999999999508,
          -4.20000000000087,
          -40.000000000000036,
          -69.20000000000037,
          -151.70000000000127,
          -166.70000000000184,
          -145.80000000000257,
          -190.80000000000206,
          -175.30000000000044,
          -169.39999999999952,
          -156.39999999999873,
          -145.59999999999903,
          -146.59999999999891,
          -105.29999999999703,
          -114.29999999999603,
          -112.09999999999494,
          -114.59999999999354,
          -152.5999999999938,
          -179.59999999999528,
          -189.59999999999638,
          -223.1999999999967,
          -218.19999999999723,
          -244.09999999999815,
          -271.39999999999935,
          -266.8000000000003,
          -303.40000000000026,
          -314.19999999999993,
          -328.2000000000006,
          -341.00000000000233,
          -334.6000000000026,
          -378.50000000000153,
          -414.70000000000107,
          -415.6000000000003,
          -403.5999999999994,
          -396.6000000000002,
          -424.2000000000011,
          -402.6000000000017,
          -368.40000000000197,
          -369.60000000000093,
          -375.70000000000095,
          -381.40000000000055,
          -328.9999999999992,
          -336.19999999999976,
          -364.4000000000002,
          -366.4,
          -363.20000000000124,
          -342.20000000000135,
          -352.5,
          -351.2000000000004,
          -314.40000000000134,
          -310.00000000000136,
          -268.60000000000105,
          -286.10000000000025,
          -330.3999999999996,
          -303.49999999999875,
          -313.5999999999983,
          -192.79999999999964,
          -175.19999999999982,
          -213.79999999999956,
          -215.7000000000009,
          -262.2000000000013,
          -257.20000000000186,
          -136.8000000000036,
          -161.90000000000373,
          -191.2000000000025,
          -207.80000000000243,
          -32.60000000000264,
          -28.000000000001368,
          -75.00000000000063,
          -33.1999999999999,
          -78.5999999999998,
          -4.200000000000884,
          -15.100000000001238,
          11.199999999997864,
          19.799999999996473,
          23.199999999996542,
          32.99999999999635,
          13.79999999999491,
          45.399999999993206,
          102.59999999999268,
          93.39999999999236,
          83.39999999999124,
          166.79999999999137,
          145.6999999999908,
          95.69999999998966,
          175.4999999999884,
          149.19999999998709,
          134.59999999998692,
          123.59999999998813,
          195.19999999998868,
          194.39999999998787,
          190.49999999998676,
          311.7999999999865,
          325.79999999998716,
          543.9999999999867,
          745.899999999986,
          787.1999999999857,
          793.7999999999845,
          873.9999999999836,
          894.2999999999834,
          848.3999999999825,
          812.9999999999815,
          818.9999999999808,
          767.3999999999803,
          740.1999999999798,
          765.3999999999805,
          754.9999999999812,
          759.2999999999805,
          755.9999999999811,
          756.1999999999824,
          824.9999999999824,
          792.899999999983,
          748.0999999999849,
          743.9999999999847,
          746.1999999999836,
          762.9999999999826,
          724.7999999999811,
          673.3999999999796,
          734.79999999998,
          713.3999999999819,
          680.7999999999837,
          795.399999999984,
          765.9999999999823,
          805.1999999999815,
          797.6999999999812,
          850.3999999999801,
          770.9999999999795,
          809.7999999999806,
          793.1999999999807,
          800.3999999999791,
          779.7999999999773,
          825.4999999999769,
          817.5999999999784,
          920.19999999998,
          883.9999999999804,
          889.9999999999798,
          899.9999999999786,
          954.7999999999779,
          942.1999999999775,
          903.5999999999777,
          891.099999999978,
          865.5999999999774,
          862.499999999977,
          877.2999999999763,
          881.999999999976,
          850.8999999999766,
          833.2999999999768,
          839.5999999999758,
          837.7999999999752,
          837.1999999999757,
          792.2999999999769,
          756.199999999978,
          791.799999999978,
          869.4999999999785,
          912.3999999999797,
          893.1999999999805,
          890.1999999999808,
          869.699999999982,
          810.399999999982,
          745.1999999999812,
          736.3999999999812,
          678.4999999999816,
          659.399999999983,
          666.5999999999835,
          649.7999999999823,
          698.1999999999819,
          743.9999999999822,
          738.399999999981,
          696.7999999999794,
          821.5999999999799,
          795.1999999999802,
          759.1999999999797,
          801.8999999999796,
          820.3999999999787,
          793.1999999999782,
          832.1999999999783,
          793.999999999979,
          709.7999999999803,
          819.5999999999801,
          796.9999999999786,
          877.5999999999782,
          844.5999999999774,
          835.5999999999761,
          845.7999999999763,
          833.199999999976,
          801.8999999999752,
          731.3999999999752,
          646.3999999999756,
          585.5999999999771,
          763.4999999999768,
          823.9999999999757,
          808.3999999999756,
          802.6999999999761,
          803.1999999999771,
          759.8999999999776,
          669.999999999977,
          642.5999999999774,
          571.1999999999782,
          601.2999999999778,
          568.5999999999767,
          574.599999999976,
          608.8999999999764,
          610.3999999999774,
          573.4999999999776,
          638.9999999999782,
          622.1999999999791,
          594.3999999999791,
          610.3999999999795,
          600.1999999999794,
          623.199999999979,
          616.1999999999798,
          626.39999999998,
          619.9999999999802,
          622.3999999999804,
          628.3999999999797,
          640.9999999999801,
          623.9999999999819,
          597.1999999999817,
          591.7999999999797,
          585.8999999999788,
          556.5999999999779,
          496.5999999999778,
          466.79999999997796,
          466.79999999997796
         ]
        }
       ],
       "layout": {
        "font": {
         "color": "#e1e1e1",
         "size": 8
        },
        "height": 400,
        "margin": {
         "b": 10,
         "l": 10,
         "r": 10,
         "t": 10
        },
        "paper_bgcolor": "#2c303c",
        "plot_bgcolor": "#2c303c",
        "template": {
         "data": {
          "bar": [
           {
            "error_x": {
             "color": "#2a3f5f"
            },
            "error_y": {
             "color": "#2a3f5f"
            },
            "marker": {
             "line": {
              "color": "#E5ECF6",
              "width": 0.5
             },
             "pattern": {
              "fillmode": "overlay",
              "size": 10,
              "solidity": 0.2
             }
            },
            "type": "bar"
           }
          ],
          "barpolar": [
           {
            "marker": {
             "line": {
              "color": "#E5ECF6",
              "width": 0.5
             },
             "pattern": {
              "fillmode": "overlay",
              "size": 10,
              "solidity": 0.2
             }
            },
            "type": "barpolar"
           }
          ],
          "carpet": [
           {
            "aaxis": {
             "endlinecolor": "#2a3f5f",
             "gridcolor": "white",
             "linecolor": "white",
             "minorgridcolor": "white",
             "startlinecolor": "#2a3f5f"
            },
            "baxis": {
             "endlinecolor": "#2a3f5f",
             "gridcolor": "white",
             "linecolor": "white",
             "minorgridcolor": "white",
             "startlinecolor": "#2a3f5f"
            },
            "type": "carpet"
           }
          ],
          "choropleth": [
           {
            "colorbar": {
             "outlinewidth": 0,
             "ticks": ""
            },
            "type": "choropleth"
           }
          ],
          "contour": [
           {
            "colorbar": {
             "outlinewidth": 0,
             "ticks": ""
            },
            "colorscale": [
             [
              0,
              "#0d0887"
             ],
             [
              0.1111111111111111,
              "#46039f"
             ],
             [
              0.2222222222222222,
              "#7201a8"
             ],
             [
              0.3333333333333333,
              "#9c179e"
             ],
             [
              0.4444444444444444,
              "#bd3786"
             ],
             [
              0.5555555555555556,
              "#d8576b"
             ],
             [
              0.6666666666666666,
              "#ed7953"
             ],
             [
              0.7777777777777778,
              "#fb9f3a"
             ],
             [
              0.8888888888888888,
              "#fdca26"
             ],
             [
              1,
              "#f0f921"
             ]
            ],
            "type": "contour"
           }
          ],
          "contourcarpet": [
           {
            "colorbar": {
             "outlinewidth": 0,
             "ticks": ""
            },
            "type": "contourcarpet"
           }
          ],
          "heatmap": [
           {
            "colorbar": {
             "outlinewidth": 0,
             "ticks": ""
            },
            "colorscale": [
             [
              0,
              "#0d0887"
             ],
             [
              0.1111111111111111,
              "#46039f"
             ],
             [
              0.2222222222222222,
              "#7201a8"
             ],
             [
              0.3333333333333333,
              "#9c179e"
             ],
             [
              0.4444444444444444,
              "#bd3786"
             ],
             [
              0.5555555555555556,
              "#d8576b"
             ],
             [
              0.6666666666666666,
              "#ed7953"
             ],
             [
              0.7777777777777778,
              "#fb9f3a"
             ],
             [
              0.8888888888888888,
              "#fdca26"
             ],
             [
              1,
              "#f0f921"
             ]
            ],
            "type": "heatmap"
           }
          ],
          "heatmapgl": [
           {
            "colorbar": {
             "outlinewidth": 0,
             "ticks": ""
            },
            "colorscale": [
             [
              0,
              "#0d0887"
             ],
             [
              0.1111111111111111,
              "#46039f"
             ],
             [
              0.2222222222222222,
              "#7201a8"
             ],
             [
              0.3333333333333333,
              "#9c179e"
             ],
             [
              0.4444444444444444,
              "#bd3786"
             ],
             [
              0.5555555555555556,
              "#d8576b"
             ],
             [
              0.6666666666666666,
              "#ed7953"
             ],
             [
              0.7777777777777778,
              "#fb9f3a"
             ],
             [
              0.8888888888888888,
              "#fdca26"
             ],
             [
              1,
              "#f0f921"
             ]
            ],
            "type": "heatmapgl"
           }
          ],
          "histogram": [
           {
            "marker": {
             "pattern": {
              "fillmode": "overlay",
              "size": 10,
              "solidity": 0.2
             }
            },
            "type": "histogram"
           }
          ],
          "histogram2d": [
           {
            "colorbar": {
             "outlinewidth": 0,
             "ticks": ""
            },
            "colorscale": [
             [
              0,
              "#0d0887"
             ],
             [
              0.1111111111111111,
              "#46039f"
             ],
             [
              0.2222222222222222,
              "#7201a8"
             ],
             [
              0.3333333333333333,
              "#9c179e"
             ],
             [
              0.4444444444444444,
              "#bd3786"
             ],
             [
              0.5555555555555556,
              "#d8576b"
             ],
             [
              0.6666666666666666,
              "#ed7953"
             ],
             [
              0.7777777777777778,
              "#fb9f3a"
             ],
             [
              0.8888888888888888,
              "#fdca26"
             ],
             [
              1,
              "#f0f921"
             ]
            ],
            "type": "histogram2d"
           }
          ],
          "histogram2dcontour": [
           {
            "colorbar": {
             "outlinewidth": 0,
             "ticks": ""
            },
            "colorscale": [
             [
              0,
              "#0d0887"
             ],
             [
              0.1111111111111111,
              "#46039f"
             ],
             [
              0.2222222222222222,
              "#7201a8"
             ],
             [
              0.3333333333333333,
              "#9c179e"
             ],
             [
              0.4444444444444444,
              "#bd3786"
             ],
             [
              0.5555555555555556,
              "#d8576b"
             ],
             [
              0.6666666666666666,
              "#ed7953"
             ],
             [
              0.7777777777777778,
              "#fb9f3a"
             ],
             [
              0.8888888888888888,
              "#fdca26"
             ],
             [
              1,
              "#f0f921"
             ]
            ],
            "type": "histogram2dcontour"
           }
          ],
          "mesh3d": [
           {
            "colorbar": {
             "outlinewidth": 0,
             "ticks": ""
            },
            "type": "mesh3d"
           }
          ],
          "parcoords": [
           {
            "line": {
             "colorbar": {
              "outlinewidth": 0,
              "ticks": ""
             }
            },
            "type": "parcoords"
           }
          ],
          "pie": [
           {
            "automargin": true,
            "type": "pie"
           }
          ],
          "scatter": [
           {
            "fillpattern": {
             "fillmode": "overlay",
             "size": 10,
             "solidity": 0.2
            },
            "type": "scatter"
           }
          ],
          "scatter3d": [
           {
            "line": {
             "colorbar": {
              "outlinewidth": 0,
              "ticks": ""
             }
            },
            "marker": {
             "colorbar": {
              "outlinewidth": 0,
              "ticks": ""
             }
            },
            "type": "scatter3d"
           }
          ],
          "scattercarpet": [
           {
            "marker": {
             "colorbar": {
              "outlinewidth": 0,
              "ticks": ""
             }
            },
            "type": "scattercarpet"
           }
          ],
          "scattergeo": [
           {
            "marker": {
             "colorbar": {
              "outlinewidth": 0,
              "ticks": ""
             }
            },
            "type": "scattergeo"
           }
          ],
          "scattergl": [
           {
            "marker": {
             "colorbar": {
              "outlinewidth": 0,
              "ticks": ""
             }
            },
            "type": "scattergl"
           }
          ],
          "scattermapbox": [
           {
            "marker": {
             "colorbar": {
              "outlinewidth": 0,
              "ticks": ""
             }
            },
            "type": "scattermapbox"
           }
          ],
          "scatterpolar": [
           {
            "marker": {
             "colorbar": {
              "outlinewidth": 0,
              "ticks": ""
             }
            },
            "type": "scatterpolar"
           }
          ],
          "scatterpolargl": [
           {
            "marker": {
             "colorbar": {
              "outlinewidth": 0,
              "ticks": ""
             }
            },
            "type": "scatterpolargl"
           }
          ],
          "scatterternary": [
           {
            "marker": {
             "colorbar": {
              "outlinewidth": 0,
              "ticks": ""
             }
            },
            "type": "scatterternary"
           }
          ],
          "surface": [
           {
            "colorbar": {
             "outlinewidth": 0,
             "ticks": ""
            },
            "colorscale": [
             [
              0,
              "#0d0887"
             ],
             [
              0.1111111111111111,
              "#46039f"
             ],
             [
              0.2222222222222222,
              "#7201a8"
             ],
             [
              0.3333333333333333,
              "#9c179e"
             ],
             [
              0.4444444444444444,
              "#bd3786"
             ],
             [
              0.5555555555555556,
              "#d8576b"
             ],
             [
              0.6666666666666666,
              "#ed7953"
             ],
             [
              0.7777777777777778,
              "#fb9f3a"
             ],
             [
              0.8888888888888888,
              "#fdca26"
             ],
             [
              1,
              "#f0f921"
             ]
            ],
            "type": "surface"
           }
          ],
          "table": [
           {
            "cells": {
             "fill": {
              "color": "#EBF0F8"
             },
             "line": {
              "color": "white"
             }
            },
            "header": {
             "fill": {
              "color": "#C8D4E3"
             },
             "line": {
              "color": "white"
             }
            },
            "type": "table"
           }
          ]
         },
         "layout": {
          "annotationdefaults": {
           "arrowcolor": "#2a3f5f",
           "arrowhead": 0,
           "arrowwidth": 1
          },
          "autotypenumbers": "strict",
          "coloraxis": {
           "colorbar": {
            "outlinewidth": 0,
            "ticks": ""
           }
          },
          "colorscale": {
           "diverging": [
            [
             0,
             "#8e0152"
            ],
            [
             0.1,
             "#c51b7d"
            ],
            [
             0.2,
             "#de77ae"
            ],
            [
             0.3,
             "#f1b6da"
            ],
            [
             0.4,
             "#fde0ef"
            ],
            [
             0.5,
             "#f7f7f7"
            ],
            [
             0.6,
             "#e6f5d0"
            ],
            [
             0.7,
             "#b8e186"
            ],
            [
             0.8,
             "#7fbc41"
            ],
            [
             0.9,
             "#4d9221"
            ],
            [
             1,
             "#276419"
            ]
           ],
           "sequential": [
            [
             0,
             "#0d0887"
            ],
            [
             0.1111111111111111,
             "#46039f"
            ],
            [
             0.2222222222222222,
             "#7201a8"
            ],
            [
             0.3333333333333333,
             "#9c179e"
            ],
            [
             0.4444444444444444,
             "#bd3786"
            ],
            [
             0.5555555555555556,
             "#d8576b"
            ],
            [
             0.6666666666666666,
             "#ed7953"
            ],
            [
             0.7777777777777778,
             "#fb9f3a"
            ],
            [
             0.8888888888888888,
             "#fdca26"
            ],
            [
             1,
             "#f0f921"
            ]
           ],
           "sequentialminus": [
            [
             0,
             "#0d0887"
            ],
            [
             0.1111111111111111,
             "#46039f"
            ],
            [
             0.2222222222222222,
             "#7201a8"
            ],
            [
             0.3333333333333333,
             "#9c179e"
            ],
            [
             0.4444444444444444,
             "#bd3786"
            ],
            [
             0.5555555555555556,
             "#d8576b"
            ],
            [
             0.6666666666666666,
             "#ed7953"
            ],
            [
             0.7777777777777778,
             "#fb9f3a"
            ],
            [
             0.8888888888888888,
             "#fdca26"
            ],
            [
             1,
             "#f0f921"
            ]
           ]
          },
          "colorway": [
           "#636efa",
           "#EF553B",
           "#00cc96",
           "#ab63fa",
           "#FFA15A",
           "#19d3f3",
           "#FF6692",
           "#B6E880",
           "#FF97FF",
           "#FECB52"
          ],
          "font": {
           "color": "#2a3f5f"
          },
          "geo": {
           "bgcolor": "white",
           "lakecolor": "white",
           "landcolor": "#E5ECF6",
           "showlakes": true,
           "showland": true,
           "subunitcolor": "white"
          },
          "hoverlabel": {
           "align": "left"
          },
          "hovermode": "closest",
          "mapbox": {
           "style": "light"
          },
          "paper_bgcolor": "white",
          "plot_bgcolor": "#E5ECF6",
          "polar": {
           "angularaxis": {
            "gridcolor": "white",
            "linecolor": "white",
            "ticks": ""
           },
           "bgcolor": "#E5ECF6",
           "radialaxis": {
            "gridcolor": "white",
            "linecolor": "white",
            "ticks": ""
           }
          },
          "scene": {
           "xaxis": {
            "backgroundcolor": "#E5ECF6",
            "gridcolor": "white",
            "gridwidth": 2,
            "linecolor": "white",
            "showbackground": true,
            "ticks": "",
            "zerolinecolor": "white"
           },
           "yaxis": {
            "backgroundcolor": "#E5ECF6",
            "gridcolor": "white",
            "gridwidth": 2,
            "linecolor": "white",
            "showbackground": true,
            "ticks": "",
            "zerolinecolor": "white"
           },
           "zaxis": {
            "backgroundcolor": "#E5ECF6",
            "gridcolor": "white",
            "gridwidth": 2,
            "linecolor": "white",
            "showbackground": true,
            "ticks": "",
            "zerolinecolor": "white"
           }
          },
          "shapedefaults": {
           "line": {
            "color": "#2a3f5f"
           }
          },
          "ternary": {
           "aaxis": {
            "gridcolor": "white",
            "linecolor": "white",
            "ticks": ""
           },
           "baxis": {
            "gridcolor": "white",
            "linecolor": "white",
            "ticks": ""
           },
           "bgcolor": "#E5ECF6",
           "caxis": {
            "gridcolor": "white",
            "linecolor": "white",
            "ticks": ""
           }
          },
          "title": {
           "x": 0.05
          },
          "xaxis": {
           "automargin": true,
           "gridcolor": "white",
           "linecolor": "white",
           "ticks": "",
           "title": {
            "standoff": 15
           },
           "zerolinecolor": "white",
           "zerolinewidth": 2
          },
          "yaxis": {
           "automargin": true,
           "gridcolor": "white",
           "linecolor": "white",
           "ticks": "",
           "title": {
            "standoff": 15
           },
           "zerolinecolor": "white",
           "zerolinewidth": 2
          }
         }
        },
        "width": 900,
        "xaxis": {
         "gridcolor": "#1f292f",
         "nticks": 5,
         "rangeslider": {
          "visible": false
         }
        },
        "yaxis": {
         "gridcolor": "#1f292f"
        }
       }
      }
     },
     "metadata": {},
     "output_type": "display_data"
    },
    {
     "name": "stdout",
     "output_type": "stream",
     "text": [
      "USD_CAD 142\n"
     ]
    },
    {
     "data": {
      "application/vnd.plotly.v1+json": {
       "config": {
        "plotlyServerURL": "https://plot.ly"
       },
       "data": [
        {
         "line": {
          "shape": "spline",
          "width": 2
         },
         "name": "GAIN_C",
         "type": "scatter",
         "x": [
          "s21-05-12 12:00",
          "s21-05-12 21:00",
          "s21-05-14 09:00",
          "s21-05-17 03:00",
          "s21-05-17 13:00",
          "s21-05-18 18:00",
          "s21-05-20 09:00",
          "s21-05-21 06:00",
          "s21-05-21 12:00",
          "s21-05-23 22:00",
          "s21-05-24 08:00",
          "s21-05-25 14:00",
          "s21-05-26 06:00",
          "s21-05-26 11:00",
          "s21-05-27 10:00",
          "s21-05-28 06:00",
          "s21-05-30 21:00",
          "s21-06-01 21:00",
          "s21-06-02 16:00",
          "s21-06-03 08:00",
          "s21-06-04 14:00",
          "s21-06-07 07:00",
          "s21-06-07 15:00",
          "s21-06-08 02:00",
          "s21-06-09 08:00",
          "s21-06-09 21:00",
          "s21-06-10 12:00",
          "s21-06-11 11:00",
          "s21-06-14 08:00",
          "s21-06-15 08:00",
          "s21-06-16 03:00",
          "s21-06-16 18:00",
          "s21-06-21 12:00",
          "s21-06-22 07:00",
          "s21-06-22 17:00",
          "s21-06-23 23:00",
          "s21-06-24 10:00",
          "s21-06-24 16:00",
          "s21-06-25 06:00",
          "s21-06-28 01:00",
          "s21-06-30 11:00",
          "s21-06-30 17:00",
          "s21-06-30 18:00",
          "s21-06-30 22:00",
          "s21-07-01 11:00",
          "s21-07-01 18:00",
          "s21-07-02 10:00",
          "s21-07-05 08:00",
          "s21-07-05 21:00",
          "s21-07-06 12:00",
          "s21-07-07 09:00",
          "s21-07-07 17:00",
          "s21-07-08 21:00",
          "s21-07-09 07:00",
          "s21-07-09 10:00",
          "s21-07-12 08:00",
          "s21-07-12 20:00",
          "s21-07-13 10:00",
          "s21-07-14 05:00",
          "s21-07-14 22:00",
          "s21-07-16 08:00",
          "s21-07-16 15:00",
          "s21-07-20 02:00",
          "s21-07-20 07:00",
          "s21-07-20 08:00",
          "s21-07-20 10:00",
          "s21-07-20 16:00",
          "s21-07-21 09:00",
          "s21-07-21 14:00",
          "s21-07-22 08:00",
          "s21-07-22 12:00",
          "s21-07-22 22:00",
          "s21-07-22 23:00",
          "s21-07-23 03:00",
          "s21-07-26 00:00",
          "s21-07-26 06:00",
          "s21-07-26 12:00",
          "s21-07-27 07:00",
          "s21-07-28 08:00",
          "s21-07-30 06:00",
          "s21-07-30 11:00",
          "s21-07-30 17:00",
          "s21-08-02 09:00",
          "s21-08-02 16:00",
          "s21-08-04 03:00",
          "s21-08-04 14:00",
          "s21-08-05 04:00",
          "s21-08-06 04:00",
          "s21-08-09 09:00",
          "s21-08-09 19:00",
          "s21-08-10 09:00",
          "s21-08-11 09:00",
          "s21-08-11 15:00",
          "s21-08-12 06:00",
          "s21-08-13 08:00",
          "s21-08-16 02:00",
          "s21-08-18 05:00",
          "s21-08-18 16:00",
          "s21-08-20 19:00",
          "s21-08-25 07:00",
          "s21-08-25 21:00",
          "s21-08-26 08:00",
          "s21-08-27 10:00",
          "s21-08-30 09:00",
          "s21-08-30 12:00",
          "s21-08-31 02:00",
          "s21-08-31 06:00",
          "s21-08-31 16:00",
          "s21-09-01 07:00",
          "s21-09-01 21:00",
          "s21-09-02 09:00",
          "s21-09-06 03:00",
          "s21-09-06 19:00",
          "s21-09-07 07:00",
          "s21-09-09 14:00",
          "s21-09-10 20:00",
          "s21-09-13 12:00",
          "s21-09-14 14:00",
          "s21-09-15 11:00",
          "s21-09-16 09:00",
          "s21-09-17 07:00",
          "s21-09-17 16:00",
          "s21-09-21 00:00",
          "s21-09-21 17:00",
          "s21-09-22 07:00",
          "s21-09-23 03:00",
          "s21-09-23 07:00",
          "s21-09-24 03:00",
          "s21-09-26 21:00",
          "s21-09-27 14:00",
          "s21-09-27 21:00",
          "s21-09-28 11:00",
          "s21-09-29 07:00",
          "s21-09-29 11:00",
          "s21-09-30 07:00",
          "s21-10-01 06:00",
          "s21-10-01 15:00",
          "s21-10-05 03:00",
          "s21-10-05 14:00",
          "s21-10-06 03:00",
          "s21-10-06 20:00",
          "s21-10-11 18:00",
          "s21-10-12 10:00",
          "s21-10-13 01:00",
          "s21-10-13 07:00",
          "s21-10-15 16:00",
          "s21-10-18 16:00",
          "s21-10-19 18:00",
          "s21-10-20 06:00",
          "s21-10-21 10:00",
          "s21-10-22 07:00",
          "s21-10-22 18:00",
          "s21-10-25 07:00",
          "s21-10-25 15:00",
          "s21-10-26 08:00",
          "s21-10-26 20:00",
          "s21-10-27 16:00",
          "s21-10-28 06:00",
          "s21-10-28 14:00",
          "s21-10-29 05:00",
          "s21-11-01 09:00",
          "s21-11-01 11:00",
          "s21-11-01 14:00",
          "s21-11-02 03:00",
          "s21-11-03 18:00",
          "s21-11-04 09:00",
          "s21-11-05 17:00",
          "s21-11-08 08:00",
          "s21-11-08 11:00",
          "s21-11-09 18:00",
          "s21-11-10 01:00",
          "s21-11-10 18:00",
          "s21-11-12 14:00",
          "s21-11-16 11:00",
          "s21-11-18 11:00",
          "s21-11-18 17:00",
          "s21-11-19 01:00",
          "s21-11-19 11:00",
          "s21-11-22 08:00",
          "s21-11-22 09:00",
          "s21-11-22 11:00",
          "s21-11-22 16:00",
          "s21-11-23 20:00",
          "s21-11-24 12:00",
          "s21-11-24 20:00",
          "s21-11-25 16:00",
          "s21-11-25 21:00",
          "s21-11-26 02:00",
          "s21-11-29 02:00",
          "s21-11-29 16:00",
          "s21-11-30 02:00",
          "s21-11-30 09:00",
          "s21-12-01 01:00",
          "s21-12-01 17:00",
          "s21-12-02 10:00",
          "s21-12-02 17:00",
          "s21-12-03 13:00",
          "s21-12-05 23:00",
          "s21-12-06 09:00",
          "s21-12-08 21:00",
          "s21-12-16 01:00",
          "s21-12-17 03:00",
          "s21-12-21 04:00",
          "s21-12-21 15:00",
          "s21-12-21 19:00",
          "s21-12-24 06:00",
          "s21-12-24 13:00",
          "s21-12-27 00:00",
          "s21-12-27 18:00",
          "s21-12-28 10:00",
          "s21-12-28 13:00",
          "s21-12-28 14:00",
          "s21-12-29 16:00",
          "s21-12-30 10:00",
          "s21-12-30 17:00"
         ],
         "y": [
          -62.499999999998664,
          -53.699999999998745,
          -44.899999999998826,
          -83.69999999999766,
          -47.99999999999693,
          24.300000000003763,
          72.00000000000317,
          22.30000000000176,
          -21.79999999999849,
          -23.099999999998126,
          -16.899999999997476,
          -32.99999999999637,
          -68.69999999999487,
          -60.499999999994444,
          -48.299999999994455,
          -60.99999999999328,
          -60.89999999999262,
          -88.99999999999241,
          -108.79999999999112,
          -82.8999999999902,
          -84.49999999998958,
          -112.59999999998938,
          -139.0999999999898,
          -138.8999999999907,
          -160.49999999999233,
          -186.0999999999935,
          -207.09999999999343,
          -149.49999999999355,
          -148.89999999999407,
          -134.6999999999943,
          -222.4999999999944,
          -78.69999999999382,
          -56.09999999999454,
          -110.09999999999525,
          -82.6999999999956,
          -99.69999999999595,
          -133.89999999999574,
          -153.09999999999496,
          -158.09999999999442,
          -82.89999999999472,
          -109.4999999999958,
          -114.89999999999786,
          -104.3999999999979,
          -117.69999999999621,
          -181.19999999999476,
          -209.29999999999455,
          -135.09999999999474,
          -137.29999999999362,
          -176.29999999999376,
          -120.69999999999366,
          -172.69999999999237,
          -125.0999999999914,
          -115.39999999999003,
          -129.09999999998874,
          -104.49999999998745,
          -136.49999999998616,
          -162.6999999999846,
          -139.899999999984,
          -151.6999999999836,
          -101.59999999998178,
          -123.89999999998132,
          31.700000000018846,
          -5.099999999980206,
          -31.499999999979963,
          -39.49999999997908,
          -90.39999999997724,
          -64.6999999999754,
          -164.6999999999755,
          -149.89999999997622,
          -162.6999999999757,
          -168.89999999997633,
          -167.69999999997736,
          -174.09999999997711,
          -165.6999999999776,
          -175.39999999997897,
          -186.69999999997972,
          -187.6999999999796,
          -197.59999999998007,
          -75.69999999998085,
          -76.49999999998164,
          -110.89999999998273,
          -133.499999999982,
          -176.09999999998132,
          -155.59999999998246,
          -175.29999999998273,
          -187.39999999998207,
          -167.2999999999814,
          -135.49999999998178,
          -175.19999999998208,
          -181.29999999998208,
          -143.69999999998223,
          -165.09999999998254,
          -169.2999999999834,
          -171.4999999999845,
          -184.39999999998463,
          -99.69999999998485,
          -127.8999999999853,
          55.10000000001453,
          266.700000000013,
          241.70000000001133,
          215.90000000001106,
          281.300000000011,
          343.40000000000924,
          329.80000000000894,
          312.50000000000887,
          273.70000000000783,
          230.70000000000812,
          191.9000000000093,
          159.1000000000098,
          140.90000000001046,
          203.3000000000107,
          198.70000000000942,
          181.70000000000908,
          279.70000000000937,
          235.3000000000094,
          205.70000000000866,
          190.7000000000081,
          198.50000000000813,
          245.3000000000083,
          255.30000000000942,
          167.2000000000096,
          234.70000000000994,
          231.70000000001028,
          229.50000000000918,
          279.50000000000813,
          202.30000000000865,
          210.40000000001064,
          197.3000000000114,
          217.30000000001144,
          207.70000000001073,
          193.50000000000875,
          238.30000000000692,
          227.7000000000063,
          246.7000000000064,
          240.50000000000577,
          174.90000000000455,
          219.30000000000456,
          173.7000000000056,
          143.50000000000537,
          136.10000000000574,
          247.40000000000657,
          223.20000000000567,
          217.30000000000476,
          202.60000000000394,
          255.60000000000255,
          229.30000000000123,
          237.10000000000127,
          233.3000000000008,
          248.29999999999916,
          249.29999999999905,
          224.10000000000048,
          200.1000000000009,
          169.50000000000028,
          168.29999999999907,
          150.89999999999833,
          91.0999999999996,
          38.700000000000486,
          -8.099999999999689,
          -31.39999999999912,
          -9.599999999998413,
          -2.5999999999991843,
          -9.600000000000634,
          -24.200000000000802,
          -12.900000000000048,
          -37.300000000000026,
          -5.399999999999764,
          -14.600000000000083,
          -32.10000000000149,
          -38.10000000000305,
          -52.50000000000413,
          -105.70000000000404,
          -1.9000000000034873,
          59.099999999996456,
          132.89999999999588,
          131.4999999999956,
          126.09999999999575,
          71.99999999999659,
          61.599999999997294,
          61.49999999999664,
          57.199999999995114,
          10.799999999995343,
          -1.7000000000043904,
          -32.200000000004366,
          -72.2000000000044,
          -57.100000000005394,
          -56.300000000004594,
          -110.90000000000258,
          -71.30000000000072,
          -121.29999999999966,
          -178.70000000000044,
          -231.60000000000062,
          -260.19999999999925,
          -305.5999999999991,
          -316.30000000000035,
          -339.2000000000016,
          -391.300000000001,
          -444.89999999999907,
          -460.8999999999973,
          -311.49999999999557,
          -111.09999999999499,
          -63.29999999999493,
          57.60000000000441,
          51.80000000000416,
          45.90000000000548,
          149.700000000006,
          141.3000000000065,
          139.9000000000062,
          125.50000000000512,
          133.70000000000556,
          129.20000000000715,
          118.20000000000836,
          130.500000000009,
          151.10000000000852,
          142.80000000000743,
          142.80000000000743
         ]
        }
       ],
       "layout": {
        "font": {
         "color": "#e1e1e1",
         "size": 8
        },
        "height": 400,
        "margin": {
         "b": 10,
         "l": 10,
         "r": 10,
         "t": 10
        },
        "paper_bgcolor": "#2c303c",
        "plot_bgcolor": "#2c303c",
        "template": {
         "data": {
          "bar": [
           {
            "error_x": {
             "color": "#2a3f5f"
            },
            "error_y": {
             "color": "#2a3f5f"
            },
            "marker": {
             "line": {
              "color": "#E5ECF6",
              "width": 0.5
             },
             "pattern": {
              "fillmode": "overlay",
              "size": 10,
              "solidity": 0.2
             }
            },
            "type": "bar"
           }
          ],
          "barpolar": [
           {
            "marker": {
             "line": {
              "color": "#E5ECF6",
              "width": 0.5
             },
             "pattern": {
              "fillmode": "overlay",
              "size": 10,
              "solidity": 0.2
             }
            },
            "type": "barpolar"
           }
          ],
          "carpet": [
           {
            "aaxis": {
             "endlinecolor": "#2a3f5f",
             "gridcolor": "white",
             "linecolor": "white",
             "minorgridcolor": "white",
             "startlinecolor": "#2a3f5f"
            },
            "baxis": {
             "endlinecolor": "#2a3f5f",
             "gridcolor": "white",
             "linecolor": "white",
             "minorgridcolor": "white",
             "startlinecolor": "#2a3f5f"
            },
            "type": "carpet"
           }
          ],
          "choropleth": [
           {
            "colorbar": {
             "outlinewidth": 0,
             "ticks": ""
            },
            "type": "choropleth"
           }
          ],
          "contour": [
           {
            "colorbar": {
             "outlinewidth": 0,
             "ticks": ""
            },
            "colorscale": [
             [
              0,
              "#0d0887"
             ],
             [
              0.1111111111111111,
              "#46039f"
             ],
             [
              0.2222222222222222,
              "#7201a8"
             ],
             [
              0.3333333333333333,
              "#9c179e"
             ],
             [
              0.4444444444444444,
              "#bd3786"
             ],
             [
              0.5555555555555556,
              "#d8576b"
             ],
             [
              0.6666666666666666,
              "#ed7953"
             ],
             [
              0.7777777777777778,
              "#fb9f3a"
             ],
             [
              0.8888888888888888,
              "#fdca26"
             ],
             [
              1,
              "#f0f921"
             ]
            ],
            "type": "contour"
           }
          ],
          "contourcarpet": [
           {
            "colorbar": {
             "outlinewidth": 0,
             "ticks": ""
            },
            "type": "contourcarpet"
           }
          ],
          "heatmap": [
           {
            "colorbar": {
             "outlinewidth": 0,
             "ticks": ""
            },
            "colorscale": [
             [
              0,
              "#0d0887"
             ],
             [
              0.1111111111111111,
              "#46039f"
             ],
             [
              0.2222222222222222,
              "#7201a8"
             ],
             [
              0.3333333333333333,
              "#9c179e"
             ],
             [
              0.4444444444444444,
              "#bd3786"
             ],
             [
              0.5555555555555556,
              "#d8576b"
             ],
             [
              0.6666666666666666,
              "#ed7953"
             ],
             [
              0.7777777777777778,
              "#fb9f3a"
             ],
             [
              0.8888888888888888,
              "#fdca26"
             ],
             [
              1,
              "#f0f921"
             ]
            ],
            "type": "heatmap"
           }
          ],
          "heatmapgl": [
           {
            "colorbar": {
             "outlinewidth": 0,
             "ticks": ""
            },
            "colorscale": [
             [
              0,
              "#0d0887"
             ],
             [
              0.1111111111111111,
              "#46039f"
             ],
             [
              0.2222222222222222,
              "#7201a8"
             ],
             [
              0.3333333333333333,
              "#9c179e"
             ],
             [
              0.4444444444444444,
              "#bd3786"
             ],
             [
              0.5555555555555556,
              "#d8576b"
             ],
             [
              0.6666666666666666,
              "#ed7953"
             ],
             [
              0.7777777777777778,
              "#fb9f3a"
             ],
             [
              0.8888888888888888,
              "#fdca26"
             ],
             [
              1,
              "#f0f921"
             ]
            ],
            "type": "heatmapgl"
           }
          ],
          "histogram": [
           {
            "marker": {
             "pattern": {
              "fillmode": "overlay",
              "size": 10,
              "solidity": 0.2
             }
            },
            "type": "histogram"
           }
          ],
          "histogram2d": [
           {
            "colorbar": {
             "outlinewidth": 0,
             "ticks": ""
            },
            "colorscale": [
             [
              0,
              "#0d0887"
             ],
             [
              0.1111111111111111,
              "#46039f"
             ],
             [
              0.2222222222222222,
              "#7201a8"
             ],
             [
              0.3333333333333333,
              "#9c179e"
             ],
             [
              0.4444444444444444,
              "#bd3786"
             ],
             [
              0.5555555555555556,
              "#d8576b"
             ],
             [
              0.6666666666666666,
              "#ed7953"
             ],
             [
              0.7777777777777778,
              "#fb9f3a"
             ],
             [
              0.8888888888888888,
              "#fdca26"
             ],
             [
              1,
              "#f0f921"
             ]
            ],
            "type": "histogram2d"
           }
          ],
          "histogram2dcontour": [
           {
            "colorbar": {
             "outlinewidth": 0,
             "ticks": ""
            },
            "colorscale": [
             [
              0,
              "#0d0887"
             ],
             [
              0.1111111111111111,
              "#46039f"
             ],
             [
              0.2222222222222222,
              "#7201a8"
             ],
             [
              0.3333333333333333,
              "#9c179e"
             ],
             [
              0.4444444444444444,
              "#bd3786"
             ],
             [
              0.5555555555555556,
              "#d8576b"
             ],
             [
              0.6666666666666666,
              "#ed7953"
             ],
             [
              0.7777777777777778,
              "#fb9f3a"
             ],
             [
              0.8888888888888888,
              "#fdca26"
             ],
             [
              1,
              "#f0f921"
             ]
            ],
            "type": "histogram2dcontour"
           }
          ],
          "mesh3d": [
           {
            "colorbar": {
             "outlinewidth": 0,
             "ticks": ""
            },
            "type": "mesh3d"
           }
          ],
          "parcoords": [
           {
            "line": {
             "colorbar": {
              "outlinewidth": 0,
              "ticks": ""
             }
            },
            "type": "parcoords"
           }
          ],
          "pie": [
           {
            "automargin": true,
            "type": "pie"
           }
          ],
          "scatter": [
           {
            "fillpattern": {
             "fillmode": "overlay",
             "size": 10,
             "solidity": 0.2
            },
            "type": "scatter"
           }
          ],
          "scatter3d": [
           {
            "line": {
             "colorbar": {
              "outlinewidth": 0,
              "ticks": ""
             }
            },
            "marker": {
             "colorbar": {
              "outlinewidth": 0,
              "ticks": ""
             }
            },
            "type": "scatter3d"
           }
          ],
          "scattercarpet": [
           {
            "marker": {
             "colorbar": {
              "outlinewidth": 0,
              "ticks": ""
             }
            },
            "type": "scattercarpet"
           }
          ],
          "scattergeo": [
           {
            "marker": {
             "colorbar": {
              "outlinewidth": 0,
              "ticks": ""
             }
            },
            "type": "scattergeo"
           }
          ],
          "scattergl": [
           {
            "marker": {
             "colorbar": {
              "outlinewidth": 0,
              "ticks": ""
             }
            },
            "type": "scattergl"
           }
          ],
          "scattermapbox": [
           {
            "marker": {
             "colorbar": {
              "outlinewidth": 0,
              "ticks": ""
             }
            },
            "type": "scattermapbox"
           }
          ],
          "scatterpolar": [
           {
            "marker": {
             "colorbar": {
              "outlinewidth": 0,
              "ticks": ""
             }
            },
            "type": "scatterpolar"
           }
          ],
          "scatterpolargl": [
           {
            "marker": {
             "colorbar": {
              "outlinewidth": 0,
              "ticks": ""
             }
            },
            "type": "scatterpolargl"
           }
          ],
          "scatterternary": [
           {
            "marker": {
             "colorbar": {
              "outlinewidth": 0,
              "ticks": ""
             }
            },
            "type": "scatterternary"
           }
          ],
          "surface": [
           {
            "colorbar": {
             "outlinewidth": 0,
             "ticks": ""
            },
            "colorscale": [
             [
              0,
              "#0d0887"
             ],
             [
              0.1111111111111111,
              "#46039f"
             ],
             [
              0.2222222222222222,
              "#7201a8"
             ],
             [
              0.3333333333333333,
              "#9c179e"
             ],
             [
              0.4444444444444444,
              "#bd3786"
             ],
             [
              0.5555555555555556,
              "#d8576b"
             ],
             [
              0.6666666666666666,
              "#ed7953"
             ],
             [
              0.7777777777777778,
              "#fb9f3a"
             ],
             [
              0.8888888888888888,
              "#fdca26"
             ],
             [
              1,
              "#f0f921"
             ]
            ],
            "type": "surface"
           }
          ],
          "table": [
           {
            "cells": {
             "fill": {
              "color": "#EBF0F8"
             },
             "line": {
              "color": "white"
             }
            },
            "header": {
             "fill": {
              "color": "#C8D4E3"
             },
             "line": {
              "color": "white"
             }
            },
            "type": "table"
           }
          ]
         },
         "layout": {
          "annotationdefaults": {
           "arrowcolor": "#2a3f5f",
           "arrowhead": 0,
           "arrowwidth": 1
          },
          "autotypenumbers": "strict",
          "coloraxis": {
           "colorbar": {
            "outlinewidth": 0,
            "ticks": ""
           }
          },
          "colorscale": {
           "diverging": [
            [
             0,
             "#8e0152"
            ],
            [
             0.1,
             "#c51b7d"
            ],
            [
             0.2,
             "#de77ae"
            ],
            [
             0.3,
             "#f1b6da"
            ],
            [
             0.4,
             "#fde0ef"
            ],
            [
             0.5,
             "#f7f7f7"
            ],
            [
             0.6,
             "#e6f5d0"
            ],
            [
             0.7,
             "#b8e186"
            ],
            [
             0.8,
             "#7fbc41"
            ],
            [
             0.9,
             "#4d9221"
            ],
            [
             1,
             "#276419"
            ]
           ],
           "sequential": [
            [
             0,
             "#0d0887"
            ],
            [
             0.1111111111111111,
             "#46039f"
            ],
            [
             0.2222222222222222,
             "#7201a8"
            ],
            [
             0.3333333333333333,
             "#9c179e"
            ],
            [
             0.4444444444444444,
             "#bd3786"
            ],
            [
             0.5555555555555556,
             "#d8576b"
            ],
            [
             0.6666666666666666,
             "#ed7953"
            ],
            [
             0.7777777777777778,
             "#fb9f3a"
            ],
            [
             0.8888888888888888,
             "#fdca26"
            ],
            [
             1,
             "#f0f921"
            ]
           ],
           "sequentialminus": [
            [
             0,
             "#0d0887"
            ],
            [
             0.1111111111111111,
             "#46039f"
            ],
            [
             0.2222222222222222,
             "#7201a8"
            ],
            [
             0.3333333333333333,
             "#9c179e"
            ],
            [
             0.4444444444444444,
             "#bd3786"
            ],
            [
             0.5555555555555556,
             "#d8576b"
            ],
            [
             0.6666666666666666,
             "#ed7953"
            ],
            [
             0.7777777777777778,
             "#fb9f3a"
            ],
            [
             0.8888888888888888,
             "#fdca26"
            ],
            [
             1,
             "#f0f921"
            ]
           ]
          },
          "colorway": [
           "#636efa",
           "#EF553B",
           "#00cc96",
           "#ab63fa",
           "#FFA15A",
           "#19d3f3",
           "#FF6692",
           "#B6E880",
           "#FF97FF",
           "#FECB52"
          ],
          "font": {
           "color": "#2a3f5f"
          },
          "geo": {
           "bgcolor": "white",
           "lakecolor": "white",
           "landcolor": "#E5ECF6",
           "showlakes": true,
           "showland": true,
           "subunitcolor": "white"
          },
          "hoverlabel": {
           "align": "left"
          },
          "hovermode": "closest",
          "mapbox": {
           "style": "light"
          },
          "paper_bgcolor": "white",
          "plot_bgcolor": "#E5ECF6",
          "polar": {
           "angularaxis": {
            "gridcolor": "white",
            "linecolor": "white",
            "ticks": ""
           },
           "bgcolor": "#E5ECF6",
           "radialaxis": {
            "gridcolor": "white",
            "linecolor": "white",
            "ticks": ""
           }
          },
          "scene": {
           "xaxis": {
            "backgroundcolor": "#E5ECF6",
            "gridcolor": "white",
            "gridwidth": 2,
            "linecolor": "white",
            "showbackground": true,
            "ticks": "",
            "zerolinecolor": "white"
           },
           "yaxis": {
            "backgroundcolor": "#E5ECF6",
            "gridcolor": "white",
            "gridwidth": 2,
            "linecolor": "white",
            "showbackground": true,
            "ticks": "",
            "zerolinecolor": "white"
           },
           "zaxis": {
            "backgroundcolor": "#E5ECF6",
            "gridcolor": "white",
            "gridwidth": 2,
            "linecolor": "white",
            "showbackground": true,
            "ticks": "",
            "zerolinecolor": "white"
           }
          },
          "shapedefaults": {
           "line": {
            "color": "#2a3f5f"
           }
          },
          "ternary": {
           "aaxis": {
            "gridcolor": "white",
            "linecolor": "white",
            "ticks": ""
           },
           "baxis": {
            "gridcolor": "white",
            "linecolor": "white",
            "ticks": ""
           },
           "bgcolor": "#E5ECF6",
           "caxis": {
            "gridcolor": "white",
            "linecolor": "white",
            "ticks": ""
           }
          },
          "title": {
           "x": 0.05
          },
          "xaxis": {
           "automargin": true,
           "gridcolor": "white",
           "linecolor": "white",
           "ticks": "",
           "title": {
            "standoff": 15
           },
           "zerolinecolor": "white",
           "zerolinewidth": 2
          },
          "yaxis": {
           "automargin": true,
           "gridcolor": "white",
           "linecolor": "white",
           "ticks": "",
           "title": {
            "standoff": 15
           },
           "zerolinecolor": "white",
           "zerolinewidth": 2
          }
         }
        },
        "width": 900,
        "xaxis": {
         "gridcolor": "#1f292f",
         "nticks": 5,
         "rangeslider": {
          "visible": false
         }
        },
        "yaxis": {
         "gridcolor": "#1f292f"
        }
       }
      }
     },
     "metadata": {},
     "output_type": "display_data"
    },
    {
     "name": "stdout",
     "output_type": "stream",
     "text": [
      "EUR_GBP 85\n"
     ]
    },
    {
     "data": {
      "application/vnd.plotly.v1+json": {
       "config": {
        "plotlyServerURL": "https://plot.ly"
       },
       "data": [
        {
         "line": {
          "shape": "spline",
          "width": 2
         },
         "name": "GAIN_C",
         "type": "scatter",
         "x": [
          "s21-05-12 23:00",
          "s21-05-13 23:00",
          "s21-05-14 07:00",
          "s21-05-17 08:00",
          "s21-05-17 10:00",
          "s21-05-17 15:00",
          "s21-05-17 16:00",
          "s21-05-17 17:00",
          "s21-05-18 12:00",
          "s21-05-20 17:00",
          "s21-05-21 06:00",
          "s21-05-21 10:00",
          "s21-05-24 00:00",
          "s21-05-25 01:00",
          "s21-05-25 09:00",
          "s21-05-26 04:00",
          "s21-05-27 07:00",
          "s21-05-27 11:00",
          "s21-05-28 13:00",
          "s21-06-01 01:00",
          "s21-06-01 11:00",
          "s21-06-02 04:00",
          "s21-06-03 02:00",
          "s21-06-03 07:00",
          "s21-06-04 02:00",
          "s21-06-04 04:00",
          "s21-06-06 21:00",
          "s21-06-07 16:00",
          "s21-06-07 22:00",
          "s21-06-08 22:00",
          "s21-06-09 12:00",
          "s21-06-10 06:00",
          "s21-06-11 08:00",
          "s21-06-11 12:00",
          "s21-06-14 05:00",
          "s21-06-14 06:00",
          "s21-06-14 07:00",
          "s21-06-15 01:00",
          "s21-06-15 04:00",
          "s21-06-16 02:00",
          "s21-06-18 07:00",
          "s21-06-21 09:00",
          "s21-06-22 07:00",
          "s21-06-22 19:00",
          "s21-06-24 10:00",
          "s21-06-25 04:00",
          "s21-06-25 07:00",
          "s21-06-28 04:00",
          "s21-06-28 19:00",
          "s21-06-30 00:00",
          "s21-07-01 09:00",
          "s21-07-02 05:00",
          "s21-07-06 18:00",
          "s21-07-07 10:00",
          "s21-07-08 06:00",
          "s21-07-09 02:00",
          "s21-07-12 11:00",
          "s21-07-12 19:00",
          "s21-07-13 09:00",
          "s21-07-13 17:00",
          "s21-07-14 18:00",
          "s21-07-15 13:00",
          "s21-07-16 00:00",
          "s21-07-16 09:00",
          "s21-07-16 13:00",
          "s21-07-21 01:00",
          "s21-07-23 08:00",
          "s21-07-23 19:00",
          "s21-07-26 03:00",
          "s21-07-26 12:00",
          "s21-07-27 10:00",
          "s21-07-27 17:00",
          "s21-07-28 23:00",
          "s21-07-29 09:00",
          "s21-07-29 21:00",
          "s21-08-03 04:00",
          "s21-08-04 20:00",
          "s21-08-05 07:00",
          "s21-08-09 07:00",
          "s21-08-09 12:00",
          "s21-08-09 20:00",
          "s21-08-10 01:00",
          "s21-08-10 04:00",
          "s21-08-10 05:00",
          "s21-08-10 22:00",
          "s21-08-11 16:00",
          "s21-08-12 09:00",
          "s21-08-16 01:00",
          "s21-08-16 05:00",
          "s21-08-16 11:00",
          "s21-08-16 21:00",
          "s21-08-17 23:00",
          "s21-08-19 05:00",
          "s21-08-23 09:00",
          "s21-08-24 15:00",
          "s21-08-25 04:00",
          "s21-08-25 14:00",
          "s21-08-25 22:00",
          "s21-08-26 10:00",
          "s21-08-27 12:00",
          "s21-08-30 02:00",
          "s21-08-31 00:00",
          "s21-08-31 06:00",
          "s21-09-01 12:00",
          "s21-09-01 16:00",
          "s21-09-02 08:00",
          "s21-09-03 05:00",
          "s21-09-03 14:00",
          "s21-09-06 07:00",
          "s21-09-07 22:00",
          "s21-09-08 07:00",
          "s21-09-08 12:00",
          "s21-09-09 07:00",
          "s21-09-09 08:00",
          "s21-09-12 22:00",
          "s21-09-13 07:00",
          "s21-09-13 21:00",
          "s21-09-14 08:00",
          "s21-09-14 19:00",
          "s21-09-15 12:00",
          "s21-09-16 21:00",
          "s21-09-17 07:00",
          "s21-09-17 09:00",
          "s21-09-19 21:00",
          "s21-09-19 22:00",
          "s21-09-21 07:00",
          "s21-09-21 17:00",
          "s21-09-22 05:00",
          "s21-09-22 07:00",
          "s21-09-22 21:00",
          "s21-09-24 03:00",
          "s21-09-27 08:00",
          "s21-09-28 09:00",
          "s21-09-29 07:00",
          "s21-09-29 12:00",
          "s21-09-30 01:00",
          "s21-10-01 06:00",
          "s21-10-01 11:00",
          "s21-10-04 05:00",
          "s21-10-04 12:00",
          "s21-10-06 04:00",
          "s21-10-06 14:00",
          "s21-10-07 09:00",
          "s21-10-07 13:00",
          "s21-10-08 06:00",
          "s21-10-08 18:00",
          "s21-10-08 20:00",
          "s21-10-11 05:00",
          "s21-10-11 16:00",
          "s21-10-12 11:00",
          "s21-10-13 04:00",
          "s21-10-13 08:00",
          "s21-10-13 18:00",
          "s21-10-14 04:00",
          "s21-10-14 22:00",
          "s21-10-15 09:00",
          "s21-10-18 08:00",
          "s21-10-19 09:00",
          "s21-10-20 06:00",
          "s21-10-20 20:00",
          "s21-10-21 07:00",
          "s21-10-21 15:00",
          "s21-10-22 07:00",
          "s21-10-25 08:00",
          "s21-10-26 23:00",
          "s21-10-28 00:00",
          "s21-10-28 16:00",
          "s21-10-29 07:00",
          "s21-11-01 03:00",
          "s21-11-03 03:00",
          "s21-11-04 05:00",
          "s21-11-04 09:00",
          "s21-11-04 13:00",
          "s21-11-05 20:00",
          "s21-11-08 02:00",
          "s21-11-08 13:00",
          "s21-11-09 08:00",
          "s21-11-09 09:00",
          "s21-11-09 19:00",
          "s21-11-10 06:00",
          "s21-11-10 16:00",
          "s21-11-11 11:00",
          "s21-11-11 17:00",
          "s21-11-12 08:00",
          "s21-11-15 11:00",
          "s21-11-15 12:00",
          "s21-11-18 08:00",
          "s21-11-19 07:00",
          "s21-11-22 16:00",
          "s21-11-23 02:00",
          "s21-11-23 08:00",
          "s21-11-24 01:00",
          "s21-11-24 21:00",
          "s21-11-26 00:00",
          "s21-11-26 02:00",
          "s21-11-29 04:00",
          "s21-11-29 17:00",
          "s21-12-01 06:00",
          "s21-12-01 20:00",
          "s21-12-02 09:00",
          "s21-12-03 09:00",
          "s21-12-06 07:00",
          "s21-12-07 21:00",
          "s21-12-09 10:00",
          "s21-12-10 12:00",
          "s21-12-10 14:00",
          "s21-12-10 15:00",
          "s21-12-10 16:00",
          "s21-12-13 20:00",
          "s21-12-14 12:00",
          "s21-12-15 18:00",
          "s21-12-16 11:00",
          "s21-12-17 02:00",
          "s21-12-17 20:00",
          "s21-12-20 07:00",
          "s21-12-21 08:00",
          "s21-12-23 04:00",
          "s21-12-23 09:00",
          "s21-12-24 01:00",
          "s21-12-24 16:00",
          "s21-12-27 06:00",
          "s21-12-27 09:00",
          "s21-12-29 23:00",
          "s21-12-30 00:00"
         ],
         "y": [
          9.400000000000519,
          -7.599999999999829,
          -10.600000000000609,
          -30.400000000000425,
          -57.80000000000007,
          -50.99999999999993,
          -51.59999999999942,
          -59.49999999999899,
          -48.59999999999864,
          -55.799999999998064,
          -83.19999999999771,
          -100.79999999999755,
          -85.39999999999769,
          -99.19999999999817,
          -89.19999999999816,
          -79.39999999999834,
          -116.59999999999891,
          -105.79999999999922,
          -111.39999999999927,
          -147.69999999999948,
          -137.80000000000013,
          -116.40000000000093,
          -119.40000000000171,
          -102.30000000000182,
          -101.70000000000121,
          -99.30000000000103,
          -91.40000000000146,
          -89.90000000000163,
          -85.8000000000014,
          -111.20000000000127,
          -116.50000000000158,
          -87.90000000000184,
          -104.40000000000224,
          -104.80000000000264,
          -102.90000000000241,
          -116.30000000000248,
          -116.00000000000274,
          -114.00000000000296,
          -97.2000000000028,
          -67.60000000000207,
          -68.80000000000216,
          -62.900000000002365,
          -74.200000000002,
          -64.20000000000199,
          -41.0000000000021,
          -56.80000000000236,
          -63.10000000000256,
          -74.8000000000026,
          -79.100000000003,
          -92.70000000000329,
          -95.20000000000302,
          -61.70000000000338,
          -78.90000000000393,
          -92.9000000000035,
          -63.400000000003416,
          -20.200000000003513,
          -28.700000000003687,
          -34.10000000000465,
          -55.8000000000047,
          -70.00000000000446,
          -79.50000000000452,
          -88.30000000000445,
          -79.80000000000427,
          -81.80000000000405,
          12.399999999995785,
          81.8999999999959,
          68.49999999999582,
          62.499999999995374,
          46.599999999995575,
          51.19999999999573,
          24.599999999995777,
          26.599999999995557,
          19.799999999995418,
          14.699999999995313,
          47.69999999999501,
          74.39999999999561,
          61.09999999999619,
          91.19999999999577,
          82.79999999999514,
          78.79999999999447,
          81.39999999999374,
          80.59999999999405,
          78.69999999999493,
          84.69999999999538,
          78.79999999999559,
          74.59999999999583,
          115.79999999999595,
          113.69999999999551,
          88.99999999999469,
          67.79999999999458,
          80.99999999999446,
          90.79999999999427,
          156.1999999999942,
          168.99999999999366,
          162.89999999999367,
          162.79999999999413,
          157.3999999999943,
          139.899999999994,
          134.89999999999344,
          126.69999999999301,
          127.79999999999245,
          126.4999999999917,
          135.99999999999176,
          126.59999999999235,
          123.39999999999247,
          130.1999999999926,
          110.19999999999258,
          104.09999999999259,
          124.19999999999327,
          121.1999999999936,
          113.89999999999351,
          126.39999999999324,
          119.89999999999284,
          150.39999999999281,
          143.5999999999927,
          138.99999999999253,
          128.19999999999283,
          103.19999999999337,
          98.19999999999392,
          111.9999999999944,
          117.59999999999445,
          107.79999999999464,
          99.29999999999558,
          94.29999999999613,
          121.39999999999603,
          106.39999999999546,
          107.99999999999484,
          93.39999999999468,
          76.09999999999458,
          104.69999999999432,
          80.59999999999408,
          52.59999999999384,
          120.19999999999372,
          96.79999999999363,
          78.39999999999299,
          98.1999999999928,
          51.79999999999303,
          51.19999999999243,
          34.99999999999177,
          70.39999999999165,
          62.49999999999208,
          63.399999999992424,
          49.4999999999924,
          48.59999999999205,
          55.19999999999199,
          54.1999999999921,
          29.599999999991926,
          9.599999999991908,
          -4.60000000000786,
          -6.20000000000724,
          -9.00000000000671,
          -23.90000000000662,
          -37.3000000000067,
          -37.00000000000695,
          -66.00000000000708,
          -54.700000000007435,
          -52.00000000000751,
          -53.000000000007404,
          -70.20000000000795,
          -68.50000000000792,
          -65.20000000000739,
          -85.90000000000755,
          -76.0000000000082,
          -40.30000000000858,
          -20.000000000008818,
          -43.000000000008505,
          -47.40000000000846,
          -27.800000000008843,
          25.59999999999127,
          36.79999999999137,
          27.999999999991452,
          -34.600000000008976,
          -2.600000000009171,
          -5.800000000009041,
          -37.700000000009304,
          -38.20000000000925,
          -56.80000000000898,
          -80.70000000000901,
          -89.80000000000868,
          -101.60000000000827,
          -92.20000000000886,
          -96.20000000000952,
          -116.80000000001014,
          -92.20000000001107,
          -95.20000000001185,
          24.39999999998784,
          35.39999999998774,
          47.19999999998733,
          41.19999999998688,
          10.399999999987163,
          -10.800000000012943,
          -14.500000000013868,
          10.599999999986254,
          2.3999999999869353,
          22.99999999998755,
          9.199999999988183,
          40.199999999988094,
          14.999999999987317,
          -11.60000000001375,
          -14.00000000001393,
          3.899999999986761,
          15.399999999986605,
          84.49999999998631,
          124.69999999998655,
          130.49999999998678,
          130.8999999999872,
          117.19999999998737,
          104.49999999998744,
          95.59999999998797,
          112.69999999998898,
          103.59999999998931,
          113.29999999998957,
          105.39999999998999,
          77.79999999999015,
          95.19999999998979,
          135.79999999998932,
          87.19999999998957,
          86.69999999998963,
          82.69999999998896,
          79.39999999998844,
          71.19999999998801,
          92.29999999998746,
          85.59999999998686,
          85.59999999998686
         ]
        }
       ],
       "layout": {
        "font": {
         "color": "#e1e1e1",
         "size": 8
        },
        "height": 400,
        "margin": {
         "b": 10,
         "l": 10,
         "r": 10,
         "t": 10
        },
        "paper_bgcolor": "#2c303c",
        "plot_bgcolor": "#2c303c",
        "template": {
         "data": {
          "bar": [
           {
            "error_x": {
             "color": "#2a3f5f"
            },
            "error_y": {
             "color": "#2a3f5f"
            },
            "marker": {
             "line": {
              "color": "#E5ECF6",
              "width": 0.5
             },
             "pattern": {
              "fillmode": "overlay",
              "size": 10,
              "solidity": 0.2
             }
            },
            "type": "bar"
           }
          ],
          "barpolar": [
           {
            "marker": {
             "line": {
              "color": "#E5ECF6",
              "width": 0.5
             },
             "pattern": {
              "fillmode": "overlay",
              "size": 10,
              "solidity": 0.2
             }
            },
            "type": "barpolar"
           }
          ],
          "carpet": [
           {
            "aaxis": {
             "endlinecolor": "#2a3f5f",
             "gridcolor": "white",
             "linecolor": "white",
             "minorgridcolor": "white",
             "startlinecolor": "#2a3f5f"
            },
            "baxis": {
             "endlinecolor": "#2a3f5f",
             "gridcolor": "white",
             "linecolor": "white",
             "minorgridcolor": "white",
             "startlinecolor": "#2a3f5f"
            },
            "type": "carpet"
           }
          ],
          "choropleth": [
           {
            "colorbar": {
             "outlinewidth": 0,
             "ticks": ""
            },
            "type": "choropleth"
           }
          ],
          "contour": [
           {
            "colorbar": {
             "outlinewidth": 0,
             "ticks": ""
            },
            "colorscale": [
             [
              0,
              "#0d0887"
             ],
             [
              0.1111111111111111,
              "#46039f"
             ],
             [
              0.2222222222222222,
              "#7201a8"
             ],
             [
              0.3333333333333333,
              "#9c179e"
             ],
             [
              0.4444444444444444,
              "#bd3786"
             ],
             [
              0.5555555555555556,
              "#d8576b"
             ],
             [
              0.6666666666666666,
              "#ed7953"
             ],
             [
              0.7777777777777778,
              "#fb9f3a"
             ],
             [
              0.8888888888888888,
              "#fdca26"
             ],
             [
              1,
              "#f0f921"
             ]
            ],
            "type": "contour"
           }
          ],
          "contourcarpet": [
           {
            "colorbar": {
             "outlinewidth": 0,
             "ticks": ""
            },
            "type": "contourcarpet"
           }
          ],
          "heatmap": [
           {
            "colorbar": {
             "outlinewidth": 0,
             "ticks": ""
            },
            "colorscale": [
             [
              0,
              "#0d0887"
             ],
             [
              0.1111111111111111,
              "#46039f"
             ],
             [
              0.2222222222222222,
              "#7201a8"
             ],
             [
              0.3333333333333333,
              "#9c179e"
             ],
             [
              0.4444444444444444,
              "#bd3786"
             ],
             [
              0.5555555555555556,
              "#d8576b"
             ],
             [
              0.6666666666666666,
              "#ed7953"
             ],
             [
              0.7777777777777778,
              "#fb9f3a"
             ],
             [
              0.8888888888888888,
              "#fdca26"
             ],
             [
              1,
              "#f0f921"
             ]
            ],
            "type": "heatmap"
           }
          ],
          "heatmapgl": [
           {
            "colorbar": {
             "outlinewidth": 0,
             "ticks": ""
            },
            "colorscale": [
             [
              0,
              "#0d0887"
             ],
             [
              0.1111111111111111,
              "#46039f"
             ],
             [
              0.2222222222222222,
              "#7201a8"
             ],
             [
              0.3333333333333333,
              "#9c179e"
             ],
             [
              0.4444444444444444,
              "#bd3786"
             ],
             [
              0.5555555555555556,
              "#d8576b"
             ],
             [
              0.6666666666666666,
              "#ed7953"
             ],
             [
              0.7777777777777778,
              "#fb9f3a"
             ],
             [
              0.8888888888888888,
              "#fdca26"
             ],
             [
              1,
              "#f0f921"
             ]
            ],
            "type": "heatmapgl"
           }
          ],
          "histogram": [
           {
            "marker": {
             "pattern": {
              "fillmode": "overlay",
              "size": 10,
              "solidity": 0.2
             }
            },
            "type": "histogram"
           }
          ],
          "histogram2d": [
           {
            "colorbar": {
             "outlinewidth": 0,
             "ticks": ""
            },
            "colorscale": [
             [
              0,
              "#0d0887"
             ],
             [
              0.1111111111111111,
              "#46039f"
             ],
             [
              0.2222222222222222,
              "#7201a8"
             ],
             [
              0.3333333333333333,
              "#9c179e"
             ],
             [
              0.4444444444444444,
              "#bd3786"
             ],
             [
              0.5555555555555556,
              "#d8576b"
             ],
             [
              0.6666666666666666,
              "#ed7953"
             ],
             [
              0.7777777777777778,
              "#fb9f3a"
             ],
             [
              0.8888888888888888,
              "#fdca26"
             ],
             [
              1,
              "#f0f921"
             ]
            ],
            "type": "histogram2d"
           }
          ],
          "histogram2dcontour": [
           {
            "colorbar": {
             "outlinewidth": 0,
             "ticks": ""
            },
            "colorscale": [
             [
              0,
              "#0d0887"
             ],
             [
              0.1111111111111111,
              "#46039f"
             ],
             [
              0.2222222222222222,
              "#7201a8"
             ],
             [
              0.3333333333333333,
              "#9c179e"
             ],
             [
              0.4444444444444444,
              "#bd3786"
             ],
             [
              0.5555555555555556,
              "#d8576b"
             ],
             [
              0.6666666666666666,
              "#ed7953"
             ],
             [
              0.7777777777777778,
              "#fb9f3a"
             ],
             [
              0.8888888888888888,
              "#fdca26"
             ],
             [
              1,
              "#f0f921"
             ]
            ],
            "type": "histogram2dcontour"
           }
          ],
          "mesh3d": [
           {
            "colorbar": {
             "outlinewidth": 0,
             "ticks": ""
            },
            "type": "mesh3d"
           }
          ],
          "parcoords": [
           {
            "line": {
             "colorbar": {
              "outlinewidth": 0,
              "ticks": ""
             }
            },
            "type": "parcoords"
           }
          ],
          "pie": [
           {
            "automargin": true,
            "type": "pie"
           }
          ],
          "scatter": [
           {
            "fillpattern": {
             "fillmode": "overlay",
             "size": 10,
             "solidity": 0.2
            },
            "type": "scatter"
           }
          ],
          "scatter3d": [
           {
            "line": {
             "colorbar": {
              "outlinewidth": 0,
              "ticks": ""
             }
            },
            "marker": {
             "colorbar": {
              "outlinewidth": 0,
              "ticks": ""
             }
            },
            "type": "scatter3d"
           }
          ],
          "scattercarpet": [
           {
            "marker": {
             "colorbar": {
              "outlinewidth": 0,
              "ticks": ""
             }
            },
            "type": "scattercarpet"
           }
          ],
          "scattergeo": [
           {
            "marker": {
             "colorbar": {
              "outlinewidth": 0,
              "ticks": ""
             }
            },
            "type": "scattergeo"
           }
          ],
          "scattergl": [
           {
            "marker": {
             "colorbar": {
              "outlinewidth": 0,
              "ticks": ""
             }
            },
            "type": "scattergl"
           }
          ],
          "scattermapbox": [
           {
            "marker": {
             "colorbar": {
              "outlinewidth": 0,
              "ticks": ""
             }
            },
            "type": "scattermapbox"
           }
          ],
          "scatterpolar": [
           {
            "marker": {
             "colorbar": {
              "outlinewidth": 0,
              "ticks": ""
             }
            },
            "type": "scatterpolar"
           }
          ],
          "scatterpolargl": [
           {
            "marker": {
             "colorbar": {
              "outlinewidth": 0,
              "ticks": ""
             }
            },
            "type": "scatterpolargl"
           }
          ],
          "scatterternary": [
           {
            "marker": {
             "colorbar": {
              "outlinewidth": 0,
              "ticks": ""
             }
            },
            "type": "scatterternary"
           }
          ],
          "surface": [
           {
            "colorbar": {
             "outlinewidth": 0,
             "ticks": ""
            },
            "colorscale": [
             [
              0,
              "#0d0887"
             ],
             [
              0.1111111111111111,
              "#46039f"
             ],
             [
              0.2222222222222222,
              "#7201a8"
             ],
             [
              0.3333333333333333,
              "#9c179e"
             ],
             [
              0.4444444444444444,
              "#bd3786"
             ],
             [
              0.5555555555555556,
              "#d8576b"
             ],
             [
              0.6666666666666666,
              "#ed7953"
             ],
             [
              0.7777777777777778,
              "#fb9f3a"
             ],
             [
              0.8888888888888888,
              "#fdca26"
             ],
             [
              1,
              "#f0f921"
             ]
            ],
            "type": "surface"
           }
          ],
          "table": [
           {
            "cells": {
             "fill": {
              "color": "#EBF0F8"
             },
             "line": {
              "color": "white"
             }
            },
            "header": {
             "fill": {
              "color": "#C8D4E3"
             },
             "line": {
              "color": "white"
             }
            },
            "type": "table"
           }
          ]
         },
         "layout": {
          "annotationdefaults": {
           "arrowcolor": "#2a3f5f",
           "arrowhead": 0,
           "arrowwidth": 1
          },
          "autotypenumbers": "strict",
          "coloraxis": {
           "colorbar": {
            "outlinewidth": 0,
            "ticks": ""
           }
          },
          "colorscale": {
           "diverging": [
            [
             0,
             "#8e0152"
            ],
            [
             0.1,
             "#c51b7d"
            ],
            [
             0.2,
             "#de77ae"
            ],
            [
             0.3,
             "#f1b6da"
            ],
            [
             0.4,
             "#fde0ef"
            ],
            [
             0.5,
             "#f7f7f7"
            ],
            [
             0.6,
             "#e6f5d0"
            ],
            [
             0.7,
             "#b8e186"
            ],
            [
             0.8,
             "#7fbc41"
            ],
            [
             0.9,
             "#4d9221"
            ],
            [
             1,
             "#276419"
            ]
           ],
           "sequential": [
            [
             0,
             "#0d0887"
            ],
            [
             0.1111111111111111,
             "#46039f"
            ],
            [
             0.2222222222222222,
             "#7201a8"
            ],
            [
             0.3333333333333333,
             "#9c179e"
            ],
            [
             0.4444444444444444,
             "#bd3786"
            ],
            [
             0.5555555555555556,
             "#d8576b"
            ],
            [
             0.6666666666666666,
             "#ed7953"
            ],
            [
             0.7777777777777778,
             "#fb9f3a"
            ],
            [
             0.8888888888888888,
             "#fdca26"
            ],
            [
             1,
             "#f0f921"
            ]
           ],
           "sequentialminus": [
            [
             0,
             "#0d0887"
            ],
            [
             0.1111111111111111,
             "#46039f"
            ],
            [
             0.2222222222222222,
             "#7201a8"
            ],
            [
             0.3333333333333333,
             "#9c179e"
            ],
            [
             0.4444444444444444,
             "#bd3786"
            ],
            [
             0.5555555555555556,
             "#d8576b"
            ],
            [
             0.6666666666666666,
             "#ed7953"
            ],
            [
             0.7777777777777778,
             "#fb9f3a"
            ],
            [
             0.8888888888888888,
             "#fdca26"
            ],
            [
             1,
             "#f0f921"
            ]
           ]
          },
          "colorway": [
           "#636efa",
           "#EF553B",
           "#00cc96",
           "#ab63fa",
           "#FFA15A",
           "#19d3f3",
           "#FF6692",
           "#B6E880",
           "#FF97FF",
           "#FECB52"
          ],
          "font": {
           "color": "#2a3f5f"
          },
          "geo": {
           "bgcolor": "white",
           "lakecolor": "white",
           "landcolor": "#E5ECF6",
           "showlakes": true,
           "showland": true,
           "subunitcolor": "white"
          },
          "hoverlabel": {
           "align": "left"
          },
          "hovermode": "closest",
          "mapbox": {
           "style": "light"
          },
          "paper_bgcolor": "white",
          "plot_bgcolor": "#E5ECF6",
          "polar": {
           "angularaxis": {
            "gridcolor": "white",
            "linecolor": "white",
            "ticks": ""
           },
           "bgcolor": "#E5ECF6",
           "radialaxis": {
            "gridcolor": "white",
            "linecolor": "white",
            "ticks": ""
           }
          },
          "scene": {
           "xaxis": {
            "backgroundcolor": "#E5ECF6",
            "gridcolor": "white",
            "gridwidth": 2,
            "linecolor": "white",
            "showbackground": true,
            "ticks": "",
            "zerolinecolor": "white"
           },
           "yaxis": {
            "backgroundcolor": "#E5ECF6",
            "gridcolor": "white",
            "gridwidth": 2,
            "linecolor": "white",
            "showbackground": true,
            "ticks": "",
            "zerolinecolor": "white"
           },
           "zaxis": {
            "backgroundcolor": "#E5ECF6",
            "gridcolor": "white",
            "gridwidth": 2,
            "linecolor": "white",
            "showbackground": true,
            "ticks": "",
            "zerolinecolor": "white"
           }
          },
          "shapedefaults": {
           "line": {
            "color": "#2a3f5f"
           }
          },
          "ternary": {
           "aaxis": {
            "gridcolor": "white",
            "linecolor": "white",
            "ticks": ""
           },
           "baxis": {
            "gridcolor": "white",
            "linecolor": "white",
            "ticks": ""
           },
           "bgcolor": "#E5ECF6",
           "caxis": {
            "gridcolor": "white",
            "linecolor": "white",
            "ticks": ""
           }
          },
          "title": {
           "x": 0.05
          },
          "xaxis": {
           "automargin": true,
           "gridcolor": "white",
           "linecolor": "white",
           "ticks": "",
           "title": {
            "standoff": 15
           },
           "zerolinecolor": "white",
           "zerolinewidth": 2
          },
          "yaxis": {
           "automargin": true,
           "gridcolor": "white",
           "linecolor": "white",
           "ticks": "",
           "title": {
            "standoff": 15
           },
           "zerolinecolor": "white",
           "zerolinewidth": 2
          }
         }
        },
        "width": 900,
        "xaxis": {
         "gridcolor": "#1f292f",
         "nticks": 5,
         "rangeslider": {
          "visible": false
         }
        },
        "yaxis": {
         "gridcolor": "#1f292f"
        }
       }
      }
     },
     "metadata": {},
     "output_type": "display_data"
    },
    {
     "name": "stdout",
     "output_type": "stream",
     "text": [
      "GBP_USD 33\n"
     ]
    },
    {
     "data": {
      "application/vnd.plotly.v1+json": {
       "config": {
        "plotlyServerURL": "https://plot.ly"
       },
       "data": [
        {
         "line": {
          "shape": "spline",
          "width": 2
         },
         "name": "GAIN_C",
         "type": "scatter",
         "x": [
          "s21-05-12 14:00",
          "s21-05-12 15:00",
          "s21-05-13 22:00",
          "s21-05-17 05:00",
          "s21-05-17 12:00",
          "s21-05-18 23:00",
          "s21-05-20 12:00",
          "s21-05-21 17:00",
          "s21-05-24 14:00",
          "s21-05-24 15:00",
          "s21-05-24 19:00",
          "s21-05-25 15:00",
          "s21-05-26 04:00",
          "s21-05-26 14:00",
          "s21-05-27 11:00",
          "s21-05-28 08:00",
          "s21-05-30 22:00",
          "s21-05-31 09:00",
          "s21-05-31 17:00",
          "s21-06-01 11:00",
          "s21-06-02 17:00",
          "s21-06-03 06:00",
          "s21-06-04 08:00",
          "s21-06-07 04:00",
          "s21-06-07 15:00",
          "s21-06-08 05:00",
          "s21-06-08 22:00",
          "s21-06-09 16:00",
          "s21-06-10 14:00",
          "s21-06-11 10:00",
          "s21-06-14 18:00",
          "s21-06-15 07:00",
          "s21-06-16 02:00",
          "s21-06-16 19:00",
          "s21-06-21 08:00",
          "s21-06-22 07:00",
          "s21-06-22 18:00",
          "s21-06-23 23:00",
          "s21-06-25 05:00",
          "s21-06-25 10:00",
          "s21-06-28 08:00",
          "s21-06-28 18:00",
          "s21-06-30 01:00",
          "s21-06-30 13:00",
          "s21-07-02 16:00",
          "s21-07-06 14:00",
          "s21-07-07 09:00",
          "s21-07-07 20:00",
          "s21-07-08 22:00",
          "s21-07-09 08:00",
          "s21-07-09 09:00",
          "s21-07-09 10:00",
          "s21-07-09 11:00",
          "s21-07-12 10:00",
          "s21-07-12 21:00",
          "s21-07-13 09:00",
          "s21-07-14 09:00",
          "s21-07-15 00:00",
          "s21-07-15 13:00",
          "s21-07-15 20:00",
          "s21-07-16 09:00",
          "s21-07-16 13:00",
          "s21-07-21 01:00",
          "s21-07-21 08:00",
          "s21-07-21 14:00",
          "s21-07-23 06:00",
          "s21-07-23 20:00",
          "s21-07-26 06:00",
          "s21-07-26 09:00",
          "s21-07-27 08:00",
          "s21-07-27 17:00",
          "s21-07-28 09:00",
          "s21-07-28 19:00",
          "s21-07-30 02:00",
          "s21-08-02 09:00",
          "s21-08-02 17:00",
          "s21-08-03 07:00",
          "s21-08-03 22:00",
          "s21-08-03 23:00",
          "s21-08-04 17:00",
          "s21-08-05 09:00",
          "s21-08-06 05:00",
          "s21-08-09 11:00",
          "s21-08-09 16:00",
          "s21-08-10 09:00",
          "s21-08-10 18:00",
          "s21-08-11 15:00",
          "s21-08-12 09:00",
          "s21-08-13 12:00",
          "s21-08-16 07:00",
          "s21-08-18 07:00",
          "s21-08-18 23:00",
          "s21-08-22 22:00",
          "s21-08-24 09:00",
          "s21-08-24 19:00",
          "s21-08-25 06:00",
          "s21-08-25 16:00",
          "s21-08-26 09:00",
          "s21-08-27 10:00",
          "s21-08-30 10:00",
          "s21-08-31 00:00",
          "s21-08-31 16:00",
          "s21-09-01 12:00",
          "s21-09-02 03:00",
          "s21-09-02 09:00",
          "s21-09-03 10:00",
          "s21-09-03 14:00",
          "s21-09-06 05:00",
          "s21-09-07 01:00",
          "s21-09-07 10:00",
          "s21-09-08 22:00",
          "s21-09-09 05:00",
          "s21-09-09 08:00",
          "s21-09-10 20:00",
          "s21-09-13 16:00",
          "s21-09-14 19:00",
          "s21-09-15 11:00",
          "s21-09-16 07:00",
          "s21-09-17 05:00",
          "s21-09-17 14:00",
          "s21-09-21 04:00",
          "s21-09-21 18:00",
          "s21-09-23 07:00",
          "s21-09-24 04:00",
          "s21-09-27 07:00",
          "s21-09-28 02:00",
          "s21-09-29 07:00",
          "s21-09-29 09:00",
          "s21-09-30 06:00",
          "s21-10-01 05:00",
          "s21-10-01 11:00",
          "s21-10-04 05:00",
          "s21-10-04 11:00",
          "s21-10-05 04:00",
          "s21-10-05 11:00",
          "s21-10-06 03:00",
          "s21-10-06 23:00",
          "s21-10-08 05:00",
          "s21-10-08 14:00",
          "s21-10-11 16:00",
          "s21-10-12 10:00",
          "s21-10-12 20:00",
          "s21-10-13 06:00",
          "s21-10-14 21:00",
          "s21-10-15 08:00",
          "s21-10-18 03:00",
          "s21-10-19 00:00",
          "s21-10-19 23:00",
          "s21-10-20 18:00",
          "s21-10-21 08:00",
          "s21-10-22 09:00",
          "s21-10-22 13:00",
          "s21-10-25 05:00",
          "s21-10-25 14:00",
          "s21-10-26 02:00",
          "s21-10-26 05:00",
          "s21-10-26 06:00",
          "s21-10-26 21:00",
          "s21-10-28 00:00",
          "s21-10-29 08:00",
          "s21-11-01 20:00",
          "s21-11-01 22:00",
          "s21-11-03 07:00",
          "s21-11-04 08:00",
          "s21-11-07 22:00",
          "s21-11-08 09:00",
          "s21-11-08 12:00",
          "s21-11-09 19:00",
          "s21-11-12 10:00",
          "s21-11-15 22:00",
          "s21-11-16 08:00",
          "s21-11-16 19:00",
          "s21-11-17 09:00",
          "s21-11-18 13:00",
          "s21-11-18 23:00",
          "s21-11-19 08:00",
          "s21-11-23 23:00",
          "s21-11-24 08:00",
          "s21-11-25 06:00",
          "s21-11-25 13:00",
          "s21-11-26 13:00",
          "s21-11-29 06:00",
          "s21-11-29 10:00",
          "s21-11-29 13:00",
          "s21-11-30 05:00",
          "s21-11-30 17:00",
          "s21-12-01 05:00",
          "s21-12-01 20:00",
          "s21-12-02 09:00",
          "s21-12-02 22:00",
          "s21-12-06 09:00",
          "s21-12-07 13:00",
          "s21-12-08 03:00",
          "s21-12-08 12:00",
          "s21-12-09 20:00",
          "s21-12-10 11:00",
          "s21-12-10 18:00",
          "s21-12-13 08:00",
          "s21-12-14 11:00",
          "s21-12-15 01:00",
          "s21-12-15 06:00",
          "s21-12-15 18:00",
          "s21-12-16 02:00",
          "s21-12-17 07:00",
          "s21-12-17 09:00",
          "s21-12-17 10:00",
          "s21-12-20 20:00",
          "s21-12-20 23:00",
          "s21-12-21 08:00",
          "s21-12-24 03:00",
          "s21-12-24 16:00",
          "s21-12-24 17:00",
          "s21-12-24 18:00",
          "s21-12-24 19:00",
          "s21-12-27 05:00",
          "s21-12-28 09:00",
          "s21-12-28 11:00",
          "s21-12-28 21:00",
          "s21-12-29 14:00",
          "s21-12-30 09:00",
          "s21-12-30 18:00"
         ],
         "y": [
          -15.199999999999658,
          19.500000000001183,
          58.50000000000132,
          53.90000000000227,
          151.30000000000308,
          205.90000000000327,
          224.1000000000026,
          218.2000000000017,
          208.2000000000028,
          195.70000000000306,
          158.9000000000018,
          112.50000000000202,
          68.10000000000203,
          20.000000000002217,
          46.80000000000237,
          59.9000000000016,
          48.50000000000241,
          16.500000000003713,
          -20.49999999999665,
          -25.29999999999701,
          -47.19999999999615,
          -21.89999999999694,
          -2.699999999997722,
          -33.199999999997694,
          -59.49999999999902,
          -58.70000000000044,
          -95.30000000000041,
          -124.29999999999944,
          -107.09999999999778,
          -54.29999999999605,
          -45.19999999999638,
          -10.799999999997503,
          -95.29999999999819,
          60.200000000001324,
          104.30000000000157,
          49.20000000000254,
          75.30000000000256,
          113.1000000000015,
          83.50000000000077,
          57.50000000000141,
          10.300000000003052,
          32.000000000003105,
          15.400000000003157,
          51.10000000000389,
          56.100000000003334,
          54.800000000001475,
          46.300000000001305,
          62.70000000000216,
          54.700000000003044,
          34.60000000000459,
          47.30000000000564,
          40.20000000000576,
          74.30000000000489,
          39.600000000004044,
          7.700000000003783,
          16.70000000000279,
          12.600000000002577,
          1.9000000000035335,
          -22.1999999999967,
          -22.099999999996044,
          -46.09999999999562,
          135.30000000000481,
          141.50000000000546,
          95.90000000000427,
          169.90000000000276,
          165.90000000000097,
          162.80000000000064,
          118.70000000000039,
          104.6999999999997,
          -5.699999999999676,
          -20.299999999999844,
          -53.700000000001054,
          -7.5000000000025935,
          27.699999999997083,
          -3.3000000000017238,
          -28.200000000000536,
          -25.10000000000021,
          -25.800000000000356,
          -40.29999999999987,
          -55.79999999999927,
          -52.69999999999895,
          -6.6999999999995765,
          -34.30000000000054,
          -47.300000000001326,
          -67.60000000000109,
          -92.60000000000056,
          -93.10000000000161,
          -58.30000000000234,
          -33.40000000000131,
          79.70000000000022,
          81.2999999999996,
          202.4999999999987,
          290.9999999999989,
          270.1999999999981,
          247.49999999999818,
          218.30000000000007,
          227.3000000000013,
          268.3000000000012,
          315.6000000000002,
          305.89999999999884,
          294.69999999999874,
          259.4999999999991,
          246.69999999999962,
          225.50000000000063,
          248.80000000000007,
          196.3000000000003,
          178.30000000000229,
          178.40000000000293,
          118.00000000000247,
          137.2000000000017,
          120.300000000002,
          65.70000000000402,
          91.20000000000455,
          92.3000000000051,
          63.90000000000556,
          47.00000000000587,
          45.50000000000715,
          61.700000000006696,
          2.5000000000052225,
          75.30000000000476,
          64.8000000000048,
          72.40000000000575,
          138.7000000000071,
          180.50000000000782,
          203.9000000000079,
          389.90000000000737,
          395.00000000000745,
          465.70000000000874,
          466.30000000001047,
          379.1000000000121,
          378.50000000001256,
          312.8000000000129,
          296.8000000000147,
          266.7000000000151,
          261.30000000001525,
          283.2000000000166,
          288.1000000000176,
          248.10000000001756,
          221.3000000000174,
          215.90000000001754,
          188.70000000001698,
          160.50000000001654,
          218.20000000001707,
          171.10000000001716,
          179.20000000001693,
          157.10000000001648,
          197.70000000001602,
          158.1000000000164,
          129.90000000001595,
          129.90000000001595,
          113.50000000001731,
          119.90000000001704,
          107.6000000000164,
          110.60000000001607,
          103.10000000001578,
          81.30000000001729,
          66.70000000001934,
          104.00000000001945,
          147.70000000001932,
          255.90000000001982,
          252.30000000002065,
          291.9000000000225,
          315.70000000002295,
          470.80000000002207,
          471.4000000000216,
          431.9000000000226,
          464.80000000002275,
          635.8000000000217,
          655.7000000000211,
          596.5000000000196,
          554.7000000000188,
          551.3000000000187,
          586.3000000000193,
          554.1000000000192,
          505.3000000000193,
          580.3000000000198,
          569.1000000000198,
          585.900000000021,
          553.3000000000228,
          529.5000000000246,
          525.2000000000253,
          505.500000000025,
          471.2000000000246,
          472.5000000000242,
          418.9000000000239,
          357.30000000002445,
          295.2000000000262,
          237.700000000027,
          219.8000000000274,
          263.90000000002766,
          230.90000000002686,
          196.70000000002707,
          129.5000000000287,
          102.50000000002946,
          81.00000000002849,
          19.000000000028663,
          -16.699999999969847,
          -42.899999999968294,
          -61.59999999996646,
          -70.49999999996481,
          -93.19999999996476,
          -125.09999999996502,
          -66.799999999965,
          -75.59999999996492,
          -104.09999999996512,
          -23.499999999965567,
          -23.099999999965167,
          -53.79999999996423,
          112.70000000003631,
          122.60000000003677,
          121.30000000003713,
          121.40000000003556,
          120.80000000003385,
          112.70000000003407,
          156.6000000000352,
          147.6000000000362,
          121.90000000003658,
          77.10000000003619,
          61.90000000003653,
          33.3000000000379,
          33.3000000000379
         ]
        }
       ],
       "layout": {
        "font": {
         "color": "#e1e1e1",
         "size": 8
        },
        "height": 400,
        "margin": {
         "b": 10,
         "l": 10,
         "r": 10,
         "t": 10
        },
        "paper_bgcolor": "#2c303c",
        "plot_bgcolor": "#2c303c",
        "template": {
         "data": {
          "bar": [
           {
            "error_x": {
             "color": "#2a3f5f"
            },
            "error_y": {
             "color": "#2a3f5f"
            },
            "marker": {
             "line": {
              "color": "#E5ECF6",
              "width": 0.5
             },
             "pattern": {
              "fillmode": "overlay",
              "size": 10,
              "solidity": 0.2
             }
            },
            "type": "bar"
           }
          ],
          "barpolar": [
           {
            "marker": {
             "line": {
              "color": "#E5ECF6",
              "width": 0.5
             },
             "pattern": {
              "fillmode": "overlay",
              "size": 10,
              "solidity": 0.2
             }
            },
            "type": "barpolar"
           }
          ],
          "carpet": [
           {
            "aaxis": {
             "endlinecolor": "#2a3f5f",
             "gridcolor": "white",
             "linecolor": "white",
             "minorgridcolor": "white",
             "startlinecolor": "#2a3f5f"
            },
            "baxis": {
             "endlinecolor": "#2a3f5f",
             "gridcolor": "white",
             "linecolor": "white",
             "minorgridcolor": "white",
             "startlinecolor": "#2a3f5f"
            },
            "type": "carpet"
           }
          ],
          "choropleth": [
           {
            "colorbar": {
             "outlinewidth": 0,
             "ticks": ""
            },
            "type": "choropleth"
           }
          ],
          "contour": [
           {
            "colorbar": {
             "outlinewidth": 0,
             "ticks": ""
            },
            "colorscale": [
             [
              0,
              "#0d0887"
             ],
             [
              0.1111111111111111,
              "#46039f"
             ],
             [
              0.2222222222222222,
              "#7201a8"
             ],
             [
              0.3333333333333333,
              "#9c179e"
             ],
             [
              0.4444444444444444,
              "#bd3786"
             ],
             [
              0.5555555555555556,
              "#d8576b"
             ],
             [
              0.6666666666666666,
              "#ed7953"
             ],
             [
              0.7777777777777778,
              "#fb9f3a"
             ],
             [
              0.8888888888888888,
              "#fdca26"
             ],
             [
              1,
              "#f0f921"
             ]
            ],
            "type": "contour"
           }
          ],
          "contourcarpet": [
           {
            "colorbar": {
             "outlinewidth": 0,
             "ticks": ""
            },
            "type": "contourcarpet"
           }
          ],
          "heatmap": [
           {
            "colorbar": {
             "outlinewidth": 0,
             "ticks": ""
            },
            "colorscale": [
             [
              0,
              "#0d0887"
             ],
             [
              0.1111111111111111,
              "#46039f"
             ],
             [
              0.2222222222222222,
              "#7201a8"
             ],
             [
              0.3333333333333333,
              "#9c179e"
             ],
             [
              0.4444444444444444,
              "#bd3786"
             ],
             [
              0.5555555555555556,
              "#d8576b"
             ],
             [
              0.6666666666666666,
              "#ed7953"
             ],
             [
              0.7777777777777778,
              "#fb9f3a"
             ],
             [
              0.8888888888888888,
              "#fdca26"
             ],
             [
              1,
              "#f0f921"
             ]
            ],
            "type": "heatmap"
           }
          ],
          "heatmapgl": [
           {
            "colorbar": {
             "outlinewidth": 0,
             "ticks": ""
            },
            "colorscale": [
             [
              0,
              "#0d0887"
             ],
             [
              0.1111111111111111,
              "#46039f"
             ],
             [
              0.2222222222222222,
              "#7201a8"
             ],
             [
              0.3333333333333333,
              "#9c179e"
             ],
             [
              0.4444444444444444,
              "#bd3786"
             ],
             [
              0.5555555555555556,
              "#d8576b"
             ],
             [
              0.6666666666666666,
              "#ed7953"
             ],
             [
              0.7777777777777778,
              "#fb9f3a"
             ],
             [
              0.8888888888888888,
              "#fdca26"
             ],
             [
              1,
              "#f0f921"
             ]
            ],
            "type": "heatmapgl"
           }
          ],
          "histogram": [
           {
            "marker": {
             "pattern": {
              "fillmode": "overlay",
              "size": 10,
              "solidity": 0.2
             }
            },
            "type": "histogram"
           }
          ],
          "histogram2d": [
           {
            "colorbar": {
             "outlinewidth": 0,
             "ticks": ""
            },
            "colorscale": [
             [
              0,
              "#0d0887"
             ],
             [
              0.1111111111111111,
              "#46039f"
             ],
             [
              0.2222222222222222,
              "#7201a8"
             ],
             [
              0.3333333333333333,
              "#9c179e"
             ],
             [
              0.4444444444444444,
              "#bd3786"
             ],
             [
              0.5555555555555556,
              "#d8576b"
             ],
             [
              0.6666666666666666,
              "#ed7953"
             ],
             [
              0.7777777777777778,
              "#fb9f3a"
             ],
             [
              0.8888888888888888,
              "#fdca26"
             ],
             [
              1,
              "#f0f921"
             ]
            ],
            "type": "histogram2d"
           }
          ],
          "histogram2dcontour": [
           {
            "colorbar": {
             "outlinewidth": 0,
             "ticks": ""
            },
            "colorscale": [
             [
              0,
              "#0d0887"
             ],
             [
              0.1111111111111111,
              "#46039f"
             ],
             [
              0.2222222222222222,
              "#7201a8"
             ],
             [
              0.3333333333333333,
              "#9c179e"
             ],
             [
              0.4444444444444444,
              "#bd3786"
             ],
             [
              0.5555555555555556,
              "#d8576b"
             ],
             [
              0.6666666666666666,
              "#ed7953"
             ],
             [
              0.7777777777777778,
              "#fb9f3a"
             ],
             [
              0.8888888888888888,
              "#fdca26"
             ],
             [
              1,
              "#f0f921"
             ]
            ],
            "type": "histogram2dcontour"
           }
          ],
          "mesh3d": [
           {
            "colorbar": {
             "outlinewidth": 0,
             "ticks": ""
            },
            "type": "mesh3d"
           }
          ],
          "parcoords": [
           {
            "line": {
             "colorbar": {
              "outlinewidth": 0,
              "ticks": ""
             }
            },
            "type": "parcoords"
           }
          ],
          "pie": [
           {
            "automargin": true,
            "type": "pie"
           }
          ],
          "scatter": [
           {
            "fillpattern": {
             "fillmode": "overlay",
             "size": 10,
             "solidity": 0.2
            },
            "type": "scatter"
           }
          ],
          "scatter3d": [
           {
            "line": {
             "colorbar": {
              "outlinewidth": 0,
              "ticks": ""
             }
            },
            "marker": {
             "colorbar": {
              "outlinewidth": 0,
              "ticks": ""
             }
            },
            "type": "scatter3d"
           }
          ],
          "scattercarpet": [
           {
            "marker": {
             "colorbar": {
              "outlinewidth": 0,
              "ticks": ""
             }
            },
            "type": "scattercarpet"
           }
          ],
          "scattergeo": [
           {
            "marker": {
             "colorbar": {
              "outlinewidth": 0,
              "ticks": ""
             }
            },
            "type": "scattergeo"
           }
          ],
          "scattergl": [
           {
            "marker": {
             "colorbar": {
              "outlinewidth": 0,
              "ticks": ""
             }
            },
            "type": "scattergl"
           }
          ],
          "scattermapbox": [
           {
            "marker": {
             "colorbar": {
              "outlinewidth": 0,
              "ticks": ""
             }
            },
            "type": "scattermapbox"
           }
          ],
          "scatterpolar": [
           {
            "marker": {
             "colorbar": {
              "outlinewidth": 0,
              "ticks": ""
             }
            },
            "type": "scatterpolar"
           }
          ],
          "scatterpolargl": [
           {
            "marker": {
             "colorbar": {
              "outlinewidth": 0,
              "ticks": ""
             }
            },
            "type": "scatterpolargl"
           }
          ],
          "scatterternary": [
           {
            "marker": {
             "colorbar": {
              "outlinewidth": 0,
              "ticks": ""
             }
            },
            "type": "scatterternary"
           }
          ],
          "surface": [
           {
            "colorbar": {
             "outlinewidth": 0,
             "ticks": ""
            },
            "colorscale": [
             [
              0,
              "#0d0887"
             ],
             [
              0.1111111111111111,
              "#46039f"
             ],
             [
              0.2222222222222222,
              "#7201a8"
             ],
             [
              0.3333333333333333,
              "#9c179e"
             ],
             [
              0.4444444444444444,
              "#bd3786"
             ],
             [
              0.5555555555555556,
              "#d8576b"
             ],
             [
              0.6666666666666666,
              "#ed7953"
             ],
             [
              0.7777777777777778,
              "#fb9f3a"
             ],
             [
              0.8888888888888888,
              "#fdca26"
             ],
             [
              1,
              "#f0f921"
             ]
            ],
            "type": "surface"
           }
          ],
          "table": [
           {
            "cells": {
             "fill": {
              "color": "#EBF0F8"
             },
             "line": {
              "color": "white"
             }
            },
            "header": {
             "fill": {
              "color": "#C8D4E3"
             },
             "line": {
              "color": "white"
             }
            },
            "type": "table"
           }
          ]
         },
         "layout": {
          "annotationdefaults": {
           "arrowcolor": "#2a3f5f",
           "arrowhead": 0,
           "arrowwidth": 1
          },
          "autotypenumbers": "strict",
          "coloraxis": {
           "colorbar": {
            "outlinewidth": 0,
            "ticks": ""
           }
          },
          "colorscale": {
           "diverging": [
            [
             0,
             "#8e0152"
            ],
            [
             0.1,
             "#c51b7d"
            ],
            [
             0.2,
             "#de77ae"
            ],
            [
             0.3,
             "#f1b6da"
            ],
            [
             0.4,
             "#fde0ef"
            ],
            [
             0.5,
             "#f7f7f7"
            ],
            [
             0.6,
             "#e6f5d0"
            ],
            [
             0.7,
             "#b8e186"
            ],
            [
             0.8,
             "#7fbc41"
            ],
            [
             0.9,
             "#4d9221"
            ],
            [
             1,
             "#276419"
            ]
           ],
           "sequential": [
            [
             0,
             "#0d0887"
            ],
            [
             0.1111111111111111,
             "#46039f"
            ],
            [
             0.2222222222222222,
             "#7201a8"
            ],
            [
             0.3333333333333333,
             "#9c179e"
            ],
            [
             0.4444444444444444,
             "#bd3786"
            ],
            [
             0.5555555555555556,
             "#d8576b"
            ],
            [
             0.6666666666666666,
             "#ed7953"
            ],
            [
             0.7777777777777778,
             "#fb9f3a"
            ],
            [
             0.8888888888888888,
             "#fdca26"
            ],
            [
             1,
             "#f0f921"
            ]
           ],
           "sequentialminus": [
            [
             0,
             "#0d0887"
            ],
            [
             0.1111111111111111,
             "#46039f"
            ],
            [
             0.2222222222222222,
             "#7201a8"
            ],
            [
             0.3333333333333333,
             "#9c179e"
            ],
            [
             0.4444444444444444,
             "#bd3786"
            ],
            [
             0.5555555555555556,
             "#d8576b"
            ],
            [
             0.6666666666666666,
             "#ed7953"
            ],
            [
             0.7777777777777778,
             "#fb9f3a"
            ],
            [
             0.8888888888888888,
             "#fdca26"
            ],
            [
             1,
             "#f0f921"
            ]
           ]
          },
          "colorway": [
           "#636efa",
           "#EF553B",
           "#00cc96",
           "#ab63fa",
           "#FFA15A",
           "#19d3f3",
           "#FF6692",
           "#B6E880",
           "#FF97FF",
           "#FECB52"
          ],
          "font": {
           "color": "#2a3f5f"
          },
          "geo": {
           "bgcolor": "white",
           "lakecolor": "white",
           "landcolor": "#E5ECF6",
           "showlakes": true,
           "showland": true,
           "subunitcolor": "white"
          },
          "hoverlabel": {
           "align": "left"
          },
          "hovermode": "closest",
          "mapbox": {
           "style": "light"
          },
          "paper_bgcolor": "white",
          "plot_bgcolor": "#E5ECF6",
          "polar": {
           "angularaxis": {
            "gridcolor": "white",
            "linecolor": "white",
            "ticks": ""
           },
           "bgcolor": "#E5ECF6",
           "radialaxis": {
            "gridcolor": "white",
            "linecolor": "white",
            "ticks": ""
           }
          },
          "scene": {
           "xaxis": {
            "backgroundcolor": "#E5ECF6",
            "gridcolor": "white",
            "gridwidth": 2,
            "linecolor": "white",
            "showbackground": true,
            "ticks": "",
            "zerolinecolor": "white"
           },
           "yaxis": {
            "backgroundcolor": "#E5ECF6",
            "gridcolor": "white",
            "gridwidth": 2,
            "linecolor": "white",
            "showbackground": true,
            "ticks": "",
            "zerolinecolor": "white"
           },
           "zaxis": {
            "backgroundcolor": "#E5ECF6",
            "gridcolor": "white",
            "gridwidth": 2,
            "linecolor": "white",
            "showbackground": true,
            "ticks": "",
            "zerolinecolor": "white"
           }
          },
          "shapedefaults": {
           "line": {
            "color": "#2a3f5f"
           }
          },
          "ternary": {
           "aaxis": {
            "gridcolor": "white",
            "linecolor": "white",
            "ticks": ""
           },
           "baxis": {
            "gridcolor": "white",
            "linecolor": "white",
            "ticks": ""
           },
           "bgcolor": "#E5ECF6",
           "caxis": {
            "gridcolor": "white",
            "linecolor": "white",
            "ticks": ""
           }
          },
          "title": {
           "x": 0.05
          },
          "xaxis": {
           "automargin": true,
           "gridcolor": "white",
           "linecolor": "white",
           "ticks": "",
           "title": {
            "standoff": 15
           },
           "zerolinecolor": "white",
           "zerolinewidth": 2
          },
          "yaxis": {
           "automargin": true,
           "gridcolor": "white",
           "linecolor": "white",
           "ticks": "",
           "title": {
            "standoff": 15
           },
           "zerolinecolor": "white",
           "zerolinewidth": 2
          }
         }
        },
        "width": 900,
        "xaxis": {
         "gridcolor": "#1f292f",
         "nticks": 5,
         "rangeslider": {
          "visible": false
         }
        },
        "yaxis": {
         "gridcolor": "#1f292f"
        }
       }
      }
     },
     "metadata": {},
     "output_type": "display_data"
    }
   ],
   "source": [
    "for curr in df_MA_10_MA_20[df_MA_10_MA_20.total_gain > 0].pair.unique():\n",
    "    temp_gains = df_ma_trades_h1[(df_ma_trades_h1.cross==cross)&\n",
    "                                (df_ma_trades_h1.pair== curr)].copy()\n",
    "\n",
    "    print(curr, int(temp_gains.GAIN.sum()))\n",
    "    cp = CandlePlot(temp_gains, candles=False)\n",
    "    cp.show_plot(line_traces=['GAIN_C'])\n",
    "\n",
    "    "
   ]
  },
  {
   "cell_type": "code",
   "execution_count": null,
   "id": "8d401ff4",
   "metadata": {},
   "outputs": [],
   "source": []
  },
  {
   "cell_type": "code",
   "execution_count": null,
   "id": "42838d69",
   "metadata": {},
   "outputs": [],
   "source": []
  },
  {
   "cell_type": "code",
   "execution_count": null,
   "id": "5fbfec6e",
   "metadata": {},
   "outputs": [],
   "source": []
  },
  {
   "cell_type": "code",
   "execution_count": null,
   "id": "5dc2f46a",
   "metadata": {},
   "outputs": [],
   "source": []
  },
  {
   "cell_type": "code",
   "execution_count": null,
   "id": "05f9cf03",
   "metadata": {},
   "outputs": [],
   "source": []
  },
  {
   "cell_type": "code",
   "execution_count": null,
   "id": "407f22f3",
   "metadata": {},
   "outputs": [],
   "source": []
  },
  {
   "cell_type": "code",
   "execution_count": null,
   "id": "7a624126",
   "metadata": {},
   "outputs": [],
   "source": []
  }
 ],
 "metadata": {
  "kernelspec": {
   "display_name": "Python 3.10.8 ('myvenv': venv)",
   "language": "python",
   "name": "python3"
  },
  "language_info": {
   "codemirror_mode": {
    "name": "ipython",
    "version": 3
   },
   "file_extension": ".py",
   "mimetype": "text/x-python",
   "name": "python",
   "nbconvert_exporter": "python",
   "pygments_lexer": "ipython3",
   "version": "3.10.8"
  },
  "vscode": {
   "interpreter": {
    "hash": "f47b9d5ed6caf0432f51db582216f348073930d7fe343a8c08cc1b68a090efa4"
   }
  }
 },
 "nbformat": 4,
 "nbformat_minor": 5
}
